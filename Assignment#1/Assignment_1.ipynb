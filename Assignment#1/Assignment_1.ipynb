{
 "cells": [
  {
   "cell_type": "markdown",
   "metadata": {
    "id": "gIVt13JbTYHA"
   },
   "source": [
    "Your final report should be written up in a Jupyter notebook.  It should be posted to a public Github repo as an ipynb AND it should be saved as an html file and submitted to this assignment via courseworks.  Please include the link to your Github repo in this html file.\n",
    "\n",
    "Feel free to use R, Excel, or your preferred program to update your csv file before building your model.    You are welcome, but not required, to add any other country level features you would like to your dataset before using the data to complete your report. \n",
    "\n",
    "### Your report should include the following information:\n",
    "\n",
    "### Explore bivariate results (Use visualizations!)\n",
    "- Describe any relationships you see between particular features and the target variable\n",
    "\n",
    "### Examine features that predict happiness categories using one or more models that allow for automatic feature selection\n",
    "- Explain any meaningful findings\n",
    "\n",
    "### Run at least three prediction models to try to predict World Happiness well.\n",
    "\n",
    "- Discuss which models performed better and point out relevant hyper-parameter values for successful models.\n",
    "  - Gradiant Boosting(XGBoost)\n",
    "  - Keras\n",
    "  - SVM\n",
    "  \n",
    "  \n",
    "- Submit your best model to the leader board for the World Happiness AI Model Share competition.\n",
    "   - You have the option to present and/or discuss these models in your report, but it is not required."
   ]
  },
  {
   "cell_type": "markdown",
   "metadata": {
    "id": "TGonhmOTTYHF"
   },
   "source": [
    "## EDA Plan\n",
    "     1. Understanding Data: Check columns, data type, null values, shape, etc..\n",
    "     2. Build graphs to explkore bivariate relationships between feautres and the target vairables to draw insights for modeling.\n",
    "     3. Get ride of Outliers\n",
    "     ## 4. If we were to recode \"region\" into dummies, would that improve the model?"
   ]
  },
  {
   "cell_type": "code",
   "execution_count": null,
   "metadata": {
    "colab": {
     "base_uri": "https://localhost:8080/"
    },
    "id": "0Xvn_eKQTYHF",
    "outputId": "eb61902e-cf35-4ef8-fcbf-5f88610f90b3"
   },
   "outputs": [
    {
     "name": "stdout",
     "output_type": "stream",
     "text": [
      "Requirement already up-to-date: scikit-learn in /usr/local/lib/python3.6/dist-packages (0.24.1)\n",
      "Requirement already satisfied, skipping upgrade: scipy>=0.19.1 in /usr/local/lib/python3.6/dist-packages (from scikit-learn) (1.4.1)\n",
      "Requirement already satisfied, skipping upgrade: numpy>=1.13.3 in /usr/local/lib/python3.6/dist-packages (from scikit-learn) (1.19.5)\n",
      "Requirement already satisfied, skipping upgrade: threadpoolctl>=2.0.0 in /usr/local/lib/python3.6/dist-packages (from scikit-learn) (2.1.0)\n",
      "Requirement already satisfied, skipping upgrade: joblib>=0.11 in /usr/local/lib/python3.6/dist-packages (from scikit-learn) (1.0.0)\n",
      "`%tensorflow_version` only switches the major version: 1.x or 2.x.\n",
      "You set: `1`. This will be interpreted as: `1.x`.\n",
      "\n",
      "\n",
      "TensorFlow 1.x selected.\n"
     ]
    }
   ],
   "source": [
    "!pip install scikit-learn --upgrade \n",
    "import os\n",
    "os.environ['TF_KERAS'] = '1'\n",
    "% tensorflow_version 1"
   ]
  },
  {
   "cell_type": "code",
   "execution_count": null,
   "metadata": {
    "id": "ExopHyYgTYHG"
   },
   "outputs": [],
   "source": [
    "import matplotlib.pyplot as plt\n",
    "import numpy as np\n",
    "import pandas as pd\n",
    "import seaborn as sns"
   ]
  },
  {
   "cell_type": "code",
   "execution_count": null,
   "metadata": {
    "colab": {
     "base_uri": "https://localhost:8080/"
    },
    "id": "jVmn5baPTYHG",
    "outputId": "349186dc-a12e-4c6a-ea3d-80b2074e694f"
   },
   "outputs": [
    {
     "data": {
      "text/plain": [
       "(156, 11)"
      ]
     },
     "execution_count": 5,
     "metadata": {
      "tags": []
     },
     "output_type": "execute_result"
    }
   ],
   "source": [
    "Happy = pd.read_csv(\"worldhappiness2019.csv\")\n",
    "Happy.shape"
   ]
  },
  {
   "cell_type": "code",
   "execution_count": null,
   "metadata": {
    "colab": {
     "base_uri": "https://localhost:8080/"
    },
    "id": "Om-xI-nmTYHH",
    "outputId": "d8ecaeaa-0814-441d-b68e-6cb9ebc2e1e8"
   },
   "outputs": [
    {
     "data": {
      "text/plain": [
       "Happiness_level\n",
       "Average      31\n",
       "High         32\n",
       "Low          31\n",
       "Very High    31\n",
       "Very Low     31\n",
       "Name: Happiness_level, dtype: int64"
      ]
     },
     "execution_count": 6,
     "metadata": {
      "tags": []
     },
     "output_type": "execute_result"
    }
   ],
   "source": [
    "level_counts = Happy.groupby(\"Happiness_level\").Happiness_level.count()\n",
    "level_counts"
   ]
  },
  {
   "cell_type": "code",
   "execution_count": null,
   "metadata": {
    "colab": {
     "base_uri": "https://localhost:8080/",
     "height": 297
    },
    "id": "f5IJGBD0TYHH",
    "outputId": "344eba39-5c2a-4ff3-b68c-8e64ce3d7b83"
   },
   "outputs": [
    {
     "data": {
      "text/html": [
       "<div>\n",
       "<style scoped>\n",
       "    .dataframe tbody tr th:only-of-type {\n",
       "        vertical-align: middle;\n",
       "    }\n",
       "\n",
       "    .dataframe tbody tr th {\n",
       "        vertical-align: top;\n",
       "    }\n",
       "\n",
       "    .dataframe thead th {\n",
       "        text-align: right;\n",
       "    }\n",
       "</style>\n",
       "<table border=\"1\" class=\"dataframe\">\n",
       "  <thead>\n",
       "    <tr style=\"text-align: right;\">\n",
       "      <th></th>\n",
       "      <th>Happiness_level</th>\n",
       "      <th>Country or region</th>\n",
       "      <th>GDP per capita</th>\n",
       "      <th>Social support</th>\n",
       "      <th>Healthy life expectancy</th>\n",
       "      <th>Freedom to make life choices</th>\n",
       "      <th>Generosity</th>\n",
       "      <th>Perceptions of corruption</th>\n",
       "      <th>name</th>\n",
       "      <th>region</th>\n",
       "      <th>sub-region</th>\n",
       "    </tr>\n",
       "  </thead>\n",
       "  <tbody>\n",
       "    <tr>\n",
       "      <th>0</th>\n",
       "      <td>Very High</td>\n",
       "      <td>Finland</td>\n",
       "      <td>1.340</td>\n",
       "      <td>1.587</td>\n",
       "      <td>0.986</td>\n",
       "      <td>0.596</td>\n",
       "      <td>0.153</td>\n",
       "      <td>0.393</td>\n",
       "      <td>Finland</td>\n",
       "      <td>Europe</td>\n",
       "      <td>Northern Europe</td>\n",
       "    </tr>\n",
       "    <tr>\n",
       "      <th>1</th>\n",
       "      <td>Very High</td>\n",
       "      <td>Denmark</td>\n",
       "      <td>1.383</td>\n",
       "      <td>1.573</td>\n",
       "      <td>0.996</td>\n",
       "      <td>0.592</td>\n",
       "      <td>0.252</td>\n",
       "      <td>0.410</td>\n",
       "      <td>Denmark</td>\n",
       "      <td>Europe</td>\n",
       "      <td>Northern Europe</td>\n",
       "    </tr>\n",
       "    <tr>\n",
       "      <th>2</th>\n",
       "      <td>Very High</td>\n",
       "      <td>Norway</td>\n",
       "      <td>1.488</td>\n",
       "      <td>1.582</td>\n",
       "      <td>1.028</td>\n",
       "      <td>0.603</td>\n",
       "      <td>0.271</td>\n",
       "      <td>0.341</td>\n",
       "      <td>Norway</td>\n",
       "      <td>Europe</td>\n",
       "      <td>Northern Europe</td>\n",
       "    </tr>\n",
       "    <tr>\n",
       "      <th>3</th>\n",
       "      <td>Very High</td>\n",
       "      <td>Iceland</td>\n",
       "      <td>1.380</td>\n",
       "      <td>1.624</td>\n",
       "      <td>1.026</td>\n",
       "      <td>0.591</td>\n",
       "      <td>0.354</td>\n",
       "      <td>0.118</td>\n",
       "      <td>Iceland</td>\n",
       "      <td>Europe</td>\n",
       "      <td>Northern Europe</td>\n",
       "    </tr>\n",
       "    <tr>\n",
       "      <th>4</th>\n",
       "      <td>Very High</td>\n",
       "      <td>Netherlands</td>\n",
       "      <td>1.396</td>\n",
       "      <td>1.522</td>\n",
       "      <td>0.999</td>\n",
       "      <td>0.557</td>\n",
       "      <td>0.322</td>\n",
       "      <td>0.298</td>\n",
       "      <td>Netherlands</td>\n",
       "      <td>Europe</td>\n",
       "      <td>Western Europe</td>\n",
       "    </tr>\n",
       "  </tbody>\n",
       "</table>\n",
       "</div>"
      ],
      "text/plain": [
       "  Happiness_level Country or region  ...  region       sub-region\n",
       "0       Very High           Finland  ...  Europe  Northern Europe\n",
       "1       Very High           Denmark  ...  Europe  Northern Europe\n",
       "2       Very High            Norway  ...  Europe  Northern Europe\n",
       "3       Very High           Iceland  ...  Europe  Northern Europe\n",
       "4       Very High       Netherlands  ...  Europe   Western Europe\n",
       "\n",
       "[5 rows x 11 columns]"
      ]
     },
     "execution_count": 7,
     "metadata": {
      "tags": []
     },
     "output_type": "execute_result"
    }
   ],
   "source": [
    "Happy.head()"
   ]
  },
  {
   "cell_type": "code",
   "execution_count": null,
   "metadata": {
    "colab": {
     "base_uri": "https://localhost:8080/",
     "height": 287
    },
    "id": "UK9c5AMOTYHH",
    "outputId": "d279e8eb-90fa-4f6d-8368-5e599d4fee3d",
    "scrolled": true
   },
   "outputs": [
    {
     "data": {
      "text/html": [
       "<div>\n",
       "<style scoped>\n",
       "    .dataframe tbody tr th:only-of-type {\n",
       "        vertical-align: middle;\n",
       "    }\n",
       "\n",
       "    .dataframe tbody tr th {\n",
       "        vertical-align: top;\n",
       "    }\n",
       "\n",
       "    .dataframe thead th {\n",
       "        text-align: right;\n",
       "    }\n",
       "</style>\n",
       "<table border=\"1\" class=\"dataframe\">\n",
       "  <thead>\n",
       "    <tr style=\"text-align: right;\">\n",
       "      <th></th>\n",
       "      <th>GDP per capita</th>\n",
       "      <th>Social support</th>\n",
       "      <th>Healthy life expectancy</th>\n",
       "      <th>Freedom to make life choices</th>\n",
       "      <th>Generosity</th>\n",
       "      <th>Perceptions of corruption</th>\n",
       "    </tr>\n",
       "  </thead>\n",
       "  <tbody>\n",
       "    <tr>\n",
       "      <th>count</th>\n",
       "      <td>156.000000</td>\n",
       "      <td>156.000000</td>\n",
       "      <td>156.000000</td>\n",
       "      <td>156.000000</td>\n",
       "      <td>156.000000</td>\n",
       "      <td>156.000000</td>\n",
       "    </tr>\n",
       "    <tr>\n",
       "      <th>mean</th>\n",
       "      <td>0.905147</td>\n",
       "      <td>1.208814</td>\n",
       "      <td>0.725244</td>\n",
       "      <td>0.392571</td>\n",
       "      <td>0.184846</td>\n",
       "      <td>0.110603</td>\n",
       "    </tr>\n",
       "    <tr>\n",
       "      <th>std</th>\n",
       "      <td>0.398389</td>\n",
       "      <td>0.299191</td>\n",
       "      <td>0.242124</td>\n",
       "      <td>0.143289</td>\n",
       "      <td>0.095254</td>\n",
       "      <td>0.094538</td>\n",
       "    </tr>\n",
       "    <tr>\n",
       "      <th>min</th>\n",
       "      <td>0.000000</td>\n",
       "      <td>0.000000</td>\n",
       "      <td>0.000000</td>\n",
       "      <td>0.000000</td>\n",
       "      <td>0.000000</td>\n",
       "      <td>0.000000</td>\n",
       "    </tr>\n",
       "    <tr>\n",
       "      <th>25%</th>\n",
       "      <td>0.602750</td>\n",
       "      <td>1.055750</td>\n",
       "      <td>0.547750</td>\n",
       "      <td>0.308000</td>\n",
       "      <td>0.108750</td>\n",
       "      <td>0.047000</td>\n",
       "    </tr>\n",
       "    <tr>\n",
       "      <th>50%</th>\n",
       "      <td>0.960000</td>\n",
       "      <td>1.271500</td>\n",
       "      <td>0.789000</td>\n",
       "      <td>0.417000</td>\n",
       "      <td>0.177500</td>\n",
       "      <td>0.085500</td>\n",
       "    </tr>\n",
       "    <tr>\n",
       "      <th>75%</th>\n",
       "      <td>1.232500</td>\n",
       "      <td>1.452500</td>\n",
       "      <td>0.881750</td>\n",
       "      <td>0.507250</td>\n",
       "      <td>0.248250</td>\n",
       "      <td>0.141250</td>\n",
       "    </tr>\n",
       "    <tr>\n",
       "      <th>max</th>\n",
       "      <td>1.684000</td>\n",
       "      <td>1.624000</td>\n",
       "      <td>1.141000</td>\n",
       "      <td>0.631000</td>\n",
       "      <td>0.566000</td>\n",
       "      <td>0.453000</td>\n",
       "    </tr>\n",
       "  </tbody>\n",
       "</table>\n",
       "</div>"
      ],
      "text/plain": [
       "       GDP per capita  Social support  ...  Generosity  Perceptions of corruption\n",
       "count      156.000000      156.000000  ...  156.000000                 156.000000\n",
       "mean         0.905147        1.208814  ...    0.184846                   0.110603\n",
       "std          0.398389        0.299191  ...    0.095254                   0.094538\n",
       "min          0.000000        0.000000  ...    0.000000                   0.000000\n",
       "25%          0.602750        1.055750  ...    0.108750                   0.047000\n",
       "50%          0.960000        1.271500  ...    0.177500                   0.085500\n",
       "75%          1.232500        1.452500  ...    0.248250                   0.141250\n",
       "max          1.684000        1.624000  ...    0.566000                   0.453000\n",
       "\n",
       "[8 rows x 6 columns]"
      ]
     },
     "execution_count": 8,
     "metadata": {
      "tags": []
     },
     "output_type": "execute_result"
    }
   ],
   "source": [
    "Happy.describe()"
   ]
  },
  {
   "cell_type": "markdown",
   "metadata": {
    "id": "3fOx3z-DTYHI"
   },
   "source": [
    "## Plots exploring bivariate relationships between each feature and the target variable"
   ]
  },
  {
   "cell_type": "code",
   "execution_count": null,
   "metadata": {
    "id": "3XihF1PaTYHI"
   },
   "outputs": [],
   "source": [
    "def categorical_plot(df,feature,label):\n",
    "    sns.boxplot(data=df,x='Happiness_level',y=feature).set_title(label)"
   ]
  },
  {
   "cell_type": "code",
   "execution_count": null,
   "metadata": {
    "colab": {
     "base_uri": "https://localhost:8080/",
     "height": 295
    },
    "id": "PkE89qzDTYHI",
    "outputId": "9809f6ff-a633-4949-9a39-b1a7b862d80b"
   },
   "outputs": [
    {
     "data": {
      "image/png": "[encoded data removed]",
      "text/plain": [
       "<Figure size 432x288 with 1 Axes>"
      ]
     },
     "metadata": {
      "needs_background": "light",
      "tags": []
     },
     "output_type": "display_data"
    }
   ],
   "source": [
    "categorical_plot(Happy,'GDP per capita', \"GDP ~ Happiness level\")"
   ]
  },
  {
   "cell_type": "code",
   "execution_count": null,
   "metadata": {
    "colab": {
     "base_uri": "https://localhost:8080/",
     "height": 295
    },
    "id": "tYWoI3piTYHJ",
    "outputId": "3da79a10-74a9-451a-a983-3ab130259537"
   },
   "outputs": [
    {
     "data": {
      "image/png": "[encoded data removed]",
      "text/plain": [
       "<Figure size 432x288 with 1 Axes>"
      ]
     },
     "metadata": {
      "needs_background": "light",
      "tags": []
     },
     "output_type": "display_data"
    }
   ],
   "source": [
    "categorical_plot(Happy,'Perceptions of corruption', \"Perceptions of Corruption ~ Happiness level\")"
   ]
  },
  {
   "cell_type": "code",
   "execution_count": null,
   "metadata": {
    "colab": {
     "base_uri": "https://localhost:8080/",
     "height": 295
    },
    "id": "wlcueyJmTYHJ",
    "outputId": "b140ee26-48da-4d8b-f454-65c8625a0138"
   },
   "outputs": [
    {
     "data": {
      "image/png": "[encoded data removed]",
      "text/plain": [
       "<Figure size 432x288 with 1 Axes>"
      ]
     },
     "metadata": {
      "needs_background": "light",
      "tags": []
     },
     "output_type": "display_data"
    }
   ],
   "source": [
    "categorical_plot(Happy,'Freedom to make life choices', \"Freedom to make life choices ~ Happiness level\")"
   ]
  },
  {
   "cell_type": "code",
   "execution_count": null,
   "metadata": {
    "colab": {
     "base_uri": "https://localhost:8080/",
     "height": 295
    },
    "id": "dJ1w5bn2TYHJ",
    "outputId": "2d20d58d-7d94-4ddf-e9ff-4dab7d36e1dd"
   },
   "outputs": [
    {
     "data": {
      "image/png": "[encoded data removed]",
      "text/plain": [
       "<Figure size 432x288 with 1 Axes>"
      ]
     },
     "metadata": {
      "needs_background": "light",
      "tags": []
     },
     "output_type": "display_data"
    }
   ],
   "source": [
    "categorical_plot(Happy,'Social support', \"Social support ~ Happiness level\")"
   ]
  },
  {
   "cell_type": "code",
   "execution_count": null,
   "metadata": {
    "colab": {
     "base_uri": "https://localhost:8080/",
     "height": 295
    },
    "id": "XzGEFkkATYHJ",
    "outputId": "f83a0700-6be4-4cd0-b28b-1be1733b1df2"
   },
   "outputs": [
    {
     "data": {
      "image/png": "[encoded data removed]",
      "text/plain": [
       "<Figure size 432x288 with 1 Axes>"
      ]
     },
     "metadata": {
      "needs_background": "light",
      "tags": []
     },
     "output_type": "display_data"
    }
   ],
   "source": [
    "categorical_plot(Happy,'Healthy life expectancy', \"Healthy life expectancy ~ Happiness level\")"
   ]
  },
  {
   "cell_type": "code",
   "execution_count": null,
   "metadata": {
    "colab": {
     "base_uri": "https://localhost:8080/",
     "height": 295
    },
    "id": "Fmt1nKLmTYHJ",
    "outputId": "a94dfb3b-7060-4ef8-b59d-8429cf769dc3"
   },
   "outputs": [
    {
     "data": {
      "image/png": "[encoded data removed]",
      "text/plain": [
       "<Figure size 432x288 with 1 Axes>"
      ]
     },
     "metadata": {
      "needs_background": "light",
      "tags": []
     },
     "output_type": "display_data"
    }
   ],
   "source": [
    "categorical_plot(Happy,'Generosity', \"Generosity ~ Happiness level\")"
   ]
  },
  {
   "cell_type": "markdown",
   "metadata": {
    "id": "ohcqbQG6TYHK"
   },
   "source": [
    "**Conclusion:** The graphs above show that features such us GDP per capita, Freedom to make life choices, Social support, Healthy life expectancy all have a positive correlation with people's happiness level."
   ]
  },
  {
   "cell_type": "markdown",
   "metadata": {
    "id": "qw4cX3xbTYHK"
   },
   "source": [
    "## Remove Outliers using Interquartile Range (IQR)"
   ]
  },
  {
   "cell_type": "code",
   "execution_count": null,
   "metadata": {
    "colab": {
     "base_uri": "https://localhost:8080/"
    },
    "id": "Jo2osskaTYHK",
    "outputId": "94cc72e4-ab7f-4027-8c48-7a2eccf58461"
   },
   "outputs": [
    {
     "name": "stdout",
     "output_type": "stream",
     "text": [
      "GDP per capita                  0.62975\n",
      "Social support                  0.39675\n",
      "Healthy life expectancy         0.33400\n",
      "Freedom to make life choices    0.19925\n",
      "Generosity                      0.13950\n",
      "Perceptions of corruption       0.09425\n",
      "dtype: float64\n"
     ]
    }
   ],
   "source": [
    "Q1 = Happy.quantile(0.25)\n",
    "Q3 = Happy.quantile(0.75)\n",
    "IQR = Q3 - Q1\n",
    "print(IQR)"
   ]
  },
  {
   "cell_type": "code",
   "execution_count": null,
   "metadata": {
    "colab": {
     "base_uri": "https://localhost:8080/"
    },
    "id": "svNZ28ZjTYHK",
    "outputId": "4dc2393c-08fe-4fd0-f4b1-38c5f7b54b6c"
   },
   "outputs": [
    {
     "name": "stdout",
     "output_type": "stream",
     "text": [
      "(134, 11)\n"
     ]
    }
   ],
   "source": [
    "Happy_out = Happy[~((Happy < (Q1 - 1.5 * IQR)) |(Happy > (Q3 + 1.5 * IQR))).any(axis=1)]\n",
    "print(Happy_out.shape)"
   ]
  },
  {
   "cell_type": "markdown",
   "metadata": {
    "id": "vDD37DK9TYHK"
   },
   "source": [
    "## Preprocess Data and "
   ]
  },
  {
   "cell_type": "code",
   "execution_count": null,
   "metadata": {
    "colab": {
     "base_uri": "https://localhost:8080/"
    },
    "id": "DUX16LKITYHL",
    "outputId": "6c1441e7-4d70-4150-c389-ff13b62a405c"
   },
   "outputs": [
    {
     "data": {
      "text/plain": [
       "((156, 7), (156,))"
      ]
     },
     "execution_count": 18,
     "metadata": {
      "tags": []
     },
     "output_type": "execute_result"
    }
   ],
   "source": [
    "# Clean up final region data\n",
    "X = Happy.drop(['Happiness_level', 'name', 'Country or region', 'sub-region'], axis=1)\n",
    "y = Happy['Happiness_level']\n",
    "\n",
    "X.shape, y.shape"
   ]
  },
  {
   "cell_type": "markdown",
   "metadata": {
    "id": "tPpAagiLTYHL"
   },
   "source": [
    "   **- Preprocess data using Column Transformer and save fit preprocessor to \".pkl\" file**"
   ]
  },
  {
   "cell_type": "code",
   "execution_count": null,
   "metadata": {
    "id": "D72d8Fs3TYHL"
   },
   "outputs": [],
   "source": [
    "from sklearn.preprocessing import StandardScaler, OneHotEncoder\n",
    "from sklearn.compose import ColumnTransformer, make_column_transformer\n",
    "from sklearn.pipeline import Pipeline\n",
    "from sklearn.impute import SimpleImputer\n",
    "from sklearn.preprocessing import StandardScaler, OneHotEncoder\n",
    "\n",
    "# We create the preprocessing pipelines for both numeric and categorical data.\n",
    "\n",
    "numeric_features=X.columns.tolist()\n",
    "numeric_features.remove('region')\n",
    "\n",
    "numeric_transformer = Pipeline(steps=[\n",
    "    ('imputer', SimpleImputer(strategy='median')),\n",
    "    ('scaler', StandardScaler())])\n",
    "\n",
    "categorical_features = ['region']\n",
    "\n",
    "#Replacing missing values with Modal value and then one hot encoding.\n",
    "categorical_transformer = Pipeline(steps=[\n",
    "    ('imputer', SimpleImputer(strategy='most_frequent')),\n",
    "    ('onehot', OneHotEncoder(handle_unknown='ignore'))])\n",
    "\n",
    "# final preprocessor object set up with ColumnTransformer\n",
    "\n",
    "preprocessor = ColumnTransformer(\n",
    "    transformers=[\n",
    "        ('num', numeric_transformer, numeric_features),\n",
    "        ('cat', categorical_transformer, categorical_features)])\n",
    "\n",
    "\n",
    "#Fit your preprocessor object\n",
    "preprocess=preprocessor.fit(X) "
   ]
  },
  {
   "cell_type": "code",
   "execution_count": null,
   "metadata": {
    "id": "C-5kZeg3TYHL"
   },
   "outputs": [],
   "source": [
    "# Write function to transform data with preprocessor\n",
    "\n",
    "def preprocessor(data):\n",
    "    preprocessed_data=preprocess.transform(data)\n",
    "    return preprocessed_data"
   ]
  },
  {
   "cell_type": "code",
   "execution_count": null,
   "metadata": {
    "colab": {
     "base_uri": "https://localhost:8080/"
    },
    "id": "1oHtnoObTYHL",
    "outputId": "cea5a7ba-f67c-4535-8a49-2474e5da6433"
   },
   "outputs": [
    {
     "data": {
      "text/plain": [
       "(156, 11)"
      ]
     },
     "execution_count": 21,
     "metadata": {
      "tags": []
     },
     "output_type": "execute_result"
    }
   ],
   "source": [
    "# Check shape for keras input:\n",
    "preprocessor(X).shape # pretty small dataset"
   ]
  },
  {
   "cell_type": "code",
   "execution_count": null,
   "metadata": {
    "colab": {
     "base_uri": "https://localhost:8080/"
    },
    "id": "meNmc_PgTYHM",
    "outputId": "59f5ac07-85e3-4322-98dc-053b630270bd"
   },
   "outputs": [
    {
     "data": {
      "text/plain": [
       "(156, 5)"
      ]
     },
     "execution_count": 22,
     "metadata": {
      "tags": []
     },
     "output_type": "execute_result"
    }
   ],
   "source": [
    "# Check shape for keras output:\n",
    "pd.get_dummies(y).shape"
   ]
  },
  {
   "cell_type": "code",
   "execution_count": null,
   "metadata": {
    "colab": {
     "base_uri": "https://localhost:8080/"
    },
    "id": "UUDoQ8pHTYHM",
    "outputId": "a85b065e-c22b-48a4-d355-d4e3f978fda5"
   },
   "outputs": [
    {
     "data": {
      "text/plain": [
       "Asia        46\n",
       "Africa      45\n",
       "Europe      40\n",
       "Americas    23\n",
       "Oceania      2\n",
       "Name: region, dtype: int64"
      ]
     },
     "execution_count": 23,
     "metadata": {
      "tags": []
     },
     "output_type": "execute_result"
    }
   ],
   "source": [
    "X[\"region\"].value_counts()"
   ]
  },
  {
   "cell_type": "markdown",
   "metadata": {
    "id": "Duay-_HfTYHM"
   },
   "source": [
    "**- One-Hot Encoding target variable**"
   ]
  },
  {
   "cell_type": "code",
   "execution_count": null,
   "metadata": {
    "colab": {
     "base_uri": "https://localhost:8080/",
     "height": 197
    },
    "id": "1qFQHTu8TYHM",
    "outputId": "28427847-b5ac-4e6d-bcd9-ee9ac6eca2a8"
   },
   "outputs": [
    {
     "data": {
      "text/html": [
       "<div>\n",
       "<style scoped>\n",
       "    .dataframe tbody tr th:only-of-type {\n",
       "        vertical-align: middle;\n",
       "    }\n",
       "\n",
       "    .dataframe tbody tr th {\n",
       "        vertical-align: top;\n",
       "    }\n",
       "\n",
       "    .dataframe thead th {\n",
       "        text-align: right;\n",
       "    }\n",
       "</style>\n",
       "<table border=\"1\" class=\"dataframe\">\n",
       "  <thead>\n",
       "    <tr style=\"text-align: right;\">\n",
       "      <th></th>\n",
       "      <th>Average</th>\n",
       "      <th>High</th>\n",
       "      <th>Low</th>\n",
       "      <th>Very High</th>\n",
       "      <th>Very Low</th>\n",
       "    </tr>\n",
       "  </thead>\n",
       "  <tbody>\n",
       "    <tr>\n",
       "      <th>0</th>\n",
       "      <td>0</td>\n",
       "      <td>0</td>\n",
       "      <td>0</td>\n",
       "      <td>1</td>\n",
       "      <td>0</td>\n",
       "    </tr>\n",
       "    <tr>\n",
       "      <th>1</th>\n",
       "      <td>0</td>\n",
       "      <td>0</td>\n",
       "      <td>0</td>\n",
       "      <td>1</td>\n",
       "      <td>0</td>\n",
       "    </tr>\n",
       "    <tr>\n",
       "      <th>2</th>\n",
       "      <td>0</td>\n",
       "      <td>0</td>\n",
       "      <td>0</td>\n",
       "      <td>1</td>\n",
       "      <td>0</td>\n",
       "    </tr>\n",
       "    <tr>\n",
       "      <th>3</th>\n",
       "      <td>0</td>\n",
       "      <td>0</td>\n",
       "      <td>0</td>\n",
       "      <td>1</td>\n",
       "      <td>0</td>\n",
       "    </tr>\n",
       "    <tr>\n",
       "      <th>4</th>\n",
       "      <td>0</td>\n",
       "      <td>0</td>\n",
       "      <td>0</td>\n",
       "      <td>1</td>\n",
       "      <td>0</td>\n",
       "    </tr>\n",
       "  </tbody>\n",
       "</table>\n",
       "</div>"
      ],
      "text/plain": [
       "   Average  High  Low  Very High  Very Low\n",
       "0        0     0    0          1         0\n",
       "1        0     0    0          1         0\n",
       "2        0     0    0          1         0\n",
       "3        0     0    0          1         0\n",
       "4        0     0    0          1         0"
      ]
     },
     "execution_count": 24,
     "metadata": {
      "tags": []
     },
     "output_type": "execute_result"
    }
   ],
   "source": [
    "y1 = pd.get_dummies(y)\n",
    "y1.head()"
   ]
  },
  {
   "cell_type": "markdown",
   "metadata": {
    "id": "BiEA7MR2TYHM"
   },
   "source": [
    "**- Using get dummies approach to encode region column**"
   ]
  },
  {
   "cell_type": "code",
   "execution_count": null,
   "metadata": {
    "id": "f6oTXRCxTYHM"
   },
   "outputs": [],
   "source": [
    "X1 = pd.get_dummies(X, columns=[\"region\"])"
   ]
  },
  {
   "cell_type": "code",
   "execution_count": null,
   "metadata": {
    "colab": {
     "base_uri": "https://localhost:8080/",
     "height": 214
    },
    "id": "jb01LKKVTYHN",
    "outputId": "829370ed-bc85-49d0-ad0e-cf6025ccaed2"
   },
   "outputs": [
    {
     "data": {
      "text/html": [
       "<div>\n",
       "<style scoped>\n",
       "    .dataframe tbody tr th:only-of-type {\n",
       "        vertical-align: middle;\n",
       "    }\n",
       "\n",
       "    .dataframe tbody tr th {\n",
       "        vertical-align: top;\n",
       "    }\n",
       "\n",
       "    .dataframe thead th {\n",
       "        text-align: right;\n",
       "    }\n",
       "</style>\n",
       "<table border=\"1\" class=\"dataframe\">\n",
       "  <thead>\n",
       "    <tr style=\"text-align: right;\">\n",
       "      <th></th>\n",
       "      <th>GDP per capita</th>\n",
       "      <th>Social support</th>\n",
       "      <th>Healthy life expectancy</th>\n",
       "      <th>Freedom to make life choices</th>\n",
       "      <th>Generosity</th>\n",
       "      <th>Perceptions of corruption</th>\n",
       "      <th>region_Africa</th>\n",
       "      <th>region_Americas</th>\n",
       "      <th>region_Asia</th>\n",
       "      <th>region_Europe</th>\n",
       "      <th>region_Oceania</th>\n",
       "    </tr>\n",
       "  </thead>\n",
       "  <tbody>\n",
       "    <tr>\n",
       "      <th>0</th>\n",
       "      <td>1.340</td>\n",
       "      <td>1.587</td>\n",
       "      <td>0.986</td>\n",
       "      <td>0.596</td>\n",
       "      <td>0.153</td>\n",
       "      <td>0.393</td>\n",
       "      <td>0</td>\n",
       "      <td>0</td>\n",
       "      <td>0</td>\n",
       "      <td>1</td>\n",
       "      <td>0</td>\n",
       "    </tr>\n",
       "    <tr>\n",
       "      <th>1</th>\n",
       "      <td>1.383</td>\n",
       "      <td>1.573</td>\n",
       "      <td>0.996</td>\n",
       "      <td>0.592</td>\n",
       "      <td>0.252</td>\n",
       "      <td>0.410</td>\n",
       "      <td>0</td>\n",
       "      <td>0</td>\n",
       "      <td>0</td>\n",
       "      <td>1</td>\n",
       "      <td>0</td>\n",
       "    </tr>\n",
       "    <tr>\n",
       "      <th>2</th>\n",
       "      <td>1.488</td>\n",
       "      <td>1.582</td>\n",
       "      <td>1.028</td>\n",
       "      <td>0.603</td>\n",
       "      <td>0.271</td>\n",
       "      <td>0.341</td>\n",
       "      <td>0</td>\n",
       "      <td>0</td>\n",
       "      <td>0</td>\n",
       "      <td>1</td>\n",
       "      <td>0</td>\n",
       "    </tr>\n",
       "    <tr>\n",
       "      <th>3</th>\n",
       "      <td>1.380</td>\n",
       "      <td>1.624</td>\n",
       "      <td>1.026</td>\n",
       "      <td>0.591</td>\n",
       "      <td>0.354</td>\n",
       "      <td>0.118</td>\n",
       "      <td>0</td>\n",
       "      <td>0</td>\n",
       "      <td>0</td>\n",
       "      <td>1</td>\n",
       "      <td>0</td>\n",
       "    </tr>\n",
       "    <tr>\n",
       "      <th>4</th>\n",
       "      <td>1.396</td>\n",
       "      <td>1.522</td>\n",
       "      <td>0.999</td>\n",
       "      <td>0.557</td>\n",
       "      <td>0.322</td>\n",
       "      <td>0.298</td>\n",
       "      <td>0</td>\n",
       "      <td>0</td>\n",
       "      <td>0</td>\n",
       "      <td>1</td>\n",
       "      <td>0</td>\n",
       "    </tr>\n",
       "  </tbody>\n",
       "</table>\n",
       "</div>"
      ],
      "text/plain": [
       "   GDP per capita  Social support  ...  region_Europe  region_Oceania\n",
       "0           1.340           1.587  ...              1               0\n",
       "1           1.383           1.573  ...              1               0\n",
       "2           1.488           1.582  ...              1               0\n",
       "3           1.380           1.624  ...              1               0\n",
       "4           1.396           1.522  ...              1               0\n",
       "\n",
       "[5 rows x 11 columns]"
      ]
     },
     "execution_count": 26,
     "metadata": {
      "tags": []
     },
     "output_type": "execute_result"
    }
   ],
   "source": [
    "X1.head()"
   ]
  },
  {
   "cell_type": "markdown",
   "metadata": {
    "id": "kZ0SvEpyTYHN"
   },
   "source": [
    "## Automatic Feature Selection using Random Forest Classifier"
   ]
  },
  {
   "cell_type": "code",
   "execution_count": null,
   "metadata": {
    "id": "IgNgHN5RTYHN"
   },
   "outputs": [],
   "source": [
    "from sklearn.feature_selection import SelectFromModel\n",
    "from sklearn.ensemble import RandomForestClassifier\n",
    "\n",
    "RandomForest = RandomForestClassifier(n_estimators=100, random_state=42)\n",
    "select = SelectFromModel(\n",
    "RandomForest,\n",
    "threshold=\"median\")\n"
   ]
  },
  {
   "cell_type": "code",
   "execution_count": null,
   "metadata": {
    "colab": {
     "base_uri": "https://localhost:8080/"
    },
    "id": "gF7Dc8mJTYHO",
    "outputId": "ad75fc07-d23a-4409-b746-294f2b1a062e"
   },
   "outputs": [
    {
     "name": "stdout",
     "output_type": "stream",
     "text": [
      "X1.shape: (156, 11)\n",
      "X1_l1.shape: (156, 6)\n"
     ]
    }
   ],
   "source": [
    "#select.fit(X1, y1)\n",
    "#X1_l1 = select.transform(X1)\n",
    "X1_l1 = select.fit_transform(X1, y1)\n",
    "print(\"X1.shape: {}\".format(X1.shape))\n",
    "print(\"X1_l1.shape: {}\".format(X1_l1.shape))"
   ]
  },
  {
   "cell_type": "code",
   "execution_count": null,
   "metadata": {
    "colab": {
     "base_uri": "https://localhost:8080/"
    },
    "id": "i62x36DuTYHO",
    "outputId": "c8d96ad0-04e9-4211-f5e2-f2e8a5954986"
   },
   "outputs": [
    {
     "data": {
      "text/plain": [
       "numpy.ndarray"
      ]
     },
     "execution_count": 29,
     "metadata": {
      "tags": []
     },
     "output_type": "execute_result"
    }
   ],
   "source": [
    "type(X1_l1)"
   ]
  },
  {
   "cell_type": "code",
   "execution_count": null,
   "metadata": {
    "colab": {
     "base_uri": "https://localhost:8080/"
    },
    "id": "6ovdAdd5TYHO",
    "outputId": "3b873f95-dcfa-47d4-b2dd-12c5f75fedc7"
   },
   "outputs": [
    {
     "name": "stdout",
     "output_type": "stream",
     "text": [
      "We started with 10 features but retained only 6 of them!\n"
     ]
    }
   ],
   "source": [
    "print(\"We started with {0} features but retained only {1} of them!\".format(X1.shape[1] - 1, X1_l1.shape[1]))  "
   ]
  },
  {
   "cell_type": "code",
   "execution_count": null,
   "metadata": {
    "id": "tyO79H_2TYHO"
   },
   "outputs": [],
   "source": [
    "#How do I plot feature importances by ascending order?"
   ]
  },
  {
   "cell_type": "code",
   "execution_count": null,
   "metadata": {
    "id": "As30FO-uTYHO"
   },
   "outputs": [],
   "source": [
    "#print(\"Feature importances:\\n{}\".format(RandomForest.feature_importances_))"
   ]
  },
  {
   "cell_type": "markdown",
   "metadata": {
    "id": "ESG8Bi6qTYHP"
   },
   "source": [
    "## Building Prediction Models"
   ]
  },
  {
   "cell_type": "code",
   "execution_count": null,
   "metadata": {
    "colab": {
     "base_uri": "https://localhost:8080/"
    },
    "id": "ViXNx56jTYHP",
    "outputId": "b41d5856-d07a-4e17-9694-105dbcb197c8"
   },
   "outputs": [
    {
     "name": "stdout",
     "output_type": "stream",
     "text": [
      "(104, 6)\n",
      "(104, 5)\n"
     ]
    }
   ],
   "source": [
    "# Set up training and test data\n",
    "from sklearn.model_selection import train_test_split\n",
    "\n",
    "X_train, X_test, y_train, y_test = train_test_split(X1_l1, y1, test_size=.33, random_state=42)\n",
    "\n",
    "print(X_train.shape)\n",
    "print(y_train.shape)"
   ]
  },
  {
   "cell_type": "markdown",
   "metadata": {
    "id": "XHP5aSaNTYHP"
   },
   "source": [
    "### 1. KNN Classification"
   ]
  },
  {
   "cell_type": "code",
   "execution_count": null,
   "metadata": {
    "colab": {
     "base_uri": "https://localhost:8080/"
    },
    "id": "bO8hh6F4TYHP",
    "outputId": "bf16de46-8d14-44ef-af60-67625267d84d"
   },
   "outputs": [
    {
     "name": "stdout",
     "output_type": "stream",
     "text": [
      "Test set Score: 0.38\n",
      "Best Parameter: {'n_neighbors': 3}\n"
     ]
    }
   ],
   "source": [
    "from sklearn.model_selection import GridSearchCV\n",
    "from sklearn.neighbors import KNeighborsClassifier\n",
    "param_gridknn = {'n_neighbors': range(1, 10)}\n",
    "knn = KNeighborsClassifier().fit(X_train,y_train)\n",
    "knn_grid = GridSearchCV(knn, param_gridknn).fit(X_train,y_train)\n",
    "\n",
    "print(\"Test set Score: {:.2f}\".format(knn_grid.score(X_test, y_test)))\n",
    "print(\"Best Parameter: {}\".format(knn_grid.best_params_))"
   ]
  },
  {
   "cell_type": "markdown",
   "metadata": {
    "id": "gEvka_EPTYHQ"
   },
   "source": [
    "### 2. Gradient Boosting"
   ]
  },
  {
   "cell_type": "code",
   "execution_count": null,
   "metadata": {
    "id": "QjVE0wsQTYHQ"
   },
   "outputs": [],
   "source": [
    "from sklearn.ensemble import GradientBoostingClassifier\n",
    "gradientB = GradientBoostingClassifier()\n",
    "#gradientB.fit(X_train, y_train)\n",
    "\n",
    "#print(\"Accuracy on test set: {:.3f}\".format(gbrt.score(X_test, y_test)))"
   ]
  },
  {
   "cell_type": "markdown",
   "metadata": {
    "id": "Rcd5MOuBTYHQ"
   },
   "source": [
    "### 2. Random Forrest"
   ]
  },
  {
   "cell_type": "code",
   "execution_count": null,
   "metadata": {
    "colab": {
     "base_uri": "https://localhost:8080/"
    },
    "id": "poWm0PMSTYHQ",
    "outputId": "637246f6-57f0-4ce2-c350-a2019dbc6ea3"
   },
   "outputs": [
    {
     "name": "stdout",
     "output_type": "stream",
     "text": [
      "Accuracy on training set: 1.000\n",
      "Accuracy on test set: 0.269\n"
     ]
    }
   ],
   "source": [
    "from sklearn.ensemble import RandomForestClassifier\n",
    "\n",
    "forest = RandomForestClassifier(n_estimators=100, random_state=0)\n",
    "forest.fit(X_train, y_train)\n",
    "\n",
    "print(\"Accuracy on training set: {:.3f}\".format(forest.score(X_train, y_train)))\n",
    "print(\"Accuracy on test set: {:.3f}\".format(forest.score(X_test, y_test)))"
   ]
  },
  {
   "cell_type": "markdown",
   "metadata": {
    "id": "uw39-HOHTYHR"
   },
   "source": [
    "## 3. Support Vector Machine"
   ]
  },
  {
   "cell_type": "code",
   "execution_count": null,
   "metadata": {
    "id": "Z7eu5CwoTYHR"
   },
   "outputs": [],
   "source": [
    "from sklearn.svm import SVC\n",
    "svc = SVC()\n",
    "#svc.fit(X_train, y_train)\n",
    "#print(\"Accuracy on training set: {:.2f}\".format(svc.score(X_train, y_train)))\n",
    "#print(\"Accuracy on test set: {:.2f}\".format(svc.score(X_test, y_test)))"
   ]
  },
  {
   "cell_type": "markdown",
   "metadata": {
    "id": "tx9hlyXcTYHR"
   },
   "source": [
    "### 4. Nerual Network with Keras"
   ]
  },
  {
   "cell_type": "code",
   "execution_count": null,
   "metadata": {
    "colab": {
     "base_uri": "https://localhost:8080/"
    },
    "id": "2dSATvioTYHR",
    "outputId": "0307b921-98e6-4660-82e0-5c3fcd712339"
   },
   "outputs": [
    {
     "name": "stdout",
     "output_type": "stream",
     "text": [
      "Requirement already satisfied: keras in /tensorflow-1.15.2/python3.6 (2.3.1)\n",
      "Requirement already satisfied: pyyaml in /usr/local/lib/python3.6/dist-packages (from keras) (3.13)\n",
      "Requirement already satisfied: six>=1.9.0 in /usr/local/lib/python3.6/dist-packages (from keras) (1.15.0)\n",
      "Requirement already satisfied: keras-preprocessing>=1.0.5 in /usr/local/lib/python3.6/dist-packages (from keras) (1.1.2)\n",
      "Requirement already satisfied: numpy>=1.9.1 in /usr/local/lib/python3.6/dist-packages (from keras) (1.19.5)\n",
      "Requirement already satisfied: keras-applications>=1.0.6 in /tensorflow-1.15.2/python3.6 (from keras) (1.0.8)\n",
      "Requirement already satisfied: h5py in /usr/local/lib/python3.6/dist-packages (from keras) (2.10.0)\n",
      "Requirement already satisfied: scipy>=0.14 in /usr/local/lib/python3.6/dist-packages (from keras) (1.4.1)\n"
     ]
    }
   ],
   "source": [
    "pip install keras"
   ]
  },
  {
   "cell_type": "code",
   "execution_count": null,
   "metadata": {
    "colab": {
     "base_uri": "https://localhost:8080/"
    },
    "id": "dLrnHwlxTYHR",
    "outputId": "5822bbd3-f58e-40f8-f7c6-a9483c655573",
    "scrolled": false
   },
   "outputs": [
    {
     "name": "stdout",
     "output_type": "stream",
     "text": [
      "Train on 67 samples, validate on 37 samples\n",
      "Epoch 1/300\n",
      "67/67 [==============================] - 0s 4ms/step - loss: 1.5780 - accuracy: 0.2090 - val_loss: 1.6004 - val_accuracy: 0.1622\n",
      "Epoch 2/300\n",
      "67/67 [==============================] - 0s 181us/step - loss: 1.5754 - accuracy: 0.2090 - val_loss: 1.6004 - val_accuracy: 0.1622\n",
      "Epoch 3/300\n",
      "67/67 [==============================] - 0s 195us/step - loss: 1.5735 - accuracy: 0.2090 - val_loss: 1.6008 - val_accuracy: 0.1622\n",
      "Epoch 4/300\n",
      "67/67 [==============================] - 0s 269us/step - loss: 1.5704 - accuracy: 0.2090 - val_loss: 1.6002 - val_accuracy: 0.1622\n",
      "Epoch 5/300\n",
      "67/67 [==============================] - 0s 200us/step - loss: 1.5690 - accuracy: 0.2090 - val_loss: 1.5984 - val_accuracy: 0.1622\n",
      "Epoch 6/300\n",
      "67/67 [==============================] - 0s 179us/step - loss: 1.5668 - accuracy: 0.2090 - val_loss: 1.5967 - val_accuracy: 0.1622\n",
      "Epoch 7/300\n",
      "67/67 [==============================] - 0s 208us/step - loss: 1.5668 - accuracy: 0.2239 - val_loss: 1.5954 - val_accuracy: 0.1622\n",
      "Epoch 8/300\n",
      "67/67 [==============================] - 0s 193us/step - loss: 1.5654 - accuracy: 0.2239 - val_loss: 1.5949 - val_accuracy: 0.1622\n",
      "Epoch 9/300\n",
      "67/67 [==============================] - 0s 188us/step - loss: 1.5647 - accuracy: 0.2239 - val_loss: 1.5944 - val_accuracy: 0.1622\n",
      "Epoch 10/300\n",
      "67/67 [==============================] - 0s 245us/step - loss: 1.5625 - accuracy: 0.2239 - val_loss: 1.5958 - val_accuracy: 0.1622\n",
      "Epoch 11/300\n",
      "67/67 [==============================] - 0s 171us/step - loss: 1.5599 - accuracy: 0.2239 - val_loss: 1.5954 - val_accuracy: 0.1622\n",
      "Epoch 12/300\n",
      "67/67 [==============================] - 0s 188us/step - loss: 1.5571 - accuracy: 0.2239 - val_loss: 1.5945 - val_accuracy: 0.1622\n",
      "Epoch 13/300\n",
      "67/67 [==============================] - 0s 207us/step - loss: 1.5549 - accuracy: 0.2239 - val_loss: 1.5947 - val_accuracy: 0.1622\n",
      "Epoch 14/300\n",
      "67/67 [==============================] - 0s 190us/step - loss: 1.5535 - accuracy: 0.2239 - val_loss: 1.5954 - val_accuracy: 0.1622\n",
      "Epoch 15/300\n",
      "67/67 [==============================] - 0s 218us/step - loss: 1.5508 - accuracy: 0.2090 - val_loss: 1.5968 - val_accuracy: 0.1622\n",
      "Epoch 16/300\n",
      "67/67 [==============================] - 0s 162us/step - loss: 1.5483 - accuracy: 0.2090 - val_loss: 1.5977 - val_accuracy: 0.1622\n",
      "Epoch 17/300\n",
      "67/67 [==============================] - 0s 164us/step - loss: 1.5466 - accuracy: 0.2090 - val_loss: 1.5988 - val_accuracy: 0.1622\n",
      "Epoch 18/300\n",
      "67/67 [==============================] - 0s 189us/step - loss: 1.5444 - accuracy: 0.2090 - val_loss: 1.5992 - val_accuracy: 0.1622\n",
      "Epoch 19/300\n",
      "67/67 [==============================] - 0s 302us/step - loss: 1.5422 - accuracy: 0.2090 - val_loss: 1.5991 - val_accuracy: 0.1622\n",
      "Epoch 20/300\n",
      "67/67 [==============================] - 0s 201us/step - loss: 1.5407 - accuracy: 0.2090 - val_loss: 1.6006 - val_accuracy: 0.1622\n",
      "Epoch 21/300\n",
      "67/67 [==============================] - 0s 168us/step - loss: 1.5382 - accuracy: 0.2090 - val_loss: 1.6002 - val_accuracy: 0.1622\n",
      "Epoch 22/300\n",
      "67/67 [==============================] - 0s 215us/step - loss: 1.5373 - accuracy: 0.2090 - val_loss: 1.5985 - val_accuracy: 0.1622\n",
      "Epoch 23/300\n",
      "67/67 [==============================] - 0s 185us/step - loss: 1.5365 - accuracy: 0.2090 - val_loss: 1.5988 - val_accuracy: 0.1622\n",
      "Epoch 24/300\n",
      "67/67 [==============================] - 0s 184us/step - loss: 1.5349 - accuracy: 0.2090 - val_loss: 1.5989 - val_accuracy: 0.1622\n",
      "Epoch 25/300\n",
      "67/67 [==============================] - 0s 192us/step - loss: 1.5338 - accuracy: 0.2090 - val_loss: 1.6002 - val_accuracy: 0.1622\n",
      "Epoch 26/300\n",
      "67/67 [==============================] - 0s 314us/step - loss: 1.5317 - accuracy: 0.2239 - val_loss: 1.6006 - val_accuracy: 0.1622\n",
      "Epoch 27/300\n",
      "67/67 [==============================] - 0s 228us/step - loss: 1.5308 - accuracy: 0.2239 - val_loss: 1.6002 - val_accuracy: 0.1892\n",
      "Epoch 28/300\n",
      "67/67 [==============================] - 0s 225us/step - loss: 1.5292 - accuracy: 0.2239 - val_loss: 1.6002 - val_accuracy: 0.1892\n",
      "Epoch 29/300\n",
      "67/67 [==============================] - 0s 199us/step - loss: 1.5282 - accuracy: 0.2537 - val_loss: 1.6003 - val_accuracy: 0.1892\n",
      "Epoch 30/300\n",
      "67/67 [==============================] - 0s 243us/step - loss: 1.5271 - accuracy: 0.2687 - val_loss: 1.5995 - val_accuracy: 0.1892\n",
      "Epoch 31/300\n",
      "67/67 [==============================] - 0s 244us/step - loss: 1.5264 - accuracy: 0.3134 - val_loss: 1.5974 - val_accuracy: 0.1892\n",
      "Epoch 32/300\n",
      "67/67 [==============================] - 0s 212us/step - loss: 1.5261 - accuracy: 0.2985 - val_loss: 1.5988 - val_accuracy: 0.1892\n",
      "Epoch 33/300\n",
      "67/67 [==============================] - 0s 203us/step - loss: 1.5240 - accuracy: 0.3284 - val_loss: 1.5981 - val_accuracy: 0.2703\n",
      "Epoch 34/300\n",
      "67/67 [==============================] - 0s 210us/step - loss: 1.5227 - accuracy: 0.3433 - val_loss: 1.5990 - val_accuracy: 0.2703\n",
      "Epoch 35/300\n",
      "67/67 [==============================] - 0s 213us/step - loss: 1.5213 - accuracy: 0.3731 - val_loss: 1.5992 - val_accuracy: 0.2703\n",
      "Epoch 36/300\n",
      "67/67 [==============================] - 0s 189us/step - loss: 1.5201 - accuracy: 0.3433 - val_loss: 1.5991 - val_accuracy: 0.1892\n",
      "Epoch 37/300\n",
      "67/67 [==============================] - 0s 220us/step - loss: 1.5192 - accuracy: 0.2836 - val_loss: 1.5988 - val_accuracy: 0.2703\n",
      "Epoch 38/300\n",
      "67/67 [==============================] - 0s 215us/step - loss: 1.5183 - accuracy: 0.3433 - val_loss: 1.6018 - val_accuracy: 0.2432\n",
      "Epoch 39/300\n",
      "67/67 [==============================] - 0s 235us/step - loss: 1.5163 - accuracy: 0.4030 - val_loss: 1.6006 - val_accuracy: 0.2432\n",
      "Epoch 40/300\n",
      "67/67 [==============================] - 0s 204us/step - loss: 1.5157 - accuracy: 0.3731 - val_loss: 1.6015 - val_accuracy: 0.1892\n",
      "Epoch 41/300\n",
      "67/67 [==============================] - 0s 222us/step - loss: 1.5139 - accuracy: 0.2687 - val_loss: 1.6024 - val_accuracy: 0.2973\n",
      "Epoch 42/300\n",
      "67/67 [==============================] - 0s 226us/step - loss: 1.5128 - accuracy: 0.3881 - val_loss: 1.5997 - val_accuracy: 0.2973\n",
      "Epoch 43/300\n",
      "67/67 [==============================] - 0s 303us/step - loss: 1.5126 - accuracy: 0.3731 - val_loss: 1.6004 - val_accuracy: 0.1892\n",
      "Epoch 44/300\n",
      "67/67 [==============================] - 0s 239us/step - loss: 1.5117 - accuracy: 0.3134 - val_loss: 1.5986 - val_accuracy: 0.1892\n",
      "Epoch 45/300\n",
      "67/67 [==============================] - 0s 277us/step - loss: 1.5109 - accuracy: 0.3134 - val_loss: 1.5988 - val_accuracy: 0.2973\n",
      "Epoch 46/300\n",
      "67/67 [==============================] - 0s 234us/step - loss: 1.5093 - accuracy: 0.3881 - val_loss: 1.5977 - val_accuracy: 0.2703\n",
      "Epoch 47/300\n",
      "67/67 [==============================] - 0s 228us/step - loss: 1.5086 - accuracy: 0.3881 - val_loss: 1.6005 - val_accuracy: 0.1892\n",
      "Epoch 48/300\n",
      "67/67 [==============================] - 0s 282us/step - loss: 1.5074 - accuracy: 0.2985 - val_loss: 1.5999 - val_accuracy: 0.1892\n",
      "Epoch 49/300\n",
      "67/67 [==============================] - 0s 254us/step - loss: 1.5068 - accuracy: 0.2687 - val_loss: 1.6008 - val_accuracy: 0.2703\n",
      "Epoch 50/300\n",
      "67/67 [==============================] - 0s 221us/step - loss: 1.5049 - accuracy: 0.4328 - val_loss: 1.6026 - val_accuracy: 0.1892\n",
      "Epoch 51/300\n",
      "67/67 [==============================] - 0s 211us/step - loss: 1.5035 - accuracy: 0.2985 - val_loss: 1.6014 - val_accuracy: 0.1892\n",
      "Epoch 52/300\n",
      "67/67 [==============================] - 0s 208us/step - loss: 1.5023 - accuracy: 0.3134 - val_loss: 1.6046 - val_accuracy: 0.1892\n",
      "Epoch 53/300\n",
      "67/67 [==============================] - 0s 181us/step - loss: 1.5008 - accuracy: 0.3433 - val_loss: 1.6035 - val_accuracy: 0.1892\n",
      "Epoch 54/300\n",
      "67/67 [==============================] - 0s 182us/step - loss: 1.5002 - accuracy: 0.3134 - val_loss: 1.6040 - val_accuracy: 0.1892\n",
      "Epoch 55/300\n",
      "67/67 [==============================] - 0s 208us/step - loss: 1.4992 - accuracy: 0.2985 - val_loss: 1.6036 - val_accuracy: 0.2162\n",
      "Epoch 56/300\n",
      "67/67 [==============================] - 0s 236us/step - loss: 1.4978 - accuracy: 0.3582 - val_loss: 1.6029 - val_accuracy: 0.2703\n",
      "Epoch 57/300\n",
      "67/67 [==============================] - 0s 212us/step - loss: 1.4968 - accuracy: 0.4179 - val_loss: 1.6023 - val_accuracy: 0.2162\n",
      "Epoch 58/300\n",
      "67/67 [==============================] - 0s 168us/step - loss: 1.4960 - accuracy: 0.3582 - val_loss: 1.6032 - val_accuracy: 0.1892\n",
      "Epoch 59/300\n",
      "67/67 [==============================] - 0s 195us/step - loss: 1.4949 - accuracy: 0.3134 - val_loss: 1.6049 - val_accuracy: 0.1892\n",
      "Epoch 60/300\n",
      "67/67 [==============================] - 0s 176us/step - loss: 1.4939 - accuracy: 0.2985 - val_loss: 1.6022 - val_accuracy: 0.2162\n",
      "Epoch 61/300\n",
      "67/67 [==============================] - 0s 205us/step - loss: 1.4928 - accuracy: 0.3433 - val_loss: 1.6024 - val_accuracy: 0.2432\n",
      "Epoch 62/300\n",
      "67/67 [==============================] - 0s 340us/step - loss: 1.4918 - accuracy: 0.3881 - val_loss: 1.6042 - val_accuracy: 0.2703\n",
      "Epoch 63/300\n",
      "67/67 [==============================] - 0s 252us/step - loss: 1.4905 - accuracy: 0.3731 - val_loss: 1.6053 - val_accuracy: 0.2703\n",
      "Epoch 64/300\n",
      "67/67 [==============================] - 0s 211us/step - loss: 1.4894 - accuracy: 0.4179 - val_loss: 1.6066 - val_accuracy: 0.2162\n",
      "Epoch 65/300\n",
      "67/67 [==============================] - 0s 186us/step - loss: 1.4884 - accuracy: 0.3731 - val_loss: 1.6074 - val_accuracy: 0.1892\n",
      "Epoch 66/300\n",
      "67/67 [==============================] - 0s 236us/step - loss: 1.4876 - accuracy: 0.3134 - val_loss: 1.6042 - val_accuracy: 0.1892\n",
      "Epoch 67/300\n",
      "67/67 [==============================] - 0s 279us/step - loss: 1.4870 - accuracy: 0.2985 - val_loss: 1.6025 - val_accuracy: 0.1892\n",
      "Epoch 68/300\n",
      "67/67 [==============================] - 0s 250us/step - loss: 1.4858 - accuracy: 0.3433 - val_loss: 1.6039 - val_accuracy: 0.1892\n",
      "Epoch 69/300\n",
      "67/67 [==============================] - 0s 154us/step - loss: 1.4847 - accuracy: 0.2985 - val_loss: 1.6035 - val_accuracy: 0.1892\n",
      "Epoch 70/300\n",
      "67/67 [==============================] - 0s 149us/step - loss: 1.4839 - accuracy: 0.3134 - val_loss: 1.6070 - val_accuracy: 0.1892\n",
      "Epoch 71/300\n",
      "67/67 [==============================] - 0s 181us/step - loss: 1.4829 - accuracy: 0.3134 - val_loss: 1.6085 - val_accuracy: 0.1892\n",
      "Epoch 72/300\n",
      "67/67 [==============================] - 0s 171us/step - loss: 1.4821 - accuracy: 0.2836 - val_loss: 1.6061 - val_accuracy: 0.1892\n",
      "Epoch 73/300\n",
      "67/67 [==============================] - 0s 194us/step - loss: 1.4813 - accuracy: 0.2836 - val_loss: 1.6070 - val_accuracy: 0.1892\n",
      "Epoch 74/300\n",
      "67/67 [==============================] - 0s 165us/step - loss: 1.4805 - accuracy: 0.2836 - val_loss: 1.6067 - val_accuracy: 0.1892\n",
      "Epoch 75/300\n",
      "67/67 [==============================] - 0s 147us/step - loss: 1.4796 - accuracy: 0.2687 - val_loss: 1.6067 - val_accuracy: 0.1892\n",
      "Epoch 76/300\n",
      "67/67 [==============================] - 0s 174us/step - loss: 1.4784 - accuracy: 0.2836 - val_loss: 1.6058 - val_accuracy: 0.1892\n",
      "Epoch 77/300\n",
      "67/67 [==============================] - 0s 163us/step - loss: 1.4771 - accuracy: 0.2985 - val_loss: 1.6053 - val_accuracy: 0.1892\n",
      "Epoch 78/300\n",
      "67/67 [==============================] - 0s 158us/step - loss: 1.4765 - accuracy: 0.2836 - val_loss: 1.6044 - val_accuracy: 0.1892\n",
      "Epoch 79/300\n",
      "67/67 [==============================] - 0s 168us/step - loss: 1.4756 - accuracy: 0.2537 - val_loss: 1.6050 - val_accuracy: 0.1892\n",
      "Epoch 80/300\n",
      "67/67 [==============================] - 0s 148us/step - loss: 1.4748 - accuracy: 0.2388 - val_loss: 1.6076 - val_accuracy: 0.1892\n",
      "Epoch 81/300\n",
      "67/67 [==============================] - 0s 432us/step - loss: 1.4732 - accuracy: 0.2687 - val_loss: 1.6041 - val_accuracy: 0.1892\n",
      "Epoch 82/300\n",
      "67/67 [==============================] - 0s 188us/step - loss: 1.4719 - accuracy: 0.2836 - val_loss: 1.6028 - val_accuracy: 0.1892\n",
      "Epoch 83/300\n",
      "67/67 [==============================] - 0s 201us/step - loss: 1.4711 - accuracy: 0.2836 - val_loss: 1.6040 - val_accuracy: 0.1892\n",
      "Epoch 84/300\n",
      "67/67 [==============================] - 0s 182us/step - loss: 1.4699 - accuracy: 0.3134 - val_loss: 1.6021 - val_accuracy: 0.2162\n",
      "Epoch 85/300\n",
      "67/67 [==============================] - 0s 157us/step - loss: 1.4689 - accuracy: 0.3433 - val_loss: 1.6045 - val_accuracy: 0.2432\n",
      "Epoch 86/300\n",
      "67/67 [==============================] - 0s 245us/step - loss: 1.4679 - accuracy: 0.4030 - val_loss: 1.6019 - val_accuracy: 0.2703\n",
      "Epoch 87/300\n",
      "67/67 [==============================] - 0s 262us/step - loss: 1.4668 - accuracy: 0.3582 - val_loss: 1.6031 - val_accuracy: 0.2162\n",
      "Epoch 88/300\n",
      "67/67 [==============================] - 0s 170us/step - loss: 1.4659 - accuracy: 0.3731 - val_loss: 1.6054 - val_accuracy: 0.1892\n",
      "Epoch 89/300\n",
      "67/67 [==============================] - 0s 210us/step - loss: 1.4650 - accuracy: 0.2985 - val_loss: 1.6051 - val_accuracy: 0.1892\n",
      "Epoch 90/300\n",
      "67/67 [==============================] - 0s 230us/step - loss: 1.4644 - accuracy: 0.2985 - val_loss: 1.6093 - val_accuracy: 0.1892\n",
      "Epoch 91/300\n",
      "67/67 [==============================] - 0s 203us/step - loss: 1.4639 - accuracy: 0.2687 - val_loss: 1.6103 - val_accuracy: 0.1892\n",
      "Epoch 92/300\n",
      "67/67 [==============================] - 0s 183us/step - loss: 1.4627 - accuracy: 0.2836 - val_loss: 1.6134 - val_accuracy: 0.1892\n",
      "Epoch 93/300\n",
      "67/67 [==============================] - 0s 201us/step - loss: 1.4619 - accuracy: 0.2836 - val_loss: 1.6114 - val_accuracy: 0.1892\n",
      "Epoch 94/300\n",
      "67/67 [==============================] - 0s 225us/step - loss: 1.4611 - accuracy: 0.2687 - val_loss: 1.6094 - val_accuracy: 0.1622\n",
      "Epoch 95/300\n",
      "67/67 [==============================] - 0s 160us/step - loss: 1.4606 - accuracy: 0.2388 - val_loss: 1.6106 - val_accuracy: 0.1892\n",
      "Epoch 96/300\n",
      "67/67 [==============================] - 0s 172us/step - loss: 1.4592 - accuracy: 0.2537 - val_loss: 1.6090 - val_accuracy: 0.1892\n",
      "Epoch 97/300\n",
      "67/67 [==============================] - 0s 237us/step - loss: 1.4576 - accuracy: 0.2985 - val_loss: 1.6043 - val_accuracy: 0.1892\n",
      "Epoch 98/300\n",
      "67/67 [==============================] - 0s 219us/step - loss: 1.4560 - accuracy: 0.3134 - val_loss: 1.6073 - val_accuracy: 0.1892\n",
      "Epoch 99/300\n",
      "67/67 [==============================] - 0s 193us/step - loss: 1.4553 - accuracy: 0.3134 - val_loss: 1.6094 - val_accuracy: 0.2162\n",
      "Epoch 100/300\n",
      "67/67 [==============================] - 0s 156us/step - loss: 1.4539 - accuracy: 0.4030 - val_loss: 1.6082 - val_accuracy: 0.2703\n",
      "Epoch 101/300\n",
      "67/67 [==============================] - 0s 183us/step - loss: 1.4530 - accuracy: 0.4328 - val_loss: 1.6014 - val_accuracy: 0.2703\n",
      "Epoch 102/300\n",
      "67/67 [==============================] - 0s 210us/step - loss: 1.4518 - accuracy: 0.4328 - val_loss: 1.6022 - val_accuracy: 0.1892\n",
      "Epoch 103/300\n",
      "67/67 [==============================] - 0s 180us/step - loss: 1.4507 - accuracy: 0.3582 - val_loss: 1.6005 - val_accuracy: 0.1892\n",
      "Epoch 104/300\n",
      "67/67 [==============================] - 0s 180us/step - loss: 1.4498 - accuracy: 0.3284 - val_loss: 1.5985 - val_accuracy: 0.1892\n",
      "Epoch 105/300\n",
      "67/67 [==============================] - 0s 381us/step - loss: 1.4488 - accuracy: 0.3134 - val_loss: 1.5998 - val_accuracy: 0.1892\n",
      "Epoch 106/300\n",
      "67/67 [==============================] - 0s 317us/step - loss: 1.4478 - accuracy: 0.3134 - val_loss: 1.6000 - val_accuracy: 0.1892\n",
      "Epoch 107/300\n",
      "67/67 [==============================] - 0s 258us/step - loss: 1.4465 - accuracy: 0.3284 - val_loss: 1.5980 - val_accuracy: 0.2703\n",
      "Epoch 108/300\n",
      "67/67 [==============================] - 0s 218us/step - loss: 1.4456 - accuracy: 0.4328 - val_loss: 1.6054 - val_accuracy: 0.1892\n",
      "Epoch 109/300\n",
      "67/67 [==============================] - 0s 182us/step - loss: 1.4451 - accuracy: 0.3134 - val_loss: 1.6061 - val_accuracy: 0.1892\n",
      "Epoch 110/300\n",
      "67/67 [==============================] - 0s 168us/step - loss: 1.4442 - accuracy: 0.3134 - val_loss: 1.6015 - val_accuracy: 0.2703\n",
      "Epoch 111/300\n",
      "67/67 [==============================] - 0s 154us/step - loss: 1.4430 - accuracy: 0.4328 - val_loss: 1.5993 - val_accuracy: 0.2973\n",
      "Epoch 112/300\n",
      "67/67 [==============================] - 0s 207us/step - loss: 1.4421 - accuracy: 0.4328 - val_loss: 1.5962 - val_accuracy: 0.2703\n",
      "Epoch 113/300\n",
      "67/67 [==============================] - 0s 197us/step - loss: 1.4414 - accuracy: 0.4179 - val_loss: 1.5965 - val_accuracy: 0.2432\n",
      "Epoch 114/300\n",
      "67/67 [==============================] - 0s 273us/step - loss: 1.4403 - accuracy: 0.3134 - val_loss: 1.5916 - val_accuracy: 0.2703\n",
      "Epoch 115/300\n",
      "67/67 [==============================] - 0s 265us/step - loss: 1.4395 - accuracy: 0.3582 - val_loss: 1.5916 - val_accuracy: 0.1892\n",
      "Epoch 116/300\n",
      "67/67 [==============================] - 0s 221us/step - loss: 1.4386 - accuracy: 0.2985 - val_loss: 1.5856 - val_accuracy: 0.1892\n",
      "Epoch 117/300\n",
      "67/67 [==============================] - 0s 243us/step - loss: 1.4371 - accuracy: 0.2836 - val_loss: 1.5866 - val_accuracy: 0.1892\n",
      "Epoch 118/300\n",
      "67/67 [==============================] - 0s 231us/step - loss: 1.4363 - accuracy: 0.2836 - val_loss: 1.5842 - val_accuracy: 0.1892\n",
      "Epoch 119/300\n",
      "67/67 [==============================] - 0s 215us/step - loss: 1.4353 - accuracy: 0.2836 - val_loss: 1.5847 - val_accuracy: 0.1892\n",
      "Epoch 120/300\n",
      "67/67 [==============================] - 0s 289us/step - loss: 1.4341 - accuracy: 0.2836 - val_loss: 1.5865 - val_accuracy: 0.1892\n",
      "Epoch 121/300\n",
      "67/67 [==============================] - 0s 204us/step - loss: 1.4325 - accuracy: 0.2836 - val_loss: 1.5829 - val_accuracy: 0.1892\n",
      "Epoch 122/300\n",
      "67/67 [==============================] - 0s 235us/step - loss: 1.4311 - accuracy: 0.2985 - val_loss: 1.5840 - val_accuracy: 0.1892\n",
      "Epoch 123/300\n",
      "67/67 [==============================] - 0s 159us/step - loss: 1.4300 - accuracy: 0.2836 - val_loss: 1.5863 - val_accuracy: 0.2703\n",
      "Epoch 124/300\n",
      "67/67 [==============================] - 0s 176us/step - loss: 1.4287 - accuracy: 0.3731 - val_loss: 1.5840 - val_accuracy: 0.2162\n",
      "Epoch 125/300\n",
      "67/67 [==============================] - 0s 199us/step - loss: 1.4279 - accuracy: 0.2985 - val_loss: 1.5859 - val_accuracy: 0.1892\n",
      "Epoch 126/300\n",
      "67/67 [==============================] - 0s 196us/step - loss: 1.4272 - accuracy: 0.2836 - val_loss: 1.5858 - val_accuracy: 0.1892\n",
      "Epoch 127/300\n",
      "67/67 [==============================] - 0s 168us/step - loss: 1.4258 - accuracy: 0.2836 - val_loss: 1.5882 - val_accuracy: 0.2432\n",
      "Epoch 128/300\n",
      "67/67 [==============================] - 0s 236us/step - loss: 1.4245 - accuracy: 0.3134 - val_loss: 1.5919 - val_accuracy: 0.2703\n",
      "Epoch 129/300\n",
      "67/67 [==============================] - 0s 238us/step - loss: 1.4237 - accuracy: 0.3731 - val_loss: 1.5952 - val_accuracy: 0.2432\n",
      "Epoch 130/300\n",
      "67/67 [==============================] - 0s 200us/step - loss: 1.4228 - accuracy: 0.3433 - val_loss: 1.5930 - val_accuracy: 0.2703\n",
      "Epoch 131/300\n",
      "67/67 [==============================] - 0s 192us/step - loss: 1.4214 - accuracy: 0.4179 - val_loss: 1.5929 - val_accuracy: 0.2703\n",
      "Epoch 132/300\n",
      "67/67 [==============================] - 0s 396us/step - loss: 1.4202 - accuracy: 0.4179 - val_loss: 1.5911 - val_accuracy: 0.2162\n",
      "Epoch 133/300\n",
      "67/67 [==============================] - 0s 210us/step - loss: 1.4190 - accuracy: 0.3433 - val_loss: 1.5864 - val_accuracy: 0.2432\n",
      "Epoch 134/300\n",
      "67/67 [==============================] - 0s 176us/step - loss: 1.4174 - accuracy: 0.4179 - val_loss: 1.5829 - val_accuracy: 0.2162\n",
      "Epoch 135/300\n",
      "67/67 [==============================] - 0s 340us/step - loss: 1.4165 - accuracy: 0.3731 - val_loss: 1.5868 - val_accuracy: 0.2162\n",
      "Epoch 136/300\n",
      "67/67 [==============================] - 0s 241us/step - loss: 1.4159 - accuracy: 0.3134 - val_loss: 1.5883 - val_accuracy: 0.2162\n",
      "Epoch 137/300\n",
      "67/67 [==============================] - 0s 290us/step - loss: 1.4149 - accuracy: 0.3284 - val_loss: 1.5905 - val_accuracy: 0.2162\n",
      "Epoch 138/300\n",
      "67/67 [==============================] - 0s 213us/step - loss: 1.4144 - accuracy: 0.3134 - val_loss: 1.5857 - val_accuracy: 0.2432\n",
      "Epoch 139/300\n",
      "67/67 [==============================] - 0s 215us/step - loss: 1.4130 - accuracy: 0.3284 - val_loss: 1.5894 - val_accuracy: 0.2432\n",
      "Epoch 140/300\n",
      "67/67 [==============================] - 0s 177us/step - loss: 1.4123 - accuracy: 0.3134 - val_loss: 1.5937 - val_accuracy: 0.2162\n",
      "Epoch 141/300\n",
      "67/67 [==============================] - 0s 199us/step - loss: 1.4117 - accuracy: 0.2985 - val_loss: 1.5938 - val_accuracy: 0.2162\n",
      "Epoch 142/300\n",
      "67/67 [==============================] - 0s 157us/step - loss: 1.4105 - accuracy: 0.2985 - val_loss: 1.5950 - val_accuracy: 0.2703\n",
      "Epoch 143/300\n",
      "67/67 [==============================] - 0s 312us/step - loss: 1.4098 - accuracy: 0.2836 - val_loss: 1.5964 - val_accuracy: 0.2703\n",
      "Epoch 144/300\n",
      "67/67 [==============================] - 0s 210us/step - loss: 1.4086 - accuracy: 0.2985 - val_loss: 1.5905 - val_accuracy: 0.2703\n",
      "Epoch 145/300\n",
      "67/67 [==============================] - 0s 248us/step - loss: 1.4075 - accuracy: 0.2687 - val_loss: 1.5916 - val_accuracy: 0.2703\n",
      "Epoch 146/300\n",
      "67/67 [==============================] - 0s 137us/step - loss: 1.4055 - accuracy: 0.3134 - val_loss: 1.5834 - val_accuracy: 0.2703\n",
      "Epoch 147/300\n",
      "67/67 [==============================] - 0s 213us/step - loss: 1.4034 - accuracy: 0.3433 - val_loss: 1.5833 - val_accuracy: 0.2703\n",
      "Epoch 148/300\n",
      "67/67 [==============================] - 0s 171us/step - loss: 1.4022 - accuracy: 0.3284 - val_loss: 1.5855 - val_accuracy: 0.2703\n",
      "Epoch 149/300\n",
      "67/67 [==============================] - 0s 224us/step - loss: 1.4011 - accuracy: 0.3284 - val_loss: 1.5745 - val_accuracy: 0.2703\n",
      "Epoch 150/300\n",
      "67/67 [==============================] - 0s 196us/step - loss: 1.3992 - accuracy: 0.3731 - val_loss: 1.5730 - val_accuracy: 0.2973\n",
      "Epoch 151/300\n",
      "67/67 [==============================] - 0s 206us/step - loss: 1.3973 - accuracy: 0.4179 - val_loss: 1.5754 - val_accuracy: 0.2973\n",
      "Epoch 152/300\n",
      "67/67 [==============================] - 0s 172us/step - loss: 1.3964 - accuracy: 0.4030 - val_loss: 1.5708 - val_accuracy: 0.2973\n",
      "Epoch 153/300\n",
      "67/67 [==============================] - 0s 192us/step - loss: 1.3954 - accuracy: 0.4776 - val_loss: 1.5704 - val_accuracy: 0.2703\n",
      "Epoch 154/300\n",
      "67/67 [==============================] - 0s 146us/step - loss: 1.3939 - accuracy: 0.3881 - val_loss: 1.5708 - val_accuracy: 0.2973\n",
      "Epoch 155/300\n",
      "67/67 [==============================] - 0s 144us/step - loss: 1.3929 - accuracy: 0.4179 - val_loss: 1.5742 - val_accuracy: 0.2703\n",
      "Epoch 156/300\n",
      "67/67 [==============================] - 0s 199us/step - loss: 1.3917 - accuracy: 0.3881 - val_loss: 1.5692 - val_accuracy: 0.2703\n",
      "Epoch 157/300\n",
      "67/67 [==============================] - 0s 143us/step - loss: 1.3902 - accuracy: 0.4030 - val_loss: 1.5757 - val_accuracy: 0.2703\n",
      "Epoch 158/300\n",
      "67/67 [==============================] - 0s 202us/step - loss: 1.3895 - accuracy: 0.3731 - val_loss: 1.5792 - val_accuracy: 0.2703\n",
      "Epoch 159/300\n",
      "67/67 [==============================] - 0s 183us/step - loss: 1.3887 - accuracy: 0.3731 - val_loss: 1.5735 - val_accuracy: 0.2703\n",
      "Epoch 160/300\n",
      "67/67 [==============================] - 0s 223us/step - loss: 1.3870 - accuracy: 0.4179 - val_loss: 1.5736 - val_accuracy: 0.2703\n",
      "Epoch 161/300\n",
      "67/67 [==============================] - 0s 167us/step - loss: 1.3858 - accuracy: 0.3731 - val_loss: 1.5727 - val_accuracy: 0.2703\n",
      "Epoch 162/300\n",
      "67/67 [==============================] - 0s 175us/step - loss: 1.3847 - accuracy: 0.3731 - val_loss: 1.5639 - val_accuracy: 0.2703\n",
      "Epoch 163/300\n",
      "67/67 [==============================] - 0s 256us/step - loss: 1.3832 - accuracy: 0.3881 - val_loss: 1.5598 - val_accuracy: 0.2703\n",
      "Epoch 164/300\n",
      "67/67 [==============================] - 0s 262us/step - loss: 1.3815 - accuracy: 0.4030 - val_loss: 1.5621 - val_accuracy: 0.2703\n",
      "Epoch 165/300\n",
      "67/67 [==============================] - 0s 189us/step - loss: 1.3805 - accuracy: 0.3881 - val_loss: 1.5638 - val_accuracy: 0.2703\n",
      "Epoch 166/300\n",
      "67/67 [==============================] - 0s 170us/step - loss: 1.3795 - accuracy: 0.3731 - val_loss: 1.5572 - val_accuracy: 0.2703\n",
      "Epoch 167/300\n",
      "67/67 [==============================] - 0s 156us/step - loss: 1.3780 - accuracy: 0.3881 - val_loss: 1.5569 - val_accuracy: 0.2703\n",
      "Epoch 168/300\n",
      "67/67 [==============================] - 0s 184us/step - loss: 1.3769 - accuracy: 0.4030 - val_loss: 1.5547 - val_accuracy: 0.3514\n",
      "Epoch 169/300\n",
      "67/67 [==============================] - 0s 365us/step - loss: 1.3754 - accuracy: 0.4925 - val_loss: 1.5499 - val_accuracy: 0.2973\n",
      "Epoch 170/300\n",
      "67/67 [==============================] - 0s 205us/step - loss: 1.3741 - accuracy: 0.4627 - val_loss: 1.5555 - val_accuracy: 0.3514\n",
      "Epoch 171/300\n",
      "67/67 [==============================] - 0s 173us/step - loss: 1.3730 - accuracy: 0.5075 - val_loss: 1.5532 - val_accuracy: 0.3514\n",
      "Epoch 172/300\n",
      "67/67 [==============================] - 0s 222us/step - loss: 1.3720 - accuracy: 0.4478 - val_loss: 1.5522 - val_accuracy: 0.3243\n",
      "Epoch 173/300\n",
      "67/67 [==============================] - 0s 170us/step - loss: 1.3703 - accuracy: 0.4925 - val_loss: 1.5478 - val_accuracy: 0.3514\n",
      "Epoch 174/300\n",
      "67/67 [==============================] - 0s 166us/step - loss: 1.3692 - accuracy: 0.5224 - val_loss: 1.5485 - val_accuracy: 0.3514\n",
      "Epoch 175/300\n",
      "67/67 [==============================] - 0s 159us/step - loss: 1.3680 - accuracy: 0.4179 - val_loss: 1.5500 - val_accuracy: 0.2973\n",
      "Epoch 176/300\n",
      "67/67 [==============================] - 0s 258us/step - loss: 1.3669 - accuracy: 0.3881 - val_loss: 1.5454 - val_accuracy: 0.3514\n",
      "Epoch 177/300\n",
      "67/67 [==============================] - 0s 176us/step - loss: 1.3652 - accuracy: 0.4627 - val_loss: 1.5454 - val_accuracy: 0.3514\n",
      "Epoch 178/300\n",
      "67/67 [==============================] - 0s 176us/step - loss: 1.3638 - accuracy: 0.4925 - val_loss: 1.5479 - val_accuracy: 0.3243\n",
      "Epoch 179/300\n",
      "67/67 [==============================] - 0s 171us/step - loss: 1.3625 - accuracy: 0.5224 - val_loss: 1.5451 - val_accuracy: 0.3514\n",
      "Epoch 180/300\n",
      "67/67 [==============================] - 0s 165us/step - loss: 1.3612 - accuracy: 0.5224 - val_loss: 1.5448 - val_accuracy: 0.3784\n",
      "Epoch 181/300\n",
      "67/67 [==============================] - 0s 139us/step - loss: 1.3598 - accuracy: 0.5224 - val_loss: 1.5426 - val_accuracy: 0.3514\n",
      "Epoch 182/300\n",
      "67/67 [==============================] - 0s 262us/step - loss: 1.3585 - accuracy: 0.5522 - val_loss: 1.5469 - val_accuracy: 0.3514\n",
      "Epoch 183/300\n",
      "67/67 [==============================] - 0s 187us/step - loss: 1.3576 - accuracy: 0.4776 - val_loss: 1.5439 - val_accuracy: 0.3514\n",
      "Epoch 184/300\n",
      "67/67 [==============================] - 0s 163us/step - loss: 1.3560 - accuracy: 0.5373 - val_loss: 1.5383 - val_accuracy: 0.3514\n",
      "Epoch 185/300\n",
      "67/67 [==============================] - 0s 162us/step - loss: 1.3543 - accuracy: 0.5373 - val_loss: 1.5394 - val_accuracy: 0.3243\n",
      "Epoch 186/300\n",
      "67/67 [==============================] - 0s 167us/step - loss: 1.3531 - accuracy: 0.5224 - val_loss: 1.5410 - val_accuracy: 0.2703\n",
      "Epoch 187/300\n",
      "67/67 [==============================] - 0s 171us/step - loss: 1.3524 - accuracy: 0.4328 - val_loss: 1.5485 - val_accuracy: 0.2703\n",
      "Epoch 188/300\n",
      "67/67 [==============================] - 0s 185us/step - loss: 1.3517 - accuracy: 0.4179 - val_loss: 1.5437 - val_accuracy: 0.2703\n",
      "Epoch 189/300\n",
      "67/67 [==============================] - 0s 181us/step - loss: 1.3500 - accuracy: 0.4179 - val_loss: 1.5360 - val_accuracy: 0.2703\n",
      "Epoch 190/300\n",
      "67/67 [==============================] - 0s 300us/step - loss: 1.3485 - accuracy: 0.4179 - val_loss: 1.5329 - val_accuracy: 0.2973\n",
      "Epoch 191/300\n",
      "67/67 [==============================] - 0s 191us/step - loss: 1.3471 - accuracy: 0.4328 - val_loss: 1.5388 - val_accuracy: 0.2703\n",
      "Epoch 192/300\n",
      "67/67 [==============================] - 0s 205us/step - loss: 1.3460 - accuracy: 0.4328 - val_loss: 1.5385 - val_accuracy: 0.2973\n",
      "Epoch 193/300\n",
      "67/67 [==============================] - 0s 156us/step - loss: 1.3449 - accuracy: 0.4328 - val_loss: 1.5380 - val_accuracy: 0.2973\n",
      "Epoch 194/300\n",
      "67/67 [==============================] - 0s 171us/step - loss: 1.3439 - accuracy: 0.4328 - val_loss: 1.5386 - val_accuracy: 0.2973\n",
      "Epoch 195/300\n",
      "67/67 [==============================] - 0s 561us/step - loss: 1.3429 - accuracy: 0.4328 - val_loss: 1.5369 - val_accuracy: 0.2973\n",
      "Epoch 196/300\n",
      "67/67 [==============================] - 0s 344us/step - loss: 1.3415 - accuracy: 0.4328 - val_loss: 1.5373 - val_accuracy: 0.2973\n",
      "Epoch 197/300\n",
      "67/67 [==============================] - 0s 292us/step - loss: 1.3401 - accuracy: 0.4328 - val_loss: 1.5321 - val_accuracy: 0.3514\n",
      "Epoch 198/300\n",
      "67/67 [==============================] - 0s 331us/step - loss: 1.3384 - accuracy: 0.5373 - val_loss: 1.5276 - val_accuracy: 0.3784\n",
      "Epoch 199/300\n",
      "67/67 [==============================] - 0s 327us/step - loss: 1.3375 - accuracy: 0.5522 - val_loss: 1.5285 - val_accuracy: 0.3243\n",
      "Epoch 200/300\n",
      "67/67 [==============================] - 0s 252us/step - loss: 1.3360 - accuracy: 0.4925 - val_loss: 1.5247 - val_accuracy: 0.3243\n",
      "Epoch 201/300\n",
      "67/67 [==============================] - 0s 286us/step - loss: 1.3347 - accuracy: 0.4925 - val_loss: 1.5294 - val_accuracy: 0.3243\n",
      "Epoch 202/300\n",
      "67/67 [==============================] - 0s 197us/step - loss: 1.3334 - accuracy: 0.5224 - val_loss: 1.5302 - val_accuracy: 0.3243\n",
      "Epoch 203/300\n",
      "67/67 [==============================] - 0s 279us/step - loss: 1.3321 - accuracy: 0.5373 - val_loss: 1.5263 - val_accuracy: 0.3784\n",
      "Epoch 204/300\n",
      "67/67 [==============================] - 0s 276us/step - loss: 1.3308 - accuracy: 0.5522 - val_loss: 1.5211 - val_accuracy: 0.3784\n",
      "Epoch 205/300\n",
      "67/67 [==============================] - 0s 197us/step - loss: 1.3298 - accuracy: 0.5672 - val_loss: 1.5102 - val_accuracy: 0.3784\n",
      "Epoch 206/300\n",
      "67/67 [==============================] - 0s 199us/step - loss: 1.3291 - accuracy: 0.5522 - val_loss: 1.5073 - val_accuracy: 0.3514\n",
      "Epoch 207/300\n",
      "67/67 [==============================] - 0s 183us/step - loss: 1.3284 - accuracy: 0.4328 - val_loss: 1.5060 - val_accuracy: 0.3784\n",
      "Epoch 208/300\n",
      "67/67 [==============================] - 0s 175us/step - loss: 1.3272 - accuracy: 0.5075 - val_loss: 1.5016 - val_accuracy: 0.3784\n",
      "Epoch 209/300\n",
      "67/67 [==============================] - 0s 141us/step - loss: 1.3267 - accuracy: 0.4478 - val_loss: 1.5111 - val_accuracy: 0.3243\n",
      "Epoch 210/300\n",
      "67/67 [==============================] - 0s 164us/step - loss: 1.3236 - accuracy: 0.4925 - val_loss: 1.5038 - val_accuracy: 0.3243\n",
      "Epoch 211/300\n",
      "67/67 [==============================] - 0s 381us/step - loss: 1.3226 - accuracy: 0.5373 - val_loss: 1.5080 - val_accuracy: 0.3243\n",
      "Epoch 212/300\n",
      "67/67 [==============================] - 0s 244us/step - loss: 1.3210 - accuracy: 0.4776 - val_loss: 1.5055 - val_accuracy: 0.3784\n",
      "Epoch 213/300\n",
      "67/67 [==============================] - 0s 206us/step - loss: 1.3200 - accuracy: 0.5672 - val_loss: 1.5032 - val_accuracy: 0.3784\n",
      "Epoch 214/300\n",
      "67/67 [==============================] - 0s 231us/step - loss: 1.3186 - accuracy: 0.5672 - val_loss: 1.5043 - val_accuracy: 0.4054\n",
      "Epoch 215/300\n",
      "67/67 [==============================] - 0s 193us/step - loss: 1.3174 - accuracy: 0.5522 - val_loss: 1.5036 - val_accuracy: 0.3784\n",
      "Epoch 216/300\n",
      "67/67 [==============================] - 0s 169us/step - loss: 1.3166 - accuracy: 0.4776 - val_loss: 1.5023 - val_accuracy: 0.3243\n",
      "Epoch 217/300\n",
      "67/67 [==============================] - 0s 173us/step - loss: 1.3156 - accuracy: 0.4328 - val_loss: 1.5095 - val_accuracy: 0.3784\n",
      "Epoch 218/300\n",
      "67/67 [==============================] - 0s 174us/step - loss: 1.3137 - accuracy: 0.4776 - val_loss: 1.5083 - val_accuracy: 0.3514\n",
      "Epoch 219/300\n",
      "67/67 [==============================] - 0s 196us/step - loss: 1.3127 - accuracy: 0.4328 - val_loss: 1.5014 - val_accuracy: 0.2973\n",
      "Epoch 220/300\n",
      "67/67 [==============================] - 0s 170us/step - loss: 1.3121 - accuracy: 0.4179 - val_loss: 1.5003 - val_accuracy: 0.3514\n",
      "Epoch 221/300\n",
      "67/67 [==============================] - 0s 250us/step - loss: 1.3105 - accuracy: 0.4478 - val_loss: 1.5027 - val_accuracy: 0.4054\n",
      "Epoch 222/300\n",
      "67/67 [==============================] - 0s 148us/step - loss: 1.3087 - accuracy: 0.5821 - val_loss: 1.5022 - val_accuracy: 0.3784\n",
      "Epoch 223/300\n",
      "67/67 [==============================] - 0s 142us/step - loss: 1.3072 - accuracy: 0.4925 - val_loss: 1.5059 - val_accuracy: 0.3784\n",
      "Epoch 224/300\n",
      "67/67 [==============================] - 0s 136us/step - loss: 1.3055 - accuracy: 0.5970 - val_loss: 1.4997 - val_accuracy: 0.3784\n",
      "Epoch 225/300\n",
      "67/67 [==============================] - 0s 159us/step - loss: 1.3044 - accuracy: 0.4925 - val_loss: 1.5067 - val_accuracy: 0.3514\n",
      "Epoch 226/300\n",
      "67/67 [==============================] - 0s 199us/step - loss: 1.3025 - accuracy: 0.5821 - val_loss: 1.5026 - val_accuracy: 0.3784\n",
      "Epoch 227/300\n",
      "67/67 [==============================] - 0s 166us/step - loss: 1.3012 - accuracy: 0.5821 - val_loss: 1.4950 - val_accuracy: 0.3784\n",
      "Epoch 228/300\n",
      "67/67 [==============================] - 0s 163us/step - loss: 1.3000 - accuracy: 0.5821 - val_loss: 1.4975 - val_accuracy: 0.3514\n",
      "Epoch 229/300\n",
      "67/67 [==============================] - 0s 178us/step - loss: 1.2986 - accuracy: 0.5970 - val_loss: 1.5030 - val_accuracy: 0.4054\n",
      "Epoch 230/300\n",
      "67/67 [==============================] - 0s 161us/step - loss: 1.2975 - accuracy: 0.5672 - val_loss: 1.5013 - val_accuracy: 0.3514\n",
      "Epoch 231/300\n",
      "67/67 [==============================] - 0s 242us/step - loss: 1.2955 - accuracy: 0.5672 - val_loss: 1.5003 - val_accuracy: 0.3784\n",
      "Epoch 232/300\n",
      "67/67 [==============================] - 0s 160us/step - loss: 1.2941 - accuracy: 0.5672 - val_loss: 1.4984 - val_accuracy: 0.3784\n",
      "Epoch 233/300\n",
      "67/67 [==============================] - 0s 186us/step - loss: 1.2927 - accuracy: 0.5672 - val_loss: 1.5013 - val_accuracy: 0.3784\n",
      "Epoch 234/300\n",
      "67/67 [==============================] - 0s 198us/step - loss: 1.2916 - accuracy: 0.5672 - val_loss: 1.4949 - val_accuracy: 0.3784\n",
      "Epoch 235/300\n",
      "67/67 [==============================] - 0s 247us/step - loss: 1.2903 - accuracy: 0.5821 - val_loss: 1.4908 - val_accuracy: 0.3784\n",
      "Epoch 236/300\n",
      "67/67 [==============================] - 0s 161us/step - loss: 1.2887 - accuracy: 0.5522 - val_loss: 1.4907 - val_accuracy: 0.3784\n",
      "Epoch 237/300\n",
      "67/67 [==============================] - 0s 176us/step - loss: 1.2880 - accuracy: 0.5821 - val_loss: 1.4987 - val_accuracy: 0.3784\n",
      "Epoch 238/300\n",
      "67/67 [==============================] - 0s 324us/step - loss: 1.2873 - accuracy: 0.4925 - val_loss: 1.4882 - val_accuracy: 0.3784\n",
      "Epoch 239/300\n",
      "67/67 [==============================] - 0s 155us/step - loss: 1.2858 - accuracy: 0.4627 - val_loss: 1.4887 - val_accuracy: 0.4054\n",
      "Epoch 240/300\n",
      "67/67 [==============================] - 0s 168us/step - loss: 1.2841 - accuracy: 0.5821 - val_loss: 1.4785 - val_accuracy: 0.3784\n",
      "Epoch 241/300\n",
      "67/67 [==============================] - 0s 333us/step - loss: 1.2829 - accuracy: 0.5821 - val_loss: 1.4757 - val_accuracy: 0.3514\n",
      "Epoch 242/300\n",
      "67/67 [==============================] - 0s 359us/step - loss: 1.2816 - accuracy: 0.5970 - val_loss: 1.4771 - val_accuracy: 0.3514\n",
      "Epoch 243/300\n",
      "67/67 [==============================] - 0s 240us/step - loss: 1.2813 - accuracy: 0.4478 - val_loss: 1.4718 - val_accuracy: 0.3784\n",
      "Epoch 244/300\n",
      "67/67 [==============================] - 0s 214us/step - loss: 1.2799 - accuracy: 0.5373 - val_loss: 1.4813 - val_accuracy: 0.3784\n",
      "Epoch 245/300\n",
      "67/67 [==============================] - 0s 214us/step - loss: 1.2781 - accuracy: 0.4925 - val_loss: 1.4861 - val_accuracy: 0.3784\n",
      "Epoch 246/300\n",
      "67/67 [==============================] - 0s 227us/step - loss: 1.2768 - accuracy: 0.5075 - val_loss: 1.4815 - val_accuracy: 0.3514\n",
      "Epoch 247/300\n",
      "67/67 [==============================] - 0s 346us/step - loss: 1.2749 - accuracy: 0.5821 - val_loss: 1.4807 - val_accuracy: 0.3784\n",
      "Epoch 248/300\n",
      "67/67 [==============================] - 0s 213us/step - loss: 1.2733 - accuracy: 0.5970 - val_loss: 1.4737 - val_accuracy: 0.3784\n",
      "Epoch 249/300\n",
      "67/67 [==============================] - 0s 174us/step - loss: 1.2721 - accuracy: 0.5970 - val_loss: 1.4758 - val_accuracy: 0.3514\n",
      "Epoch 250/300\n",
      "67/67 [==============================] - 0s 146us/step - loss: 1.2704 - accuracy: 0.5672 - val_loss: 1.4836 - val_accuracy: 0.3243\n",
      "Epoch 251/300\n",
      "67/67 [==============================] - 0s 145us/step - loss: 1.2692 - accuracy: 0.5522 - val_loss: 1.4882 - val_accuracy: 0.3514\n",
      "Epoch 252/300\n",
      "67/67 [==============================] - 0s 156us/step - loss: 1.2679 - accuracy: 0.5672 - val_loss: 1.4863 - val_accuracy: 0.3243\n",
      "Epoch 253/300\n",
      "67/67 [==============================] - 0s 140us/step - loss: 1.2667 - accuracy: 0.5522 - val_loss: 1.4885 - val_accuracy: 0.2973\n",
      "Epoch 254/300\n",
      "67/67 [==============================] - 0s 129us/step - loss: 1.2654 - accuracy: 0.4776 - val_loss: 1.4888 - val_accuracy: 0.3243\n",
      "Epoch 255/300\n",
      "67/67 [==============================] - 0s 127us/step - loss: 1.2640 - accuracy: 0.5373 - val_loss: 1.4791 - val_accuracy: 0.3243\n",
      "Epoch 256/300\n",
      "67/67 [==============================] - 0s 146us/step - loss: 1.2624 - accuracy: 0.5373 - val_loss: 1.4769 - val_accuracy: 0.3784\n",
      "Epoch 257/300\n",
      "67/67 [==============================] - 0s 135us/step - loss: 1.2612 - accuracy: 0.5821 - val_loss: 1.4733 - val_accuracy: 0.3784\n",
      "Epoch 258/300\n",
      "67/67 [==============================] - 0s 340us/step - loss: 1.2603 - accuracy: 0.5821 - val_loss: 1.4730 - val_accuracy: 0.2973\n",
      "Epoch 259/300\n",
      "67/67 [==============================] - 0s 157us/step - loss: 1.2587 - accuracy: 0.5224 - val_loss: 1.4750 - val_accuracy: 0.2973\n",
      "Epoch 260/300\n",
      "67/67 [==============================] - 0s 238us/step - loss: 1.2575 - accuracy: 0.4776 - val_loss: 1.4811 - val_accuracy: 0.2973\n",
      "Epoch 261/300\n",
      "67/67 [==============================] - 0s 195us/step - loss: 1.2564 - accuracy: 0.4776 - val_loss: 1.4765 - val_accuracy: 0.2973\n",
      "Epoch 262/300\n",
      "67/67 [==============================] - 0s 308us/step - loss: 1.2550 - accuracy: 0.4925 - val_loss: 1.4844 - val_accuracy: 0.2973\n",
      "Epoch 263/300\n",
      "67/67 [==============================] - 0s 251us/step - loss: 1.2543 - accuracy: 0.4925 - val_loss: 1.4721 - val_accuracy: 0.2973\n",
      "Epoch 264/300\n",
      "67/67 [==============================] - 0s 276us/step - loss: 1.2526 - accuracy: 0.4627 - val_loss: 1.4668 - val_accuracy: 0.2973\n",
      "Epoch 265/300\n",
      "67/67 [==============================] - 0s 201us/step - loss: 1.2513 - accuracy: 0.4776 - val_loss: 1.4622 - val_accuracy: 0.2973\n",
      "Epoch 266/300\n",
      "67/67 [==============================] - 0s 236us/step - loss: 1.2498 - accuracy: 0.4776 - val_loss: 1.4695 - val_accuracy: 0.2973\n",
      "Epoch 267/300\n",
      "67/67 [==============================] - 0s 218us/step - loss: 1.2488 - accuracy: 0.4627 - val_loss: 1.4718 - val_accuracy: 0.3243\n",
      "Epoch 268/300\n",
      "67/67 [==============================] - 0s 136us/step - loss: 1.2480 - accuracy: 0.4478 - val_loss: 1.4693 - val_accuracy: 0.3243\n",
      "Epoch 269/300\n",
      "67/67 [==============================] - 0s 149us/step - loss: 1.2468 - accuracy: 0.4478 - val_loss: 1.4740 - val_accuracy: 0.3243\n",
      "Epoch 270/300\n",
      "67/67 [==============================] - 0s 152us/step - loss: 1.2451 - accuracy: 0.4478 - val_loss: 1.4748 - val_accuracy: 0.3243\n",
      "Epoch 271/300\n",
      "67/67 [==============================] - 0s 171us/step - loss: 1.2440 - accuracy: 0.4478 - val_loss: 1.4588 - val_accuracy: 0.3243\n",
      "Epoch 272/300\n",
      "67/67 [==============================] - 0s 362us/step - loss: 1.2425 - accuracy: 0.4776 - val_loss: 1.4544 - val_accuracy: 0.3243\n",
      "Epoch 273/300\n",
      "67/67 [==============================] - 0s 281us/step - loss: 1.2418 - accuracy: 0.4776 - val_loss: 1.4568 - val_accuracy: 0.3243\n",
      "Epoch 274/300\n",
      "67/67 [==============================] - 0s 208us/step - loss: 1.2396 - accuracy: 0.4925 - val_loss: 1.4510 - val_accuracy: 0.2973\n",
      "Epoch 275/300\n",
      "67/67 [==============================] - 0s 252us/step - loss: 1.2386 - accuracy: 0.4627 - val_loss: 1.4466 - val_accuracy: 0.2973\n",
      "Epoch 276/300\n",
      "67/67 [==============================] - 0s 200us/step - loss: 1.2380 - accuracy: 0.4776 - val_loss: 1.4559 - val_accuracy: 0.2973\n",
      "Epoch 277/300\n",
      "67/67 [==============================] - 0s 218us/step - loss: 1.2376 - accuracy: 0.5075 - val_loss: 1.4444 - val_accuracy: 0.2973\n",
      "Epoch 278/300\n",
      "67/67 [==============================] - 0s 220us/step - loss: 1.2374 - accuracy: 0.5373 - val_loss: 1.4458 - val_accuracy: 0.2703\n",
      "Epoch 279/300\n",
      "67/67 [==============================] - 0s 180us/step - loss: 1.2360 - accuracy: 0.5224 - val_loss: 1.4543 - val_accuracy: 0.2703\n",
      "Epoch 280/300\n",
      "67/67 [==============================] - 0s 257us/step - loss: 1.2351 - accuracy: 0.5224 - val_loss: 1.4529 - val_accuracy: 0.2703\n",
      "Epoch 281/300\n",
      "67/67 [==============================] - 0s 206us/step - loss: 1.2331 - accuracy: 0.5224 - val_loss: 1.4562 - val_accuracy: 0.2973\n",
      "Epoch 282/300\n",
      "67/67 [==============================] - 0s 132us/step - loss: 1.2307 - accuracy: 0.5224 - val_loss: 1.4449 - val_accuracy: 0.3514\n",
      "Epoch 283/300\n",
      "67/67 [==============================] - 0s 254us/step - loss: 1.2292 - accuracy: 0.5970 - val_loss: 1.4451 - val_accuracy: 0.3243\n",
      "Epoch 284/300\n",
      "67/67 [==============================] - 0s 117us/step - loss: 1.2276 - accuracy: 0.5672 - val_loss: 1.4391 - val_accuracy: 0.3514\n",
      "Epoch 285/300\n",
      "67/67 [==============================] - 0s 308us/step - loss: 1.2266 - accuracy: 0.5821 - val_loss: 1.4411 - val_accuracy: 0.3514\n",
      "Epoch 286/300\n",
      "67/67 [==============================] - 0s 215us/step - loss: 1.2242 - accuracy: 0.5373 - val_loss: 1.4436 - val_accuracy: 0.3784\n",
      "Epoch 287/300\n",
      "67/67 [==============================] - 0s 354us/step - loss: 1.2227 - accuracy: 0.5672 - val_loss: 1.4436 - val_accuracy: 0.4054\n",
      "Epoch 288/300\n",
      "67/67 [==============================] - 0s 162us/step - loss: 1.2219 - accuracy: 0.5672 - val_loss: 1.4322 - val_accuracy: 0.4054\n",
      "Epoch 289/300\n",
      "67/67 [==============================] - 0s 233us/step - loss: 1.2212 - accuracy: 0.5821 - val_loss: 1.4308 - val_accuracy: 0.4054\n",
      "Epoch 290/300\n",
      "67/67 [==============================] - 0s 173us/step - loss: 1.2195 - accuracy: 0.5821 - val_loss: 1.4244 - val_accuracy: 0.4054\n",
      "Epoch 291/300\n",
      "67/67 [==============================] - 0s 162us/step - loss: 1.2196 - accuracy: 0.6119 - val_loss: 1.4102 - val_accuracy: 0.4054\n",
      "Epoch 292/300\n",
      "67/67 [==============================] - 0s 239us/step - loss: 1.2208 - accuracy: 0.5970 - val_loss: 1.4091 - val_accuracy: 0.4324\n",
      "Epoch 293/300\n",
      "67/67 [==============================] - 0s 248us/step - loss: 1.2193 - accuracy: 0.6119 - val_loss: 1.4125 - val_accuracy: 0.3784\n",
      "Epoch 294/300\n",
      "67/67 [==============================] - 0s 281us/step - loss: 1.2163 - accuracy: 0.5970 - val_loss: 1.4206 - val_accuracy: 0.3514\n",
      "Epoch 295/300\n",
      "67/67 [==============================] - 0s 260us/step - loss: 1.2131 - accuracy: 0.5522 - val_loss: 1.4184 - val_accuracy: 0.3514\n",
      "Epoch 296/300\n",
      "67/67 [==============================] - 0s 196us/step - loss: 1.2120 - accuracy: 0.5821 - val_loss: 1.4275 - val_accuracy: 0.3514\n",
      "Epoch 297/300\n",
      "67/67 [==============================] - 0s 196us/step - loss: 1.2095 - accuracy: 0.5821 - val_loss: 1.4304 - val_accuracy: 0.3243\n",
      "Epoch 298/300\n",
      "67/67 [==============================] - 0s 199us/step - loss: 1.2084 - accuracy: 0.5672 - val_loss: 1.4443 - val_accuracy: 0.2973\n",
      "Epoch 299/300\n",
      "67/67 [==============================] - 0s 145us/step - loss: 1.2073 - accuracy: 0.4776 - val_loss: 1.4314 - val_accuracy: 0.2973\n",
      "Epoch 300/300\n",
      "67/67 [==============================] - 0s 147us/step - loss: 1.2062 - accuracy: 0.5075 - val_loss: 1.4302 - val_accuracy: 0.3243\n"
     ]
    },
    {
     "data": {
      "text/plain": [
       "<keras.callbacks.callbacks.History at 0x7f276305bb70>"
      ]
     },
     "execution_count": 118,
     "metadata": {
      "tags": []
     },
     "output_type": "execute_result"
    }
   ],
   "source": [
    "from keras.models import Sequential\n",
    "from keras.layers import Dense, Activation, Dropout\n",
    "import keras\n",
    "from keras.optimizers import SGD\n",
    "\n",
    "\n",
    "# create model\n",
    "NN = Sequential()\n",
    "NN.add(Dense(64, input_dim=6, activation='relu'))\n",
    "NN.add(Dense(64, activation='relu'))\n",
    "NN.add(Dense(200, activation='relu'))\n",
    "NN.add(Dense(5, activation='softmax'))\n",
    "# Compile model\n",
    "NN.compile(loss='categorical_crossentropy', optimizer='sgd', metrics=['accuracy'])\n",
    "\n",
    "                                                                  \n",
    "# Fitting the NN to the Training set\n",
    "NN.fit(X_train, y_train, \n",
    "               batch_size = 60, \n",
    "               epochs = 300, validation_split=0.35)  \n"
   ]
  },
  {
   "cell_type": "code",
   "execution_count": null,
   "metadata": {
    "colab": {
     "base_uri": "https://localhost:8080/"
    },
    "id": "wTfRMlZaTYHS",
    "outputId": "73133077-5a2b-4600-bd3c-31145e6a6dd7"
   },
   "outputs": [
    {
     "name": "stdout",
     "output_type": "stream",
     "text": [
      "[1 1 1 1 4 3 1 1 1 1 3 1 3 1 3 1 4 4 4 3 4 3 3 3 1 1 1 1 1 2 1 1 1 4 1 4 4\n",
      " 0 1 1 1 3 4 3 3 1 4 1 1 1 1 0]\n",
      "['High', 'High', 'High', 'High', 'Very Low', 'Very High', 'High', 'High', 'High', 'High', 'Very High', 'High', 'Very High', 'High', 'Very High', 'High', 'Very Low', 'Very Low', 'Very Low', 'Very High', 'Very Low', 'Very High', 'Very High', 'Very High', 'High', 'High', 'High', 'High', 'High', 'Low', 'High', 'High', 'High', 'Very Low', 'High', 'Very Low', 'Very Low', 'Average', 'High', 'High', 'High', 'Very High', 'Very Low', 'Very High', 'Very High', 'High', 'Very Low', 'High', 'High', 'High', 'High', 'Average']\n"
     ]
    }
   ],
   "source": [
    "# using predict_classes() for multi-class data to return predicted class index.\n",
    "\n",
    "print(NN.predict_classes(X_test))\n",
    "prediction_index=NN.predict_classes(X_test)\n",
    "\n",
    "#Now lets run some code to get keras to return the label rather than the index...\n",
    "\n",
    "# get labels from one hot encoded y_train data\n",
    "labels=y_train.columns\n",
    "\n",
    "# Iterate through all predicted indices using map method\n",
    "\n",
    "predicted_labels=list(map(lambda x: labels[x], prediction_index))\n",
    "print(predicted_labels)"
   ]
  },
  {
   "cell_type": "code",
   "execution_count": null,
   "metadata": {
    "id": "c4bBfH5cTYHS"
   },
   "outputs": [],
   "source": [
    "Y_test = y_test.to_numpy()"
   ]
  },
  {
   "cell_type": "code",
   "execution_count": null,
   "metadata": {
    "colab": {
     "base_uri": "https://localhost:8080/"
    },
    "id": "BwZLr5BBTYHS",
    "outputId": "43eb7bb9-ace6-41fc-da36-d22f5820d2c3"
   },
   "outputs": [
    {
     "data": {
      "text/plain": [
       "(52,)"
      ]
     },
     "execution_count": 121,
     "metadata": {
      "tags": []
     },
     "output_type": "execute_result"
    }
   ],
   "source": [
    "y_labels=np.argmax(Y_test, axis=1)\n",
    "y_labels.shape"
   ]
  },
  {
   "cell_type": "code",
   "execution_count": null,
   "metadata": {
    "colab": {
     "base_uri": "https://localhost:8080/"
    },
    "id": "ln51DdaqTYHS",
    "outputId": "d93a509a-6e4d-4393-892b-1a35e8e3a146"
   },
   "outputs": [
    {
     "data": {
      "text/plain": [
       "(52,)"
      ]
     },
     "execution_count": 122,
     "metadata": {
      "tags": []
     },
     "output_type": "execute_result"
    }
   ],
   "source": [
    "prediction_index.shape"
   ]
  },
  {
   "cell_type": "code",
   "execution_count": null,
   "metadata": {
    "colab": {
     "base_uri": "https://localhost:8080/"
    },
    "id": "9hHnnPRvTYHT",
    "outputId": "ddedbcb1-c8a9-4ad7-d4c1-89747d6a4325"
   },
   "outputs": [
    {
     "name": "stdout",
     "output_type": "stream",
     "text": [
      "Accuracy: 42.31%\n"
     ]
    }
   ],
   "source": [
    "# Evaluate held out test data\n",
    "from sklearn.metrics import accuracy_score\n",
    "\n",
    "print(\"Accuracy: {:.2f}%\".format(accuracy_score(y_labels,prediction_index) * 100))"
   ]
  },
  {
   "cell_type": "markdown",
   "metadata": {
    "id": "H8BRqQ_iTYHT"
   },
   "source": [
    "## Save Preprocessor fxn to \"preprocessor.zip\""
   ]
  },
  {
   "cell_type": "code",
   "execution_count": null,
   "metadata": {
    "colab": {
     "base_uri": "https://localhost:8080/"
    },
    "id": "ctir7WfnTYHT",
    "outputId": "4beacfb7-3a1b-4332-a5c3-d2f5493db4e1"
   },
   "outputs": [
    {
     "name": "stdout",
     "output_type": "stream",
     "text": [
      "Looking in indexes: https://pypi.org/simple, https://test.pypi.org/simple/\n",
      "Collecting aimodelshare\n",
      "\u001b[?25l  Downloading https://test-files.pythonhosted.org/packages/13/a5/286fbc9b1a0c3adeffec586d3a3134c9bd180d8e6b13811f334a35baf6f4/aimodelshare-0.0.22-py3-none-any.whl (45kB)\n",
      "\u001b[K     |████████████████████████████████| 51kB 2.8MB/s \n",
      "\u001b[?25hCollecting keras2onnx\n",
      "\u001b[?25l  Downloading https://files.pythonhosted.org/packages/a6/2f/c7aef8f8215c62d55ea05f5b36737c1726e4fea6c73970909523ae497fd9/keras2onnx-1.7.0-py3-none-any.whl (96kB)\n",
      "\u001b[K     |████████████████████████████████| 102kB 3.8MB/s \n",
      "\u001b[?25hCollecting onnxruntime\n",
      "\u001b[?25l  Downloading https://files.pythonhosted.org/packages/b3/a9/f009251fd1b91a2e1ce6f22d4b5be9936fbd0072842c5087a2a49706c509/onnxruntime-1.6.0-cp36-cp36m-manylinux2014_x86_64.whl (4.1MB)\n",
      "\u001b[K     |████████████████████████████████| 4.1MB 5.7MB/s \n",
      "\u001b[?25hCollecting skl2onnx\n",
      "\u001b[?25l  Downloading https://files.pythonhosted.org/packages/8a/41/47cb3c420d3a1d0a1ad38ef636ac2d4929c938c2f209582bcf3b33440b1a/skl2onnx-1.7.0-py2.py3-none-any.whl (191kB)\n",
      "\u001b[K     |████████████████████████████████| 194kB 38.3MB/s \n",
      "\u001b[?25hCollecting botocore\n",
      "\u001b[?25l  Downloading https://files.pythonhosted.org/packages/7b/81/2450e2b7f6ff15bfcbf9a60992a9a32a68d378ee18ee74f79c7034ea882c/botocore-1.20.4-py2.py3-none-any.whl (7.2MB)\n",
      "\u001b[K     |████████████████████████████████| 7.2MB 32.8MB/s \n",
      "\u001b[?25hCollecting boto3\n",
      "\u001b[?25l  Downloading https://files.pythonhosted.org/packages/e2/4b/d16d94af2a53cdce2c1f59026938fe2b15e40a3e8b3db3fcbb371c1b75ea/boto3-1.17.4-py2.py3-none-any.whl (130kB)\n",
      "\u001b[K     |████████████████████████████████| 133kB 50.9MB/s \n",
      "\u001b[?25hRequirement already satisfied, skipping upgrade: urllib3 in /usr/local/lib/python3.6/dist-packages (from aimodelshare) (1.24.3)\n",
      "Requirement already satisfied, skipping upgrade: scikit-learn==0.24.1 in /usr/local/lib/python3.6/dist-packages (from aimodelshare) (0.24.1)\n",
      "Collecting onnx\n",
      "\u001b[?25l  Downloading https://test-files.pythonhosted.org/packages/f1/ee/3c8c8c965b7a012a7634e031fe4c47b9bb44ac3d2f76066e6aaf3ee4c2d1/onnx-1.8.102-cp36-cp36m-manylinux2010_x86_64.whl (9.0MB)\n",
      "\u001b[K     |████████████████████████████████| 9.0MB 6.8MB/s \n",
      "\u001b[?25hRequirement already satisfied, skipping upgrade: numpy in /usr/local/lib/python3.6/dist-packages (from keras2onnx->aimodelshare) (1.19.5)\n",
      "Requirement already satisfied, skipping upgrade: requests in /usr/local/lib/python3.6/dist-packages (from keras2onnx->aimodelshare) (2.23.0)\n",
      "Collecting onnxconverter-common>=1.7.0\n",
      "\u001b[?25l  Downloading https://files.pythonhosted.org/packages/fe/7a/7e30c643cd7d2ad87689188ef34ce93e657bd14da3605f87bcdbc19cd5b1/onnxconverter_common-1.7.0-py2.py3-none-any.whl (64kB)\n",
      "\u001b[K     |████████████████████████████████| 71kB 5.8MB/s \n",
      "\u001b[?25hCollecting fire\n",
      "\u001b[?25l  Downloading https://files.pythonhosted.org/packages/11/07/a119a1aa04d37bc819940d95ed7e135a7dcca1c098123a3764a6dcace9e7/fire-0.4.0.tar.gz (87kB)\n",
      "\u001b[K     |████████████████████████████████| 92kB 7.4MB/s \n",
      "\u001b[?25hRequirement already satisfied, skipping upgrade: protobuf in /usr/local/lib/python3.6/dist-packages (from keras2onnx->aimodelshare) (3.12.4)\n",
      "Requirement already satisfied, skipping upgrade: six in /usr/local/lib/python3.6/dist-packages (from skl2onnx->aimodelshare) (1.15.0)\n",
      "Requirement already satisfied, skipping upgrade: scipy>=1.0 in /usr/local/lib/python3.6/dist-packages (from skl2onnx->aimodelshare) (1.4.1)\n",
      "Collecting jmespath<1.0.0,>=0.7.1\n",
      "  Downloading https://files.pythonhosted.org/packages/07/cb/5f001272b6faeb23c1c9e0acc04d48eaaf5c862c17709d20e3469c6e0139/jmespath-0.10.0-py2.py3-none-any.whl\n",
      "Requirement already satisfied, skipping upgrade: python-dateutil<3.0.0,>=2.1 in /usr/local/lib/python3.6/dist-packages (from botocore->aimodelshare) (2.8.1)\n",
      "Collecting s3transfer<0.4.0,>=0.3.0\n",
      "\u001b[?25l  Downloading https://files.pythonhosted.org/packages/ea/43/4b4a1b26eb03a429a4c37ca7fdf369d938bd60018fc194e94b8379b0c77c/s3transfer-0.3.4-py2.py3-none-any.whl (69kB)\n",
      "\u001b[K     |████████████████████████████████| 71kB 7.0MB/s \n",
      "\u001b[?25hRequirement already satisfied, skipping upgrade: threadpoolctl>=2.0.0 in /usr/local/lib/python3.6/dist-packages (from scikit-learn==0.24.1->aimodelshare) (2.1.0)\n",
      "Requirement already satisfied, skipping upgrade: joblib>=0.11 in /usr/local/lib/python3.6/dist-packages (from scikit-learn==0.24.1->aimodelshare) (1.0.0)\n",
      "Requirement already satisfied, skipping upgrade: typing-extensions>=3.6.2.1 in /usr/local/lib/python3.6/dist-packages (from onnx->aimodelshare) (3.7.4.3)\n",
      "Requirement already satisfied, skipping upgrade: chardet<4,>=3.0.2 in /usr/local/lib/python3.6/dist-packages (from requests->keras2onnx->aimodelshare) (3.0.4)\n",
      "Requirement already satisfied, skipping upgrade: idna<3,>=2.5 in /usr/local/lib/python3.6/dist-packages (from requests->keras2onnx->aimodelshare) (2.10)\n",
      "Requirement already satisfied, skipping upgrade: certifi>=2017.4.17 in /usr/local/lib/python3.6/dist-packages (from requests->keras2onnx->aimodelshare) (2020.12.5)\n",
      "Requirement already satisfied, skipping upgrade: termcolor in /usr/local/lib/python3.6/dist-packages (from fire->keras2onnx->aimodelshare) (1.1.0)\n",
      "Requirement already satisfied, skipping upgrade: setuptools in /usr/local/lib/python3.6/dist-packages (from protobuf->keras2onnx->aimodelshare) (53.0.0)\n",
      "Building wheels for collected packages: fire\n",
      "  Building wheel for fire (setup.py) ... \u001b[?25l\u001b[?25hdone\n",
      "  Created wheel for fire: filename=fire-0.4.0-py2.py3-none-any.whl size=115928 sha256=a065a3aa15db48d931cb4232dafe33a60e25fc4543b3e27f165aade3400e376a\n",
      "  Stored in directory: /root/.cache/pip/wheels/af/19/30/1ea0cad502dcb4e66ed5a690279628c827aea38bbbab75d5ed\n",
      "Successfully built fire\n",
      "\u001b[31mERROR: botocore 1.20.4 has requirement urllib3<1.27,>=1.25.4, but you'll have urllib3 1.24.3 which is incompatible.\u001b[0m\n",
      "\u001b[31mERROR: aimodelshare 0.0.22 has requirement urllib3==1.25.10, but you'll have urllib3 1.24.3 which is incompatible.\u001b[0m\n",
      "Installing collected packages: onnx, onnxconverter-common, fire, keras2onnx, onnxruntime, skl2onnx, jmespath, botocore, s3transfer, boto3, aimodelshare\n",
      "Successfully installed aimodelshare-0.0.22 boto3-1.17.4 botocore-1.20.4 fire-0.4.0 jmespath-0.10.0 keras2onnx-1.7.0 onnx-1.8.102 onnxconverter-common-1.7.0 onnxruntime-1.6.0 s3transfer-0.3.4 skl2onnx-1.7.0\n"
     ]
    }
   ],
   "source": [
    "#install aimodelshare library\n",
    "! pip install aimodelshare --upgrade --extra-index-url https://test.pypi.org/simple/ "
   ]
  },
  {
   "cell_type": "code",
   "execution_count": null,
   "metadata": {
    "colab": {
     "base_uri": "https://localhost:8080/"
    },
    "id": "sZcxJKkqTYHT",
    "outputId": "3164fda1-e0e7-4544-ee3d-e8605b01f11f",
    "scrolled": true
   },
   "outputs": [
    {
     "name": "stdout",
     "output_type": "stream",
     "text": [
      "Requirement already up-to-date: dill in /usr/local/lib/python3.6/dist-packages (0.3.3)\n"
     ]
    }
   ],
   "source": [
    "pip install --upgrade dill"
   ]
  },
  {
   "cell_type": "code",
   "execution_count": null,
   "metadata": {
    "colab": {
     "base_uri": "https://localhost:8080/"
    },
    "id": "v0JbVLjxTYHU",
    "outputId": "ec77a766-07c5-459c-e9b9-a1754bd34360"
   },
   "outputs": [
    {
     "name": "stdout",
     "output_type": "stream",
     "text": [
      "Requirement already up-to-date: scikit-learn in /usr/local/lib/python3.6/dist-packages (0.24.1)\n",
      "Requirement already satisfied, skipping upgrade: threadpoolctl>=2.0.0 in /usr/local/lib/python3.6/dist-packages (from scikit-learn) (2.1.0)\n",
      "Requirement already satisfied, skipping upgrade: scipy>=0.19.1 in /usr/local/lib/python3.6/dist-packages (from scikit-learn) (1.4.1)\n",
      "Requirement already satisfied, skipping upgrade: joblib>=0.11 in /usr/local/lib/python3.6/dist-packages (from scikit-learn) (1.0.0)\n",
      "Requirement already satisfied, skipping upgrade: numpy>=1.13.3 in /usr/local/lib/python3.6/dist-packages (from scikit-learn) (1.19.5)\n"
     ]
    }
   ],
   "source": [
    "pip install --upgrade scikit-learn"
   ]
  },
  {
   "cell_type": "code",
   "execution_count": null,
   "metadata": {
    "id": "0B3cNQCQTYHU"
   },
   "outputs": [],
   "source": [
    "#Save preprocessor function to local \"preprocessor.zip\" file for leaderboard submission\n",
    "import aimodelshare as ai\n",
    "ai.export_preprocessor(preprocessor,\"\")"
   ]
  },
  {
   "cell_type": "code",
   "execution_count": null,
   "metadata": {
    "colab": {
     "base_uri": "https://localhost:8080/"
    },
    "id": "5Uy0M5HuTYHU",
    "outputId": "75b9624b-51f3-46e0-eaae-eacb51852f46"
   },
   "outputs": [
    {
     "name": "stderr",
     "output_type": "stream",
     "text": [
      "The ONNX operator number change on the optimization: 32 -> 12\n"
     ]
    }
   ],
   "source": [
    "from aimodelshare.aimsonnx import model_to_onnx\n",
    "# transform sklearn model to ONNX\n",
    "onnx_model_keras= model_to_onnx(NN, framework='keras', \n",
    "                                   transfer_learning=False,\n",
    "                                   deep_learning=True,\n",
    "                                   task_type='classification')\n",
    "\n",
    "# Save model to local .onnx file\n",
    "with open(\"onnx_model_keras.onnx\", \"wb\") as f:\n",
    "    f.write(onnx_model_keras.SerializeToString())"
   ]
  },
  {
   "cell_type": "markdown",
   "metadata": {
    "id": "kZ7lbkqFTYHV"
   },
   "source": [
    "## Model Submission"
   ]
  },
  {
   "cell_type": "code",
   "execution_count": null,
   "metadata": {
    "id": "nKLXm1iJTYHV"
   },
   "outputs": [],
   "source": [
    "\n",
    "#aimodelshare username and password\n",
    "username = \"xuejingli\"\n",
    "password = \"ABc@@1997\"\n",
    "\n",
    "# load submit model creds (only gives access to s3 bucket)\n",
    "# Load from pkl file\n",
    "import pickle\n",
    "with open(\"aws_creds_worldhappiness.pkl\", 'rb') as file:\n",
    "    aws_key,aws_password,region = pickle.load(file)\n",
    "\n",
    "token=ai.aws.get_aws_token(username, password)\n",
    "awscreds=ai.aws.get_aws_client(aws_key=aws_key, aws_secret=aws_password, aws_region=region)"
   ]
  },
  {
   "cell_type": "code",
   "execution_count": null,
   "metadata": {
    "colab": {
     "base_uri": "https://localhost:8080/"
    },
    "id": "K44dMEz3TYHV",
    "outputId": "b0234f8c-a492-4a9f-ec6f-b9efb25a76e8"
   },
   "outputs": [
    {
     "data": {
      "text/plain": [
       "True"
      ]
     },
     "execution_count": 127,
     "metadata": {
      "tags": []
     },
     "output_type": "execute_result"
    }
   ],
   "source": [
    "# Submit_model() to leaderboard\n",
    "ai.submit_model(\"onnx_model_keras.onnx\",\n",
    "                \"https://z69mxrxdz5.execute-api.us-east-1.amazonaws.com/prod/m\",\n",
    "                token,awscreds,prediction_submission=predicted_labels,\n",
    "                preprocessor=\"preprocessor.zip\")"
   ]
  },
  {
   "cell_type": "code",
   "execution_count": null,
   "metadata": {
    "colab": {
     "base_uri": "https://localhost:8080/",
     "height": 387
    },
    "id": "Wp4iFpOeUTF5",
    "outputId": "8aafce84-0143-4e96-ae18-47e8379dca87"
   },
   "outputs": [
    {
     "data": {
      "text/html": [
       "<div>\n",
       "<style scoped>\n",
       "    .dataframe tbody tr th:only-of-type {\n",
       "        vertical-align: middle;\n",
       "    }\n",
       "\n",
       "    .dataframe tbody tr th {\n",
       "        vertical-align: top;\n",
       "    }\n",
       "\n",
       "    .dataframe thead th {\n",
       "        text-align: right;\n",
       "    }\n",
       "</style>\n",
       "<table border=\"1\" class=\"dataframe\">\n",
       "  <thead>\n",
       "    <tr style=\"text-align: right;\">\n",
       "      <th></th>\n",
       "      <th>accuracy</th>\n",
       "      <th>f1_score</th>\n",
       "      <th>precision</th>\n",
       "      <th>recall</th>\n",
       "      <th>ml_framework</th>\n",
       "      <th>transfer_learning</th>\n",
       "      <th>deep_learning</th>\n",
       "      <th>model_type</th>\n",
       "      <th>depth</th>\n",
       "      <th>num_params</th>\n",
       "      <th>dense_layers</th>\n",
       "      <th>loss</th>\n",
       "      <th>optimizer</th>\n",
       "      <th>model_config</th>\n",
       "      <th>username</th>\n",
       "      <th>timestamp</th>\n",
       "      <th>version</th>\n",
       "    </tr>\n",
       "  </thead>\n",
       "  <tbody>\n",
       "    <tr>\n",
       "      <th>40</th>\n",
       "      <td>0.423077</td>\n",
       "      <td>0.384271</td>\n",
       "      <td>0.597273</td>\n",
       "      <td>0.448030</td>\n",
       "      <td>keras</td>\n",
       "      <td>NaN</td>\n",
       "      <td>True</td>\n",
       "      <td>Sequential</td>\n",
       "      <td>4.0</td>\n",
       "      <td>18613.0</td>\n",
       "      <td>4.0</td>\n",
       "      <td>str</td>\n",
       "      <td>SGD</td>\n",
       "      <td>{'name': 'sequential_12', 'layers': [{'class_n...</td>\n",
       "      <td>xuejingli</td>\n",
       "      <td>2021-02-08 20:33:40.481131</td>\n",
       "      <td>140</td>\n",
       "    </tr>\n",
       "    <tr>\n",
       "      <th>61</th>\n",
       "      <td>0.423077</td>\n",
       "      <td>0.389933</td>\n",
       "      <td>0.464301</td>\n",
       "      <td>0.448030</td>\n",
       "      <td>keras</td>\n",
       "      <td>NaN</td>\n",
       "      <td>True</td>\n",
       "      <td>Sequential</td>\n",
       "      <td>5.0</td>\n",
       "      <td>74253.0</td>\n",
       "      <td>5.0</td>\n",
       "      <td>str</td>\n",
       "      <td>SGD</td>\n",
       "      <td>{'name': 'sequential_1', 'layers': [{'class_na...</td>\n",
       "      <td>xuejingli</td>\n",
       "      <td>2021-02-08 20:23:09.267754</td>\n",
       "      <td>139</td>\n",
       "    </tr>\n",
       "    <tr>\n",
       "      <th>62</th>\n",
       "      <td>0.423077</td>\n",
       "      <td>0.414180</td>\n",
       "      <td>0.460000</td>\n",
       "      <td>0.438485</td>\n",
       "      <td>keras</td>\n",
       "      <td>NaN</td>\n",
       "      <td>True</td>\n",
       "      <td>Sequential</td>\n",
       "      <td>5.0</td>\n",
       "      <td>58225.0</td>\n",
       "      <td>5.0</td>\n",
       "      <td>str</td>\n",
       "      <td>SGD</td>\n",
       "      <td>{'name': 'sequential_7', 'layers': [{'class_na...</td>\n",
       "      <td>xuejingli</td>\n",
       "      <td>2021-02-04 20:05:24.034533</td>\n",
       "      <td>79</td>\n",
       "    </tr>\n",
       "    <tr>\n",
       "      <th>99</th>\n",
       "      <td>0.288462</td>\n",
       "      <td>0.192579</td>\n",
       "      <td>0.166297</td>\n",
       "      <td>0.327273</td>\n",
       "      <td>keras</td>\n",
       "      <td>NaN</td>\n",
       "      <td>True</td>\n",
       "      <td>Sequential</td>\n",
       "      <td>4.0</td>\n",
       "      <td>113.0</td>\n",
       "      <td>4.0</td>\n",
       "      <td>str</td>\n",
       "      <td>SGD</td>\n",
       "      <td>{'name': 'sequential_8', 'layers': [{'class_na...</td>\n",
       "      <td>xuejingli</td>\n",
       "      <td>2021-02-02 00:29:03.288755</td>\n",
       "      <td>52</td>\n",
       "    </tr>\n",
       "  </tbody>\n",
       "</table>\n",
       "</div>"
      ],
      "text/plain": [
       "    accuracy  f1_score  ...                   timestamp  version\n",
       "40  0.423077  0.384271  ...  2021-02-08 20:33:40.481131      140\n",
       "61  0.423077  0.389933  ...  2021-02-08 20:23:09.267754      139\n",
       "62  0.423077  0.414180  ...  2021-02-04 20:05:24.034533       79\n",
       "99  0.288462  0.192579  ...  2021-02-02 00:29:03.288755       52\n",
       "\n",
       "[4 rows x 17 columns]"
      ]
     },
     "execution_count": 137,
     "metadata": {
      "tags": []
     },
     "output_type": "execute_result"
    }
   ],
   "source": [
    "# Check leaderboard\n",
    "import pandas\n",
    "data=ai.get_leaderboard(\"https://z69mxrxdz5.execute-api.us-east-1.amazonaws.com/prod/m\",\n",
    "                token,awscreds,verbose=2)\n",
    "\n",
    "#get rid of any duplicate model submissions\n",
    "#data=data.loc[data.iloc[:,0:8].duplicated()==False,:]\n",
    "data.loc[data[\"username\"] == \"xuejingli\"]"
   ]
  },
  {
   "cell_type": "markdown",
   "metadata": {
    "id": "k12XVyZrTYHW"
   },
   "source": [
    "### Link to Github Repo: https://github.com/GraceXuejingLi/MLProject2021\n"
   ]
  },
  {
   "cell_type": "markdown",
   "metadata": {
    "id": "tikHvQ_2TYHW"
   },
   "source": []
  }
 ],
 "metadata": {
  "colab": {
   "collapsed_sections": [],
   "name": "Assignment#1.ipynb",
   "provenance": []
  },
  "kernelspec": {
   "display_name": "Python 3",
   "language": "python",
   "name": "python3"
  },
  "language_info": {
   "codemirror_mode": {
    "name": "ipython",
    "version": 3
   },
   "file_extension": ".py",
   "mimetype": "text/x-python",
   "name": "python",
   "nbconvert_exporter": "python",
   "pygments_lexer": "ipython3",
   "version": "3.7.6"
  }
 },
 "nbformat": 4,
 "nbformat_minor": 1
}
