{
 "cells": [
  {
   "cell_type": "markdown",
   "metadata": {},
   "source": [
    "Your final report should be written up in a Jupyter notebook.  It should be posted to a public Github repo as an ipynb AND it should be saved as an html file and submitted to this assignment via courseworks.  Please include the link to your Github repo in this html file.\n",
    "\n",
    "Feel free to use R, Excel, or your preferred program to update your csv file before building your model.    You are welcome, but not required, to add any other country level features you would like to your dataset before using the data to complete your report. \n",
    "\n",
    "### Your report should include the following information:\n",
    "\n",
    "### Explore bivariate results (Use visualizations!)\n",
    "- Describe any relationships you see between particular features and the target variable\n",
    "\n",
    "### Examine features that predict happiness categories using one or more models that allow for automatic feature selection\n",
    "- Explain any meaningful findings\n",
    "\n",
    "### Run at least three prediction models to try to predict World Happiness well.\n",
    "\n",
    "- Discuss which models performed better and point out relevant hyper-parameter values for successful models.\n",
    "  - Gradiant Boosting(XGBoost)\n",
    "  - Keras\n",
    "  - SVM\n",
    "  \n",
    "  \n",
    "- Submit your best model to the leader board for the World Happiness AI Model Share competition.\n",
    "   - You have the option to present and/or discuss these models in your report, but it is not required."
   ]
  },
  {
   "cell_type": "markdown",
   "metadata": {},
   "source": [
    "## EDA Plan\n",
    "     1. Understanding Data: Check columns, data type, null values, shape, etc..\n",
    "     2. Build graphs to explkore bivariate relationships between feautres and the target vairables to draw insights for modeling.\n",
    "     3. Get ride of Outliers\n",
    "     ## 4. If we were to recode \"region\" into dummies, would that improve the model?"
   ]
  },
  {
   "cell_type": "code",
   "execution_count": 1,
   "metadata": {},
   "outputs": [],
   "source": [
    "import matplotlib.pyplot as plt\n",
    "import numpy as np\n",
    "import pandas as pd\n",
    "import seaborn as sns"
   ]
  },
  {
   "cell_type": "code",
   "execution_count": 2,
   "metadata": {},
   "outputs": [
    {
     "data": {
      "text/plain": [
       "(156, 11)"
      ]
     },
     "execution_count": 2,
     "metadata": {},
     "output_type": "execute_result"
    }
   ],
   "source": [
    "Happy = pd.read_csv(\"worldhappiness2019.csv\")\n",
    "Happy.shape"
   ]
  },
  {
   "cell_type": "code",
   "execution_count": 3,
   "metadata": {},
   "outputs": [
    {
     "data": {
      "text/plain": [
       "Happiness_level\n",
       "Average      31\n",
       "High         32\n",
       "Low          31\n",
       "Very High    31\n",
       "Very Low     31\n",
       "Name: Happiness_level, dtype: int64"
      ]
     },
     "execution_count": 3,
     "metadata": {},
     "output_type": "execute_result"
    }
   ],
   "source": [
    "level_counts = Happy.groupby(\"Happiness_level\").Happiness_level.count()\n",
    "level_counts"
   ]
  },
  {
   "cell_type": "code",
   "execution_count": 4,
   "metadata": {},
   "outputs": [
    {
     "data": {
      "text/html": [
       "<div>\n",
       "<style scoped>\n",
       "    .dataframe tbody tr th:only-of-type {\n",
       "        vertical-align: middle;\n",
       "    }\n",
       "\n",
       "    .dataframe tbody tr th {\n",
       "        vertical-align: top;\n",
       "    }\n",
       "\n",
       "    .dataframe thead th {\n",
       "        text-align: right;\n",
       "    }\n",
       "</style>\n",
       "<table border=\"1\" class=\"dataframe\">\n",
       "  <thead>\n",
       "    <tr style=\"text-align: right;\">\n",
       "      <th></th>\n",
       "      <th>Happiness_level</th>\n",
       "      <th>Country or region</th>\n",
       "      <th>GDP per capita</th>\n",
       "      <th>Social support</th>\n",
       "      <th>Healthy life expectancy</th>\n",
       "      <th>Freedom to make life choices</th>\n",
       "      <th>Generosity</th>\n",
       "      <th>Perceptions of corruption</th>\n",
       "      <th>name</th>\n",
       "      <th>region</th>\n",
       "      <th>sub-region</th>\n",
       "    </tr>\n",
       "  </thead>\n",
       "  <tbody>\n",
       "    <tr>\n",
       "      <th>0</th>\n",
       "      <td>Very High</td>\n",
       "      <td>Finland</td>\n",
       "      <td>1.340</td>\n",
       "      <td>1.587</td>\n",
       "      <td>0.986</td>\n",
       "      <td>0.596</td>\n",
       "      <td>0.153</td>\n",
       "      <td>0.393</td>\n",
       "      <td>Finland</td>\n",
       "      <td>Europe</td>\n",
       "      <td>Northern Europe</td>\n",
       "    </tr>\n",
       "    <tr>\n",
       "      <th>1</th>\n",
       "      <td>Very High</td>\n",
       "      <td>Denmark</td>\n",
       "      <td>1.383</td>\n",
       "      <td>1.573</td>\n",
       "      <td>0.996</td>\n",
       "      <td>0.592</td>\n",
       "      <td>0.252</td>\n",
       "      <td>0.410</td>\n",
       "      <td>Denmark</td>\n",
       "      <td>Europe</td>\n",
       "      <td>Northern Europe</td>\n",
       "    </tr>\n",
       "    <tr>\n",
       "      <th>2</th>\n",
       "      <td>Very High</td>\n",
       "      <td>Norway</td>\n",
       "      <td>1.488</td>\n",
       "      <td>1.582</td>\n",
       "      <td>1.028</td>\n",
       "      <td>0.603</td>\n",
       "      <td>0.271</td>\n",
       "      <td>0.341</td>\n",
       "      <td>Norway</td>\n",
       "      <td>Europe</td>\n",
       "      <td>Northern Europe</td>\n",
       "    </tr>\n",
       "    <tr>\n",
       "      <th>3</th>\n",
       "      <td>Very High</td>\n",
       "      <td>Iceland</td>\n",
       "      <td>1.380</td>\n",
       "      <td>1.624</td>\n",
       "      <td>1.026</td>\n",
       "      <td>0.591</td>\n",
       "      <td>0.354</td>\n",
       "      <td>0.118</td>\n",
       "      <td>Iceland</td>\n",
       "      <td>Europe</td>\n",
       "      <td>Northern Europe</td>\n",
       "    </tr>\n",
       "    <tr>\n",
       "      <th>4</th>\n",
       "      <td>Very High</td>\n",
       "      <td>Netherlands</td>\n",
       "      <td>1.396</td>\n",
       "      <td>1.522</td>\n",
       "      <td>0.999</td>\n",
       "      <td>0.557</td>\n",
       "      <td>0.322</td>\n",
       "      <td>0.298</td>\n",
       "      <td>Netherlands</td>\n",
       "      <td>Europe</td>\n",
       "      <td>Western Europe</td>\n",
       "    </tr>\n",
       "  </tbody>\n",
       "</table>\n",
       "</div>"
      ],
      "text/plain": [
       "  Happiness_level Country or region  GDP per capita  Social support  \\\n",
       "0       Very High           Finland           1.340           1.587   \n",
       "1       Very High           Denmark           1.383           1.573   \n",
       "2       Very High            Norway           1.488           1.582   \n",
       "3       Very High           Iceland           1.380           1.624   \n",
       "4       Very High       Netherlands           1.396           1.522   \n",
       "\n",
       "   Healthy life expectancy  Freedom to make life choices  Generosity  \\\n",
       "0                    0.986                         0.596       0.153   \n",
       "1                    0.996                         0.592       0.252   \n",
       "2                    1.028                         0.603       0.271   \n",
       "3                    1.026                         0.591       0.354   \n",
       "4                    0.999                         0.557       0.322   \n",
       "\n",
       "   Perceptions of corruption         name  region       sub-region  \n",
       "0                      0.393      Finland  Europe  Northern Europe  \n",
       "1                      0.410      Denmark  Europe  Northern Europe  \n",
       "2                      0.341       Norway  Europe  Northern Europe  \n",
       "3                      0.118      Iceland  Europe  Northern Europe  \n",
       "4                      0.298  Netherlands  Europe   Western Europe  "
      ]
     },
     "execution_count": 4,
     "metadata": {},
     "output_type": "execute_result"
    }
   ],
   "source": [
    "Happy.head()"
   ]
  },
  {
   "cell_type": "code",
   "execution_count": 5,
   "metadata": {
    "scrolled": true
   },
   "outputs": [
    {
     "data": {
      "text/html": [
       "<div>\n",
       "<style scoped>\n",
       "    .dataframe tbody tr th:only-of-type {\n",
       "        vertical-align: middle;\n",
       "    }\n",
       "\n",
       "    .dataframe tbody tr th {\n",
       "        vertical-align: top;\n",
       "    }\n",
       "\n",
       "    .dataframe thead th {\n",
       "        text-align: right;\n",
       "    }\n",
       "</style>\n",
       "<table border=\"1\" class=\"dataframe\">\n",
       "  <thead>\n",
       "    <tr style=\"text-align: right;\">\n",
       "      <th></th>\n",
       "      <th>GDP per capita</th>\n",
       "      <th>Social support</th>\n",
       "      <th>Healthy life expectancy</th>\n",
       "      <th>Freedom to make life choices</th>\n",
       "      <th>Generosity</th>\n",
       "      <th>Perceptions of corruption</th>\n",
       "    </tr>\n",
       "  </thead>\n",
       "  <tbody>\n",
       "    <tr>\n",
       "      <th>count</th>\n",
       "      <td>156.000000</td>\n",
       "      <td>156.000000</td>\n",
       "      <td>156.000000</td>\n",
       "      <td>156.000000</td>\n",
       "      <td>156.000000</td>\n",
       "      <td>156.000000</td>\n",
       "    </tr>\n",
       "    <tr>\n",
       "      <th>mean</th>\n",
       "      <td>0.905147</td>\n",
       "      <td>1.208814</td>\n",
       "      <td>0.725244</td>\n",
       "      <td>0.392571</td>\n",
       "      <td>0.184846</td>\n",
       "      <td>0.110603</td>\n",
       "    </tr>\n",
       "    <tr>\n",
       "      <th>std</th>\n",
       "      <td>0.398389</td>\n",
       "      <td>0.299191</td>\n",
       "      <td>0.242124</td>\n",
       "      <td>0.143289</td>\n",
       "      <td>0.095254</td>\n",
       "      <td>0.094538</td>\n",
       "    </tr>\n",
       "    <tr>\n",
       "      <th>min</th>\n",
       "      <td>0.000000</td>\n",
       "      <td>0.000000</td>\n",
       "      <td>0.000000</td>\n",
       "      <td>0.000000</td>\n",
       "      <td>0.000000</td>\n",
       "      <td>0.000000</td>\n",
       "    </tr>\n",
       "    <tr>\n",
       "      <th>25%</th>\n",
       "      <td>0.602750</td>\n",
       "      <td>1.055750</td>\n",
       "      <td>0.547750</td>\n",
       "      <td>0.308000</td>\n",
       "      <td>0.108750</td>\n",
       "      <td>0.047000</td>\n",
       "    </tr>\n",
       "    <tr>\n",
       "      <th>50%</th>\n",
       "      <td>0.960000</td>\n",
       "      <td>1.271500</td>\n",
       "      <td>0.789000</td>\n",
       "      <td>0.417000</td>\n",
       "      <td>0.177500</td>\n",
       "      <td>0.085500</td>\n",
       "    </tr>\n",
       "    <tr>\n",
       "      <th>75%</th>\n",
       "      <td>1.232500</td>\n",
       "      <td>1.452500</td>\n",
       "      <td>0.881750</td>\n",
       "      <td>0.507250</td>\n",
       "      <td>0.248250</td>\n",
       "      <td>0.141250</td>\n",
       "    </tr>\n",
       "    <tr>\n",
       "      <th>max</th>\n",
       "      <td>1.684000</td>\n",
       "      <td>1.624000</td>\n",
       "      <td>1.141000</td>\n",
       "      <td>0.631000</td>\n",
       "      <td>0.566000</td>\n",
       "      <td>0.453000</td>\n",
       "    </tr>\n",
       "  </tbody>\n",
       "</table>\n",
       "</div>"
      ],
      "text/plain": [
       "       GDP per capita  Social support  Healthy life expectancy  \\\n",
       "count      156.000000      156.000000               156.000000   \n",
       "mean         0.905147        1.208814                 0.725244   \n",
       "std          0.398389        0.299191                 0.242124   \n",
       "min          0.000000        0.000000                 0.000000   \n",
       "25%          0.602750        1.055750                 0.547750   \n",
       "50%          0.960000        1.271500                 0.789000   \n",
       "75%          1.232500        1.452500                 0.881750   \n",
       "max          1.684000        1.624000                 1.141000   \n",
       "\n",
       "       Freedom to make life choices  Generosity  Perceptions of corruption  \n",
       "count                    156.000000  156.000000                 156.000000  \n",
       "mean                       0.392571    0.184846                   0.110603  \n",
       "std                        0.143289    0.095254                   0.094538  \n",
       "min                        0.000000    0.000000                   0.000000  \n",
       "25%                        0.308000    0.108750                   0.047000  \n",
       "50%                        0.417000    0.177500                   0.085500  \n",
       "75%                        0.507250    0.248250                   0.141250  \n",
       "max                        0.631000    0.566000                   0.453000  "
      ]
     },
     "execution_count": 5,
     "metadata": {},
     "output_type": "execute_result"
    }
   ],
   "source": [
    "Happy.describe()"
   ]
  },
  {
   "cell_type": "markdown",
   "metadata": {},
   "source": [
    "## Plots exploring bivariate relationships between each feature and the target variable"
   ]
  },
  {
   "cell_type": "code",
   "execution_count": 6,
   "metadata": {},
   "outputs": [],
   "source": [
    "def categorical_plot(df,feature,label):\n",
    "    sns.boxplot(data=df,x='Happiness_level',y=feature).set_title(label)"
   ]
  },
  {
   "cell_type": "code",
   "execution_count": 7,
   "metadata": {},
   "outputs": [
    {
     "data": {
      "image/png": "[encoded data removed]",
      "text/plain": [
       "<Figure size 432x288 with 1 Axes>"
      ]
     },
     "metadata": {
      "needs_background": "light"
     },
     "output_type": "display_data"
    }
   ],
   "source": [
    "categorical_plot(Happy,'GDP per capita', \"GDP ~ Happiness level\")"
   ]
  },
  {
   "cell_type": "code",
   "execution_count": 8,
   "metadata": {},
   "outputs": [
    {
     "data": {
      "image/png": "[encoded data removed]",
      "text/plain": [
       "<Figure size 432x288 with 1 Axes>"
      ]
     },
     "metadata": {
      "needs_background": "light"
     },
     "output_type": "display_data"
    }
   ],
   "source": [
    "categorical_plot(Happy,'Perceptions of corruption', \"Perceptions of Corruption ~ Happiness level\")"
   ]
  },
  {
   "cell_type": "code",
   "execution_count": 9,
   "metadata": {},
   "outputs": [
    {
     "data": {
      "image/png": "[encoded data removed]",
      "text/plain": [
       "<Figure size 432x288 with 1 Axes>"
      ]
     },
     "metadata": {
      "needs_background": "light"
     },
     "output_type": "display_data"
    }
   ],
   "source": [
    "categorical_plot(Happy,'Freedom to make life choices', \"Freedom to make life choices ~ Happiness level\")"
   ]
  },
  {
   "cell_type": "code",
   "execution_count": 10,
   "metadata": {},
   "outputs": [
    {
     "data": {
      "image/png": "[encoded data removed]",
      "text/plain": [
       "<Figure size 432x288 with 1 Axes>"
      ]
     },
     "metadata": {
      "needs_background": "light"
     },
     "output_type": "display_data"
    }
   ],
   "source": [
    "categorical_plot(Happy,'Social support', \"Social support ~ Happiness level\")"
   ]
  },
  {
   "cell_type": "code",
   "execution_count": 11,
   "metadata": {},
   "outputs": [
    {
     "data": {
      "image/png": "[encoded data removed]",
      "text/plain": [
       "<Figure size 432x288 with 1 Axes>"
      ]
     },
     "metadata": {
      "needs_background": "light"
     },
     "output_type": "display_data"
    }
   ],
   "source": [
    "categorical_plot(Happy,'Healthy life expectancy', \"Healthy life expectancy ~ Happiness level\")"
   ]
  },
  {
   "cell_type": "code",
   "execution_count": 12,
   "metadata": {},
   "outputs": [
    {
     "data": {
      "image/png": "[encoded data removed]",
      "text/plain": [
       "<Figure size 432x288 with 1 Axes>"
      ]
     },
     "metadata": {
      "needs_background": "light"
     },
     "output_type": "display_data"
    }
   ],
   "source": [
    "categorical_plot(Happy,'Generosity', \"Generosity ~ Happiness level\")"
   ]
  },
  {
   "cell_type": "markdown",
   "metadata": {},
   "source": [
    "**Conclusion:** The graphs above show that features such us GDP per capita, Freedom to make life choices, Social support, Healthy life expectancy all have a positive correlation with people's happiness level."
   ]
  },
  {
   "cell_type": "markdown",
   "metadata": {},
   "source": [
    "## Remove Outliers using Interquartile Range (IQR)"
   ]
  },
  {
   "cell_type": "code",
   "execution_count": 13,
   "metadata": {},
   "outputs": [
    {
     "name": "stdout",
     "output_type": "stream",
     "text": [
      "GDP per capita                  0.62975\n",
      "Social support                  0.39675\n",
      "Healthy life expectancy         0.33400\n",
      "Freedom to make life choices    0.19925\n",
      "Generosity                      0.13950\n",
      "Perceptions of corruption       0.09425\n",
      "dtype: float64\n"
     ]
    }
   ],
   "source": [
    "Q1 = Happy.quantile(0.25)\n",
    "Q3 = Happy.quantile(0.75)\n",
    "IQR = Q3 - Q1\n",
    "print(IQR)"
   ]
  },
  {
   "cell_type": "code",
   "execution_count": 14,
   "metadata": {},
   "outputs": [
    {
     "name": "stdout",
     "output_type": "stream",
     "text": [
      "(134, 11)\n"
     ]
    }
   ],
   "source": [
    "Happy_out = Happy[~((Happy < (Q1 - 1.5 * IQR)) |(Happy > (Q3 + 1.5 * IQR))).any(axis=1)]\n",
    "print(Happy_out.shape)"
   ]
  },
  {
   "cell_type": "markdown",
   "metadata": {},
   "source": [
    "## Preprocess Data and "
   ]
  },
  {
   "cell_type": "code",
   "execution_count": 15,
   "metadata": {},
   "outputs": [
    {
     "data": {
      "text/plain": [
       "((156, 7), (156,))"
      ]
     },
     "execution_count": 15,
     "metadata": {},
     "output_type": "execute_result"
    }
   ],
   "source": [
    "# Clean up final region data\n",
    "X = Happy.drop(['Happiness_level', 'name', 'Country or region', 'sub-region'], axis=1)\n",
    "y = Happy['Happiness_level']\n",
    "\n",
    "X.shape, y.shape"
   ]
  },
  {
   "cell_type": "markdown",
   "metadata": {},
   "source": [
    "   **- Preprocess data using Column Transformer and save fit preprocessor to \".pkl\" file**"
   ]
  },
  {
   "cell_type": "code",
   "execution_count": 16,
   "metadata": {},
   "outputs": [],
   "source": [
    "from sklearn.preprocessing import StandardScaler, OneHotEncoder\n",
    "from sklearn.compose import ColumnTransformer, make_column_transformer\n",
    "from sklearn.pipeline import Pipeline\n",
    "from sklearn.impute import SimpleImputer\n",
    "from sklearn.preprocessing import StandardScaler, OneHotEncoder\n",
    "\n",
    "# We create the preprocessing pipelines for both numeric and categorical data.\n",
    "\n",
    "numeric_features=X.columns.tolist()\n",
    "numeric_features.remove('region')\n",
    "\n",
    "numeric_transformer = Pipeline(steps=[\n",
    "    ('imputer', SimpleImputer(strategy='median')),\n",
    "    ('scaler', StandardScaler())])\n",
    "\n",
    "categorical_features = ['region']\n",
    "\n",
    "#Replacing missing values with Modal value and then one hot encoding.\n",
    "categorical_transformer = Pipeline(steps=[\n",
    "    ('imputer', SimpleImputer(strategy='most_frequent')),\n",
    "    ('onehot', OneHotEncoder(handle_unknown='ignore'))])\n",
    "\n",
    "# final preprocessor object set up with ColumnTransformer\n",
    "\n",
    "preprocessor = ColumnTransformer(\n",
    "    transformers=[\n",
    "        ('num', numeric_transformer, numeric_features),\n",
    "        ('cat', categorical_transformer, categorical_features)])\n",
    "\n",
    "\n",
    "#Fit your preprocessor object\n",
    "preprocess=preprocessor.fit(X) "
   ]
  },
  {
   "cell_type": "code",
   "execution_count": 17,
   "metadata": {},
   "outputs": [],
   "source": [
    "# Write function to transform data with preprocessor\n",
    "\n",
    "def preprocessor(data):\n",
    "    preprocessed_data=preprocess.transform(data)\n",
    "    return preprocessed_data"
   ]
  },
  {
   "cell_type": "code",
   "execution_count": 18,
   "metadata": {},
   "outputs": [
    {
     "data": {
      "text/plain": [
       "(156, 11)"
      ]
     },
     "execution_count": 18,
     "metadata": {},
     "output_type": "execute_result"
    }
   ],
   "source": [
    "# Check shape for keras input:\n",
    "preprocessor(X).shape # pretty small dataset"
   ]
  },
  {
   "cell_type": "code",
   "execution_count": 19,
   "metadata": {},
   "outputs": [
    {
     "data": {
      "text/plain": [
       "(156, 5)"
      ]
     },
     "execution_count": 19,
     "metadata": {},
     "output_type": "execute_result"
    }
   ],
   "source": [
    "# Check shape for keras output:\n",
    "pd.get_dummies(y).shape"
   ]
  },
  {
   "cell_type": "code",
   "execution_count": 20,
   "metadata": {},
   "outputs": [
    {
     "data": {
      "text/plain": [
       "Asia        46\n",
       "Africa      45\n",
       "Europe      40\n",
       "Americas    23\n",
       "Oceania      2\n",
       "Name: region, dtype: int64"
      ]
     },
     "execution_count": 20,
     "metadata": {},
     "output_type": "execute_result"
    }
   ],
   "source": [
    "X[\"region\"].value_counts()"
   ]
  },
  {
   "cell_type": "markdown",
   "metadata": {},
   "source": [
    "**- One-Hot Encoding target variable**"
   ]
  },
  {
   "cell_type": "code",
   "execution_count": 21,
   "metadata": {},
   "outputs": [
    {
     "data": {
      "text/html": [
       "<div>\n",
       "<style scoped>\n",
       "    .dataframe tbody tr th:only-of-type {\n",
       "        vertical-align: middle;\n",
       "    }\n",
       "\n",
       "    .dataframe tbody tr th {\n",
       "        vertical-align: top;\n",
       "    }\n",
       "\n",
       "    .dataframe thead th {\n",
       "        text-align: right;\n",
       "    }\n",
       "</style>\n",
       "<table border=\"1\" class=\"dataframe\">\n",
       "  <thead>\n",
       "    <tr style=\"text-align: right;\">\n",
       "      <th></th>\n",
       "      <th>Average</th>\n",
       "      <th>High</th>\n",
       "      <th>Low</th>\n",
       "      <th>Very High</th>\n",
       "      <th>Very Low</th>\n",
       "    </tr>\n",
       "  </thead>\n",
       "  <tbody>\n",
       "    <tr>\n",
       "      <th>0</th>\n",
       "      <td>0</td>\n",
       "      <td>0</td>\n",
       "      <td>0</td>\n",
       "      <td>1</td>\n",
       "      <td>0</td>\n",
       "    </tr>\n",
       "    <tr>\n",
       "      <th>1</th>\n",
       "      <td>0</td>\n",
       "      <td>0</td>\n",
       "      <td>0</td>\n",
       "      <td>1</td>\n",
       "      <td>0</td>\n",
       "    </tr>\n",
       "    <tr>\n",
       "      <th>2</th>\n",
       "      <td>0</td>\n",
       "      <td>0</td>\n",
       "      <td>0</td>\n",
       "      <td>1</td>\n",
       "      <td>0</td>\n",
       "    </tr>\n",
       "    <tr>\n",
       "      <th>3</th>\n",
       "      <td>0</td>\n",
       "      <td>0</td>\n",
       "      <td>0</td>\n",
       "      <td>1</td>\n",
       "      <td>0</td>\n",
       "    </tr>\n",
       "    <tr>\n",
       "      <th>4</th>\n",
       "      <td>0</td>\n",
       "      <td>0</td>\n",
       "      <td>0</td>\n",
       "      <td>1</td>\n",
       "      <td>0</td>\n",
       "    </tr>\n",
       "  </tbody>\n",
       "</table>\n",
       "</div>"
      ],
      "text/plain": [
       "   Average  High  Low  Very High  Very Low\n",
       "0        0     0    0          1         0\n",
       "1        0     0    0          1         0\n",
       "2        0     0    0          1         0\n",
       "3        0     0    0          1         0\n",
       "4        0     0    0          1         0"
      ]
     },
     "execution_count": 21,
     "metadata": {},
     "output_type": "execute_result"
    }
   ],
   "source": [
    "y1 = pd.get_dummies(y)\n",
    "y1.head()"
   ]
  },
  {
   "cell_type": "markdown",
   "metadata": {},
   "source": [
    "**- Using get dummies approach to encode region column**"
   ]
  },
  {
   "cell_type": "code",
   "execution_count": 22,
   "metadata": {},
   "outputs": [],
   "source": [
    "X1 = pd.get_dummies(X, columns=[\"region\"])"
   ]
  },
  {
   "cell_type": "code",
   "execution_count": 23,
   "metadata": {},
   "outputs": [
    {
     "data": {
      "text/html": [
       "<div>\n",
       "<style scoped>\n",
       "    .dataframe tbody tr th:only-of-type {\n",
       "        vertical-align: middle;\n",
       "    }\n",
       "\n",
       "    .dataframe tbody tr th {\n",
       "        vertical-align: top;\n",
       "    }\n",
       "\n",
       "    .dataframe thead th {\n",
       "        text-align: right;\n",
       "    }\n",
       "</style>\n",
       "<table border=\"1\" class=\"dataframe\">\n",
       "  <thead>\n",
       "    <tr style=\"text-align: right;\">\n",
       "      <th></th>\n",
       "      <th>GDP per capita</th>\n",
       "      <th>Social support</th>\n",
       "      <th>Healthy life expectancy</th>\n",
       "      <th>Freedom to make life choices</th>\n",
       "      <th>Generosity</th>\n",
       "      <th>Perceptions of corruption</th>\n",
       "      <th>region_Africa</th>\n",
       "      <th>region_Americas</th>\n",
       "      <th>region_Asia</th>\n",
       "      <th>region_Europe</th>\n",
       "      <th>region_Oceania</th>\n",
       "    </tr>\n",
       "  </thead>\n",
       "  <tbody>\n",
       "    <tr>\n",
       "      <th>0</th>\n",
       "      <td>1.340</td>\n",
       "      <td>1.587</td>\n",
       "      <td>0.986</td>\n",
       "      <td>0.596</td>\n",
       "      <td>0.153</td>\n",
       "      <td>0.393</td>\n",
       "      <td>0</td>\n",
       "      <td>0</td>\n",
       "      <td>0</td>\n",
       "      <td>1</td>\n",
       "      <td>0</td>\n",
       "    </tr>\n",
       "    <tr>\n",
       "      <th>1</th>\n",
       "      <td>1.383</td>\n",
       "      <td>1.573</td>\n",
       "      <td>0.996</td>\n",
       "      <td>0.592</td>\n",
       "      <td>0.252</td>\n",
       "      <td>0.410</td>\n",
       "      <td>0</td>\n",
       "      <td>0</td>\n",
       "      <td>0</td>\n",
       "      <td>1</td>\n",
       "      <td>0</td>\n",
       "    </tr>\n",
       "    <tr>\n",
       "      <th>2</th>\n",
       "      <td>1.488</td>\n",
       "      <td>1.582</td>\n",
       "      <td>1.028</td>\n",
       "      <td>0.603</td>\n",
       "      <td>0.271</td>\n",
       "      <td>0.341</td>\n",
       "      <td>0</td>\n",
       "      <td>0</td>\n",
       "      <td>0</td>\n",
       "      <td>1</td>\n",
       "      <td>0</td>\n",
       "    </tr>\n",
       "    <tr>\n",
       "      <th>3</th>\n",
       "      <td>1.380</td>\n",
       "      <td>1.624</td>\n",
       "      <td>1.026</td>\n",
       "      <td>0.591</td>\n",
       "      <td>0.354</td>\n",
       "      <td>0.118</td>\n",
       "      <td>0</td>\n",
       "      <td>0</td>\n",
       "      <td>0</td>\n",
       "      <td>1</td>\n",
       "      <td>0</td>\n",
       "    </tr>\n",
       "    <tr>\n",
       "      <th>4</th>\n",
       "      <td>1.396</td>\n",
       "      <td>1.522</td>\n",
       "      <td>0.999</td>\n",
       "      <td>0.557</td>\n",
       "      <td>0.322</td>\n",
       "      <td>0.298</td>\n",
       "      <td>0</td>\n",
       "      <td>0</td>\n",
       "      <td>0</td>\n",
       "      <td>1</td>\n",
       "      <td>0</td>\n",
       "    </tr>\n",
       "  </tbody>\n",
       "</table>\n",
       "</div>"
      ],
      "text/plain": [
       "   GDP per capita  Social support  Healthy life expectancy  \\\n",
       "0           1.340           1.587                    0.986   \n",
       "1           1.383           1.573                    0.996   \n",
       "2           1.488           1.582                    1.028   \n",
       "3           1.380           1.624                    1.026   \n",
       "4           1.396           1.522                    0.999   \n",
       "\n",
       "   Freedom to make life choices  Generosity  Perceptions of corruption  \\\n",
       "0                         0.596       0.153                      0.393   \n",
       "1                         0.592       0.252                      0.410   \n",
       "2                         0.603       0.271                      0.341   \n",
       "3                         0.591       0.354                      0.118   \n",
       "4                         0.557       0.322                      0.298   \n",
       "\n",
       "   region_Africa  region_Americas  region_Asia  region_Europe  region_Oceania  \n",
       "0              0                0            0              1               0  \n",
       "1              0                0            0              1               0  \n",
       "2              0                0            0              1               0  \n",
       "3              0                0            0              1               0  \n",
       "4              0                0            0              1               0  "
      ]
     },
     "execution_count": 23,
     "metadata": {},
     "output_type": "execute_result"
    }
   ],
   "source": [
    "X1.head()"
   ]
  },
  {
   "cell_type": "markdown",
   "metadata": {},
   "source": [
    "## Automatic Feature Selection using Random Forest Classifier"
   ]
  },
  {
   "cell_type": "code",
   "execution_count": 24,
   "metadata": {},
   "outputs": [],
   "source": [
    "from sklearn.feature_selection import SelectFromModel\n",
    "from sklearn.ensemble import RandomForestClassifier\n",
    "\n",
    "RandomForest = RandomForestClassifier(n_estimators=100, random_state=42)\n",
    "select = SelectFromModel(\n",
    "RandomForest,\n",
    "threshold=\"median\")\n"
   ]
  },
  {
   "cell_type": "code",
   "execution_count": 25,
   "metadata": {},
   "outputs": [
    {
     "name": "stdout",
     "output_type": "stream",
     "text": [
      "X1.shape: (156, 11)\n",
      "X1_l1.shape: (156, 6)\n"
     ]
    }
   ],
   "source": [
    "#select.fit(X1, y1)\n",
    "#X1_l1 = select.transform(X1)\n",
    "X1_l1 = select.fit_transform(X1, y1)\n",
    "print(\"X1.shape: {}\".format(X1.shape))\n",
    "print(\"X1_l1.shape: {}\".format(X1_l1.shape))"
   ]
  },
  {
   "cell_type": "code",
   "execution_count": 26,
   "metadata": {},
   "outputs": [
    {
     "data": {
      "text/plain": [
       "numpy.ndarray"
      ]
     },
     "execution_count": 26,
     "metadata": {},
     "output_type": "execute_result"
    }
   ],
   "source": [
    "type(X1_l1)"
   ]
  },
  {
   "cell_type": "code",
   "execution_count": 27,
   "metadata": {},
   "outputs": [
    {
     "name": "stdout",
     "output_type": "stream",
     "text": [
      "We started with 10 features but retained only 6 of them!\n"
     ]
    }
   ],
   "source": [
    "print(\"We started with {0} features but retained only {1} of them!\".format(X1.shape[1] - 1, X1_l1.shape[1]))  "
   ]
  },
  {
   "cell_type": "code",
   "execution_count": 28,
   "metadata": {},
   "outputs": [],
   "source": [
    "#How do I plot feature importances by ascending order?"
   ]
  },
  {
   "cell_type": "code",
   "execution_count": 30,
   "metadata": {},
   "outputs": [],
   "source": [
    "#print(\"Feature importances:\\n{}\".format(RandomForest.feature_importances_))"
   ]
  },
  {
   "cell_type": "markdown",
   "metadata": {},
   "source": [
    "## Building Prediction Models"
   ]
  },
  {
   "cell_type": "code",
   "execution_count": 31,
   "metadata": {},
   "outputs": [
    {
     "name": "stdout",
     "output_type": "stream",
     "text": [
      "(104, 6)\n",
      "(104, 5)\n"
     ]
    }
   ],
   "source": [
    "# Set up training and test data\n",
    "from sklearn.model_selection import train_test_split\n",
    "\n",
    "X_train, X_test, y_train, y_test = train_test_split(X1_l1, y1, test_size=.33, random_state=42)\n",
    "\n",
    "print(X_train.shape)\n",
    "print(y_train.shape)"
   ]
  },
  {
   "cell_type": "markdown",
   "metadata": {},
   "source": [
    "### 1. KNN Classification"
   ]
  },
  {
   "cell_type": "code",
   "execution_count": 32,
   "metadata": {},
   "outputs": [
    {
     "name": "stdout",
     "output_type": "stream",
     "text": [
      "Test set Score: 0.38\n",
      "Best Parameter: {'n_neighbors': 3}\n"
     ]
    }
   ],
   "source": [
    "from sklearn.model_selection import GridSearchCV\n",
    "from sklearn.neighbors import KNeighborsClassifier\n",
    "param_gridknn = {'n_neighbors': range(1, 10)}\n",
    "knn = KNeighborsClassifier().fit(X_train,y_train)\n",
    "knn_grid = GridSearchCV(knn, param_gridknn).fit(X_train,y_train)\n",
    "\n",
    "print(\"Test set Score: {:.2f}\".format(knn_grid.score(X_test, y_test)))\n",
    "print(\"Best Parameter: {}\".format(knn_grid.best_params_))"
   ]
  },
  {
   "cell_type": "markdown",
   "metadata": {},
   "source": [
    "### 2. Gradient Boosting"
   ]
  },
  {
   "cell_type": "code",
   "execution_count": 33,
   "metadata": {},
   "outputs": [],
   "source": [
    "from sklearn.ensemble import GradientBoostingClassifier\n",
    "gradientB = GradientBoostingClassifier()\n",
    "#gradientB.fit(X_train, y_train)\n",
    "\n",
    "#print(\"Accuracy on test set: {:.3f}\".format(gbrt.score(X_test, y_test)))"
   ]
  },
  {
   "cell_type": "markdown",
   "metadata": {},
   "source": [
    "### 2. Random Forrest"
   ]
  },
  {
   "cell_type": "code",
   "execution_count": 34,
   "metadata": {},
   "outputs": [
    {
     "name": "stdout",
     "output_type": "stream",
     "text": [
      "Accuracy on training set: 1.000\n",
      "Accuracy on test set: 0.269\n"
     ]
    }
   ],
   "source": [
    "from sklearn.ensemble import RandomForestClassifier\n",
    "\n",
    "forest = RandomForestClassifier(n_estimators=100, random_state=0)\n",
    "forest.fit(X_train, y_train)\n",
    "\n",
    "print(\"Accuracy on training set: {:.3f}\".format(forest.score(X_train, y_train)))\n",
    "print(\"Accuracy on test set: {:.3f}\".format(forest.score(X_test, y_test)))"
   ]
  },
  {
   "cell_type": "markdown",
   "metadata": {},
   "source": [
    "## 3. Support Vector Machine"
   ]
  },
  {
   "cell_type": "code",
   "execution_count": 35,
   "metadata": {},
   "outputs": [],
   "source": [
    "from sklearn.svm import SVC\n",
    "svc = SVC()\n",
    "#svc.fit(X_train, y_train)\n",
    "#print(\"Accuracy on training set: {:.2f}\".format(svc.score(X_train, y_train)))\n",
    "#print(\"Accuracy on test set: {:.2f}\".format(svc.score(X_test, y_test)))"
   ]
  },
  {
   "cell_type": "markdown",
   "metadata": {},
   "source": [
    "### 4. Nerual Network with Keras"
   ]
  },
  {
   "cell_type": "code",
   "execution_count": 36,
   "metadata": {},
   "outputs": [
    {
     "name": "stdout",
     "output_type": "stream",
     "text": [
      "Requirement already satisfied: keras in /Users/xuejingli/opt/anaconda3/lib/python3.7/site-packages (2.4.3)\n",
      "Requirement already satisfied: pyyaml in /Users/xuejingli/opt/anaconda3/lib/python3.7/site-packages (from keras) (5.3)\n",
      "Requirement already satisfied: numpy>=1.9.1 in /Users/xuejingli/opt/anaconda3/lib/python3.7/site-packages (from keras) (1.18.1)\n",
      "Requirement already satisfied: h5py in /Users/xuejingli/opt/anaconda3/lib/python3.7/site-packages (from keras) (2.10.0)\n",
      "Requirement already satisfied: scipy>=0.14 in /Users/xuejingli/opt/anaconda3/lib/python3.7/site-packages (from keras) (1.4.1)\n",
      "Requirement already satisfied: six in /Users/xuejingli/opt/anaconda3/lib/python3.7/site-packages (from h5py->keras) (1.14.0)\n",
      "Note: you may need to restart the kernel to use updated packages.\n"
     ]
    }
   ],
   "source": [
    "pip install keras"
   ]
  },
  {
   "cell_type": "code",
   "execution_count": 58,
   "metadata": {
    "scrolled": false
   },
   "outputs": [
    {
     "name": "stdout",
     "output_type": "stream",
     "text": [
      "Epoch 1/300\n",
      "2/2 [==============================] - 0s 64ms/step - loss: 1.6199 - accuracy: 0.1791 - val_loss: 1.6151 - val_accuracy: 0.2162\n",
      "Epoch 2/300\n",
      "2/2 [==============================] - 0s 8ms/step - loss: 1.6161 - accuracy: 0.1791 - val_loss: 1.6134 - val_accuracy: 0.2162\n",
      "Epoch 3/300\n",
      "2/2 [==============================] - 0s 8ms/step - loss: 1.6127 - accuracy: 0.1791 - val_loss: 1.6127 - val_accuracy: 0.2703\n",
      "Epoch 4/300\n",
      "2/2 [==============================] - 0s 8ms/step - loss: 1.6088 - accuracy: 0.1940 - val_loss: 1.6114 - val_accuracy: 0.2973\n",
      "Epoch 5/300\n",
      "2/2 [==============================] - 0s 8ms/step - loss: 1.6056 - accuracy: 0.3582 - val_loss: 1.6103 - val_accuracy: 0.2973\n",
      "Epoch 6/300\n",
      "2/2 [==============================] - 0s 8ms/step - loss: 1.6031 - accuracy: 0.3731 - val_loss: 1.6093 - val_accuracy: 0.3514\n",
      "Epoch 7/300\n",
      "2/2 [==============================] - 0s 9ms/step - loss: 1.6004 - accuracy: 0.3731 - val_loss: 1.6083 - val_accuracy: 0.3514\n",
      "Epoch 8/300\n",
      "2/2 [==============================] - 0s 9ms/step - loss: 1.5979 - accuracy: 0.3731 - val_loss: 1.6070 - val_accuracy: 0.2973\n",
      "Epoch 9/300\n",
      "2/2 [==============================] - 0s 9ms/step - loss: 1.5946 - accuracy: 0.3582 - val_loss: 1.6073 - val_accuracy: 0.2703\n",
      "Epoch 10/300\n",
      "2/2 [==============================] - 0s 8ms/step - loss: 1.5917 - accuracy: 0.3582 - val_loss: 1.6058 - val_accuracy: 0.2703\n",
      "Epoch 11/300\n",
      "2/2 [==============================] - 0s 9ms/step - loss: 1.5896 - accuracy: 0.3582 - val_loss: 1.6059 - val_accuracy: 0.2432\n",
      "Epoch 12/300\n",
      "2/2 [==============================] - 0s 9ms/step - loss: 1.5867 - accuracy: 0.3433 - val_loss: 1.6050 - val_accuracy: 0.2162\n",
      "Epoch 13/300\n",
      "2/2 [==============================] - 0s 9ms/step - loss: 1.5843 - accuracy: 0.3881 - val_loss: 1.6044 - val_accuracy: 0.2162\n",
      "Epoch 14/300\n",
      "2/2 [==============================] - 0s 12ms/step - loss: 1.5823 - accuracy: 0.3284 - val_loss: 1.6036 - val_accuracy: 0.2162\n",
      "Epoch 15/300\n",
      "2/2 [==============================] - 0s 10ms/step - loss: 1.5805 - accuracy: 0.3284 - val_loss: 1.6038 - val_accuracy: 0.2162\n",
      "Epoch 16/300\n",
      "2/2 [==============================] - 0s 9ms/step - loss: 1.5784 - accuracy: 0.3284 - val_loss: 1.6038 - val_accuracy: 0.2162\n",
      "Epoch 17/300\n",
      "2/2 [==============================] - 0s 9ms/step - loss: 1.5762 - accuracy: 0.3284 - val_loss: 1.6026 - val_accuracy: 0.1892\n",
      "Epoch 18/300\n",
      "2/2 [==============================] - 0s 9ms/step - loss: 1.5742 - accuracy: 0.2836 - val_loss: 1.6031 - val_accuracy: 0.1892\n",
      "Epoch 19/300\n",
      "2/2 [==============================] - 0s 9ms/step - loss: 1.5725 - accuracy: 0.2687 - val_loss: 1.6040 - val_accuracy: 0.1622\n",
      "Epoch 20/300\n",
      "2/2 [==============================] - 0s 9ms/step - loss: 1.5701 - accuracy: 0.2388 - val_loss: 1.6043 - val_accuracy: 0.1622\n",
      "Epoch 21/300\n",
      "2/2 [==============================] - 0s 9ms/step - loss: 1.5684 - accuracy: 0.2388 - val_loss: 1.6035 - val_accuracy: 0.1622\n",
      "Epoch 22/300\n",
      "2/2 [==============================] - 0s 10ms/step - loss: 1.5669 - accuracy: 0.2388 - val_loss: 1.6023 - val_accuracy: 0.1622\n",
      "Epoch 23/300\n",
      "2/2 [==============================] - 0s 9ms/step - loss: 1.5657 - accuracy: 0.2388 - val_loss: 1.6016 - val_accuracy: 0.1622\n",
      "Epoch 24/300\n",
      "2/2 [==============================] - 0s 9ms/step - loss: 1.5640 - accuracy: 0.2388 - val_loss: 1.6014 - val_accuracy: 0.1622\n",
      "Epoch 25/300\n",
      "2/2 [==============================] - 0s 8ms/step - loss: 1.5626 - accuracy: 0.2388 - val_loss: 1.6009 - val_accuracy: 0.1622\n",
      "Epoch 26/300\n",
      "2/2 [==============================] - 0s 9ms/step - loss: 1.5611 - accuracy: 0.2388 - val_loss: 1.6005 - val_accuracy: 0.1622\n",
      "Epoch 27/300\n",
      "2/2 [==============================] - 0s 8ms/step - loss: 1.5598 - accuracy: 0.2388 - val_loss: 1.5987 - val_accuracy: 0.1892\n",
      "Epoch 28/300\n",
      "2/2 [==============================] - 0s 8ms/step - loss: 1.5592 - accuracy: 0.2388 - val_loss: 1.5980 - val_accuracy: 0.2162\n",
      "Epoch 29/300\n",
      "2/2 [==============================] - 0s 8ms/step - loss: 1.5581 - accuracy: 0.2836 - val_loss: 1.5979 - val_accuracy: 0.2162\n",
      "Epoch 30/300\n",
      "2/2 [==============================] - 0s 8ms/step - loss: 1.5564 - accuracy: 0.2836 - val_loss: 1.5988 - val_accuracy: 0.1892\n",
      "Epoch 31/300\n",
      "2/2 [==============================] - 0s 8ms/step - loss: 1.5545 - accuracy: 0.2687 - val_loss: 1.5988 - val_accuracy: 0.1622\n",
      "Epoch 32/300\n",
      "2/2 [==============================] - 0s 8ms/step - loss: 1.5528 - accuracy: 0.2388 - val_loss: 1.5993 - val_accuracy: 0.1622\n",
      "Epoch 33/300\n",
      "2/2 [==============================] - 0s 9ms/step - loss: 1.5513 - accuracy: 0.2388 - val_loss: 1.5973 - val_accuracy: 0.2162\n",
      "Epoch 34/300\n",
      "2/2 [==============================] - 0s 9ms/step - loss: 1.5501 - accuracy: 0.2836 - val_loss: 1.5966 - val_accuracy: 0.1892\n",
      "Epoch 35/300\n",
      "2/2 [==============================] - 0s 9ms/step - loss: 1.5487 - accuracy: 0.2985 - val_loss: 1.5966 - val_accuracy: 0.1892\n",
      "Epoch 36/300\n",
      "2/2 [==============================] - 0s 8ms/step - loss: 1.5470 - accuracy: 0.2985 - val_loss: 1.5960 - val_accuracy: 0.1892\n",
      "Epoch 37/300\n",
      "2/2 [==============================] - 0s 9ms/step - loss: 1.5459 - accuracy: 0.2537 - val_loss: 1.5959 - val_accuracy: 0.1892\n",
      "Epoch 38/300\n",
      "2/2 [==============================] - 0s 9ms/step - loss: 1.5447 - accuracy: 0.2836 - val_loss: 1.5964 - val_accuracy: 0.1892\n",
      "Epoch 39/300\n",
      "2/2 [==============================] - 0s 9ms/step - loss: 1.5435 - accuracy: 0.2537 - val_loss: 1.5971 - val_accuracy: 0.1622\n",
      "Epoch 40/300\n",
      "2/2 [==============================] - 0s 8ms/step - loss: 1.5423 - accuracy: 0.2388 - val_loss: 1.5962 - val_accuracy: 0.1622\n",
      "Epoch 41/300\n",
      "2/2 [==============================] - 0s 8ms/step - loss: 1.5411 - accuracy: 0.2388 - val_loss: 1.5958 - val_accuracy: 0.1892\n",
      "Epoch 42/300\n",
      "2/2 [==============================] - 0s 8ms/step - loss: 1.5400 - accuracy: 0.2836 - val_loss: 1.5960 - val_accuracy: 0.1892\n",
      "Epoch 43/300\n",
      "2/2 [==============================] - 0s 9ms/step - loss: 1.5388 - accuracy: 0.2687 - val_loss: 1.5960 - val_accuracy: 0.1892\n",
      "Epoch 44/300\n",
      "2/2 [==============================] - 0s 8ms/step - loss: 1.5376 - accuracy: 0.2836 - val_loss: 1.5954 - val_accuracy: 0.1892\n",
      "Epoch 45/300\n",
      "2/2 [==============================] - 0s 9ms/step - loss: 1.5366 - accuracy: 0.2687 - val_loss: 1.5927 - val_accuracy: 0.1892\n",
      "Epoch 46/300\n",
      "2/2 [==============================] - 0s 8ms/step - loss: 1.5357 - accuracy: 0.2836 - val_loss: 1.5922 - val_accuracy: 0.2432\n",
      "Epoch 47/300\n",
      "2/2 [==============================] - 0s 9ms/step - loss: 1.5343 - accuracy: 0.3284 - val_loss: 1.5920 - val_accuracy: 0.2432\n",
      "Epoch 48/300\n",
      "2/2 [==============================] - 0s 8ms/step - loss: 1.5331 - accuracy: 0.3433 - val_loss: 1.5909 - val_accuracy: 0.2432\n",
      "Epoch 49/300\n",
      "2/2 [==============================] - 0s 9ms/step - loss: 1.5322 - accuracy: 0.4179 - val_loss: 1.5892 - val_accuracy: 0.2432\n",
      "Epoch 50/300\n",
      "2/2 [==============================] - 0s 8ms/step - loss: 1.5313 - accuracy: 0.4478 - val_loss: 1.5901 - val_accuracy: 0.2432\n",
      "Epoch 51/300\n",
      "2/2 [==============================] - 0s 8ms/step - loss: 1.5299 - accuracy: 0.4030 - val_loss: 1.5912 - val_accuracy: 0.2432\n",
      "Epoch 52/300\n",
      "2/2 [==============================] - 0s 7ms/step - loss: 1.5286 - accuracy: 0.4179 - val_loss: 1.5914 - val_accuracy: 0.2432\n",
      "Epoch 53/300\n",
      "2/2 [==============================] - 0s 9ms/step - loss: 1.5273 - accuracy: 0.3881 - val_loss: 1.5905 - val_accuracy: 0.2432\n",
      "Epoch 54/300\n",
      "2/2 [==============================] - 0s 8ms/step - loss: 1.5266 - accuracy: 0.3881 - val_loss: 1.5922 - val_accuracy: 0.1892\n",
      "Epoch 55/300\n",
      "2/2 [==============================] - 0s 8ms/step - loss: 1.5254 - accuracy: 0.2687 - val_loss: 1.5895 - val_accuracy: 0.1892\n",
      "Epoch 56/300\n",
      "2/2 [==============================] - 0s 8ms/step - loss: 1.5244 - accuracy: 0.3284 - val_loss: 1.5876 - val_accuracy: 0.2432\n",
      "Epoch 57/300\n",
      "2/2 [==============================] - 0s 8ms/step - loss: 1.5231 - accuracy: 0.4030 - val_loss: 1.5854 - val_accuracy: 0.2432\n",
      "Epoch 58/300\n",
      "2/2 [==============================] - 0s 8ms/step - loss: 1.5224 - accuracy: 0.4478 - val_loss: 1.5858 - val_accuracy: 0.2432\n",
      "Epoch 59/300\n"
     ]
    },
    {
     "name": "stdout",
     "output_type": "stream",
     "text": [
      "2/2 [==============================] - 0s 8ms/step - loss: 1.5211 - accuracy: 0.4478 - val_loss: 1.5870 - val_accuracy: 0.2432\n",
      "Epoch 60/300\n",
      "2/2 [==============================] - 0s 8ms/step - loss: 1.5199 - accuracy: 0.3582 - val_loss: 1.5867 - val_accuracy: 0.2703\n",
      "Epoch 61/300\n",
      "2/2 [==============================] - 0s 7ms/step - loss: 1.5191 - accuracy: 0.3881 - val_loss: 1.5883 - val_accuracy: 0.2432\n",
      "Epoch 62/300\n",
      "2/2 [==============================] - 0s 8ms/step - loss: 1.5173 - accuracy: 0.4179 - val_loss: 1.5892 - val_accuracy: 0.1892\n",
      "Epoch 63/300\n",
      "2/2 [==============================] - 0s 8ms/step - loss: 1.5160 - accuracy: 0.3433 - val_loss: 1.5871 - val_accuracy: 0.2432\n",
      "Epoch 64/300\n",
      "2/2 [==============================] - 0s 8ms/step - loss: 1.5146 - accuracy: 0.4030 - val_loss: 1.5864 - val_accuracy: 0.2432\n",
      "Epoch 65/300\n",
      "2/2 [==============================] - 0s 8ms/step - loss: 1.5135 - accuracy: 0.4030 - val_loss: 1.5874 - val_accuracy: 0.1892\n",
      "Epoch 66/300\n",
      "2/2 [==============================] - 0s 8ms/step - loss: 1.5125 - accuracy: 0.3433 - val_loss: 1.5841 - val_accuracy: 0.2162\n",
      "Epoch 67/300\n",
      "2/2 [==============================] - 0s 8ms/step - loss: 1.5118 - accuracy: 0.3582 - val_loss: 1.5840 - val_accuracy: 0.2432\n",
      "Epoch 68/300\n",
      "2/2 [==============================] - 0s 8ms/step - loss: 1.5105 - accuracy: 0.3582 - val_loss: 1.5843 - val_accuracy: 0.1892\n",
      "Epoch 69/300\n",
      "2/2 [==============================] - 0s 8ms/step - loss: 1.5090 - accuracy: 0.3582 - val_loss: 1.5818 - val_accuracy: 0.2703\n",
      "Epoch 70/300\n",
      "2/2 [==============================] - 0s 8ms/step - loss: 1.5078 - accuracy: 0.4179 - val_loss: 1.5821 - val_accuracy: 0.2432\n",
      "Epoch 71/300\n",
      "2/2 [==============================] - 0s 7ms/step - loss: 1.5062 - accuracy: 0.4925 - val_loss: 1.5811 - val_accuracy: 0.2432\n",
      "Epoch 72/300\n",
      "2/2 [==============================] - 0s 8ms/step - loss: 1.5050 - accuracy: 0.4179 - val_loss: 1.5824 - val_accuracy: 0.2162\n",
      "Epoch 73/300\n",
      "2/2 [==============================] - 0s 8ms/step - loss: 1.5033 - accuracy: 0.4925 - val_loss: 1.5815 - val_accuracy: 0.2703\n",
      "Epoch 74/300\n",
      "2/2 [==============================] - 0s 8ms/step - loss: 1.5021 - accuracy: 0.4179 - val_loss: 1.5832 - val_accuracy: 0.2432\n",
      "Epoch 75/300\n",
      "2/2 [==============================] - 0s 8ms/step - loss: 1.5010 - accuracy: 0.4030 - val_loss: 1.5795 - val_accuracy: 0.2432\n",
      "Epoch 76/300\n",
      "2/2 [==============================] - 0s 8ms/step - loss: 1.4999 - accuracy: 0.4179 - val_loss: 1.5793 - val_accuracy: 0.2432\n",
      "Epoch 77/300\n",
      "2/2 [==============================] - 0s 8ms/step - loss: 1.4990 - accuracy: 0.4179 - val_loss: 1.5767 - val_accuracy: 0.2703\n",
      "Epoch 78/300\n",
      "2/2 [==============================] - 0s 8ms/step - loss: 1.4987 - accuracy: 0.4179 - val_loss: 1.5767 - val_accuracy: 0.2703\n",
      "Epoch 79/300\n",
      "2/2 [==============================] - 0s 8ms/step - loss: 1.4977 - accuracy: 0.4179 - val_loss: 1.5752 - val_accuracy: 0.2703\n",
      "Epoch 80/300\n",
      "2/2 [==============================] - 0s 8ms/step - loss: 1.4963 - accuracy: 0.4627 - val_loss: 1.5743 - val_accuracy: 0.2703\n",
      "Epoch 81/300\n",
      "2/2 [==============================] - 0s 8ms/step - loss: 1.4946 - accuracy: 0.4925 - val_loss: 1.5763 - val_accuracy: 0.2703\n",
      "Epoch 82/300\n",
      "2/2 [==============================] - 0s 8ms/step - loss: 1.4929 - accuracy: 0.4925 - val_loss: 1.5787 - val_accuracy: 0.2432\n",
      "Epoch 83/300\n",
      "2/2 [==============================] - 0s 8ms/step - loss: 1.4914 - accuracy: 0.4627 - val_loss: 1.5769 - val_accuracy: 0.2703\n",
      "Epoch 84/300\n",
      "2/2 [==============================] - 0s 8ms/step - loss: 1.4898 - accuracy: 0.4478 - val_loss: 1.5731 - val_accuracy: 0.2703\n",
      "Epoch 85/300\n",
      "2/2 [==============================] - 0s 8ms/step - loss: 1.4886 - accuracy: 0.4627 - val_loss: 1.5729 - val_accuracy: 0.2703\n",
      "Epoch 86/300\n",
      "2/2 [==============================] - 0s 8ms/step - loss: 1.4869 - accuracy: 0.4478 - val_loss: 1.5733 - val_accuracy: 0.2703\n",
      "Epoch 87/300\n",
      "2/2 [==============================] - 0s 8ms/step - loss: 1.4858 - accuracy: 0.4627 - val_loss: 1.5731 - val_accuracy: 0.2432\n",
      "Epoch 88/300\n",
      "2/2 [==============================] - 0s 9ms/step - loss: 1.4838 - accuracy: 0.4030 - val_loss: 1.5720 - val_accuracy: 0.2162\n",
      "Epoch 89/300\n",
      "2/2 [==============================] - 0s 9ms/step - loss: 1.4825 - accuracy: 0.3731 - val_loss: 1.5700 - val_accuracy: 0.2703\n",
      "Epoch 90/300\n",
      "2/2 [==============================] - 0s 9ms/step - loss: 1.4807 - accuracy: 0.4478 - val_loss: 1.5711 - val_accuracy: 0.2703\n",
      "Epoch 91/300\n",
      "2/2 [==============================] - 0s 8ms/step - loss: 1.4790 - accuracy: 0.4179 - val_loss: 1.5736 - val_accuracy: 0.2162\n",
      "Epoch 92/300\n",
      "2/2 [==============================] - 0s 8ms/step - loss: 1.4777 - accuracy: 0.3731 - val_loss: 1.5707 - val_accuracy: 0.2973\n",
      "Epoch 93/300\n",
      "2/2 [==============================] - 0s 8ms/step - loss: 1.4759 - accuracy: 0.4328 - val_loss: 1.5692 - val_accuracy: 0.2703\n",
      "Epoch 94/300\n",
      "2/2 [==============================] - 0s 8ms/step - loss: 1.4743 - accuracy: 0.4179 - val_loss: 1.5685 - val_accuracy: 0.2973\n",
      "Epoch 95/300\n",
      "2/2 [==============================] - 0s 8ms/step - loss: 1.4729 - accuracy: 0.4030 - val_loss: 1.5705 - val_accuracy: 0.2973\n",
      "Epoch 96/300\n",
      "2/2 [==============================] - 0s 8ms/step - loss: 1.4713 - accuracy: 0.4627 - val_loss: 1.5742 - val_accuracy: 0.2432\n",
      "Epoch 97/300\n",
      "2/2 [==============================] - 0s 8ms/step - loss: 1.4699 - accuracy: 0.4030 - val_loss: 1.5736 - val_accuracy: 0.2703\n",
      "Epoch 98/300\n",
      "2/2 [==============================] - 0s 8ms/step - loss: 1.4685 - accuracy: 0.4030 - val_loss: 1.5724 - val_accuracy: 0.2432\n",
      "Epoch 99/300\n",
      "2/2 [==============================] - 0s 8ms/step - loss: 1.4673 - accuracy: 0.3881 - val_loss: 1.5736 - val_accuracy: 0.2973\n",
      "Epoch 100/300\n",
      "2/2 [==============================] - 0s 8ms/step - loss: 1.4654 - accuracy: 0.4030 - val_loss: 1.5729 - val_accuracy: 0.2703\n",
      "Epoch 101/300\n",
      "2/2 [==============================] - 0s 8ms/step - loss: 1.4636 - accuracy: 0.4179 - val_loss: 1.5713 - val_accuracy: 0.2973\n",
      "Epoch 102/300\n",
      "2/2 [==============================] - 0s 8ms/step - loss: 1.4619 - accuracy: 0.4328 - val_loss: 1.5710 - val_accuracy: 0.2432\n",
      "Epoch 103/300\n",
      "2/2 [==============================] - 0s 8ms/step - loss: 1.4607 - accuracy: 0.3881 - val_loss: 1.5692 - val_accuracy: 0.2973\n",
      "Epoch 104/300\n",
      "2/2 [==============================] - 0s 8ms/step - loss: 1.4591 - accuracy: 0.4627 - val_loss: 1.5682 - val_accuracy: 0.2973\n",
      "Epoch 105/300\n",
      "2/2 [==============================] - 0s 8ms/step - loss: 1.4575 - accuracy: 0.4478 - val_loss: 1.5656 - val_accuracy: 0.2973\n",
      "Epoch 106/300\n",
      "2/2 [==============================] - 0s 8ms/step - loss: 1.4563 - accuracy: 0.4478 - val_loss: 1.5613 - val_accuracy: 0.2973\n",
      "Epoch 107/300\n",
      "2/2 [==============================] - 0s 8ms/step - loss: 1.4551 - accuracy: 0.5075 - val_loss: 1.5637 - val_accuracy: 0.2973\n",
      "Epoch 108/300\n",
      "2/2 [==============================] - 0s 8ms/step - loss: 1.4532 - accuracy: 0.4478 - val_loss: 1.5637 - val_accuracy: 0.2432\n",
      "Epoch 109/300\n",
      "2/2 [==============================] - 0s 8ms/step - loss: 1.4516 - accuracy: 0.3881 - val_loss: 1.5627 - val_accuracy: 0.2703\n",
      "Epoch 110/300\n",
      "2/2 [==============================] - 0s 8ms/step - loss: 1.4504 - accuracy: 0.3881 - val_loss: 1.5655 - val_accuracy: 0.2432\n",
      "Epoch 111/300\n",
      "2/2 [==============================] - 0s 8ms/step - loss: 1.4481 - accuracy: 0.3881 - val_loss: 1.5654 - val_accuracy: 0.2432\n",
      "Epoch 112/300\n",
      "2/2 [==============================] - 0s 8ms/step - loss: 1.4465 - accuracy: 0.3881 - val_loss: 1.5665 - val_accuracy: 0.2432\n",
      "Epoch 113/300\n",
      "2/2 [==============================] - 0s 8ms/step - loss: 1.4454 - accuracy: 0.3881 - val_loss: 1.5698 - val_accuracy: 0.2432\n",
      "Epoch 114/300\n",
      "2/2 [==============================] - 0s 8ms/step - loss: 1.4439 - accuracy: 0.4030 - val_loss: 1.5624 - val_accuracy: 0.2973\n",
      "Epoch 115/300\n",
      "2/2 [==============================] - 0s 8ms/step - loss: 1.4415 - accuracy: 0.4478 - val_loss: 1.5557 - val_accuracy: 0.3243\n",
      "Epoch 116/300\n",
      "2/2 [==============================] - 0s 8ms/step - loss: 1.4401 - accuracy: 0.4179 - val_loss: 1.5581 - val_accuracy: 0.3243\n",
      "Epoch 117/300\n"
     ]
    },
    {
     "name": "stdout",
     "output_type": "stream",
     "text": [
      "2/2 [==============================] - 0s 9ms/step - loss: 1.4388 - accuracy: 0.4627 - val_loss: 1.5583 - val_accuracy: 0.2973\n",
      "Epoch 118/300\n",
      "2/2 [==============================] - 0s 8ms/step - loss: 1.4374 - accuracy: 0.3881 - val_loss: 1.5614 - val_accuracy: 0.2432\n",
      "Epoch 119/300\n",
      "2/2 [==============================] - 0s 8ms/step - loss: 1.4363 - accuracy: 0.3881 - val_loss: 1.5537 - val_accuracy: 0.2973\n",
      "Epoch 120/300\n",
      "2/2 [==============================] - 0s 8ms/step - loss: 1.4353 - accuracy: 0.3881 - val_loss: 1.5525 - val_accuracy: 0.2973\n",
      "Epoch 121/300\n",
      "2/2 [==============================] - 0s 8ms/step - loss: 1.4336 - accuracy: 0.3881 - val_loss: 1.5500 - val_accuracy: 0.3243\n",
      "Epoch 122/300\n",
      "2/2 [==============================] - 0s 7ms/step - loss: 1.4331 - accuracy: 0.4030 - val_loss: 1.5516 - val_accuracy: 0.2973\n",
      "Epoch 123/300\n",
      "2/2 [==============================] - 0s 8ms/step - loss: 1.4309 - accuracy: 0.3881 - val_loss: 1.5478 - val_accuracy: 0.2973\n",
      "Epoch 124/300\n",
      "2/2 [==============================] - 0s 8ms/step - loss: 1.4281 - accuracy: 0.4030 - val_loss: 1.5451 - val_accuracy: 0.3243\n",
      "Epoch 125/300\n",
      "2/2 [==============================] - 0s 8ms/step - loss: 1.4272 - accuracy: 0.4328 - val_loss: 1.5471 - val_accuracy: 0.3514\n",
      "Epoch 126/300\n",
      "2/2 [==============================] - 0s 9ms/step - loss: 1.4260 - accuracy: 0.4478 - val_loss: 1.5442 - val_accuracy: 0.2973\n",
      "Epoch 127/300\n",
      "2/2 [==============================] - 0s 8ms/step - loss: 1.4238 - accuracy: 0.4030 - val_loss: 1.5439 - val_accuracy: 0.2973\n",
      "Epoch 128/300\n",
      "2/2 [==============================] - 0s 8ms/step - loss: 1.4226 - accuracy: 0.4030 - val_loss: 1.5416 - val_accuracy: 0.3514\n",
      "Epoch 129/300\n",
      "2/2 [==============================] - 0s 8ms/step - loss: 1.4212 - accuracy: 0.5075 - val_loss: 1.5409 - val_accuracy: 0.3514\n",
      "Epoch 130/300\n",
      "2/2 [==============================] - 0s 8ms/step - loss: 1.4198 - accuracy: 0.4925 - val_loss: 1.5356 - val_accuracy: 0.3514\n",
      "Epoch 131/300\n",
      "2/2 [==============================] - 0s 8ms/step - loss: 1.4188 - accuracy: 0.5373 - val_loss: 1.5366 - val_accuracy: 0.3514\n",
      "Epoch 132/300\n",
      "2/2 [==============================] - 0s 8ms/step - loss: 1.4174 - accuracy: 0.4925 - val_loss: 1.5305 - val_accuracy: 0.3514\n",
      "Epoch 133/300\n",
      "2/2 [==============================] - 0s 8ms/step - loss: 1.4159 - accuracy: 0.5522 - val_loss: 1.5330 - val_accuracy: 0.3514\n",
      "Epoch 134/300\n",
      "2/2 [==============================] - 0s 8ms/step - loss: 1.4141 - accuracy: 0.5224 - val_loss: 1.5364 - val_accuracy: 0.3784\n",
      "Epoch 135/300\n",
      "2/2 [==============================] - 0s 8ms/step - loss: 1.4117 - accuracy: 0.4627 - val_loss: 1.5370 - val_accuracy: 0.3514\n",
      "Epoch 136/300\n",
      "2/2 [==============================] - 0s 8ms/step - loss: 1.4094 - accuracy: 0.5224 - val_loss: 1.5382 - val_accuracy: 0.3514\n",
      "Epoch 137/300\n",
      "2/2 [==============================] - 0s 9ms/step - loss: 1.4076 - accuracy: 0.4925 - val_loss: 1.5362 - val_accuracy: 0.3514\n",
      "Epoch 138/300\n",
      "2/2 [==============================] - 0s 8ms/step - loss: 1.4050 - accuracy: 0.5373 - val_loss: 1.5394 - val_accuracy: 0.3784\n",
      "Epoch 139/300\n",
      "2/2 [==============================] - 0s 8ms/step - loss: 1.4031 - accuracy: 0.5522 - val_loss: 1.5379 - val_accuracy: 0.3514\n",
      "Epoch 140/300\n",
      "2/2 [==============================] - 0s 7ms/step - loss: 1.4012 - accuracy: 0.5224 - val_loss: 1.5408 - val_accuracy: 0.3514\n",
      "Epoch 141/300\n",
      "2/2 [==============================] - 0s 8ms/step - loss: 1.4000 - accuracy: 0.4925 - val_loss: 1.5475 - val_accuracy: 0.2973\n",
      "Epoch 142/300\n",
      "2/2 [==============================] - 0s 8ms/step - loss: 1.3985 - accuracy: 0.4179 - val_loss: 1.5450 - val_accuracy: 0.3514\n",
      "Epoch 143/300\n",
      "2/2 [==============================] - 0s 8ms/step - loss: 1.3965 - accuracy: 0.4776 - val_loss: 1.5436 - val_accuracy: 0.3514\n",
      "Epoch 144/300\n",
      "2/2 [==============================] - 0s 8ms/step - loss: 1.3946 - accuracy: 0.4627 - val_loss: 1.5424 - val_accuracy: 0.3514\n",
      "Epoch 145/300\n",
      "2/2 [==============================] - 0s 8ms/step - loss: 1.3929 - accuracy: 0.5075 - val_loss: 1.5395 - val_accuracy: 0.3514\n",
      "Epoch 146/300\n",
      "2/2 [==============================] - 0s 8ms/step - loss: 1.3915 - accuracy: 0.5373 - val_loss: 1.5400 - val_accuracy: 0.3243\n",
      "Epoch 147/300\n",
      "2/2 [==============================] - 0s 8ms/step - loss: 1.3907 - accuracy: 0.4478 - val_loss: 1.5317 - val_accuracy: 0.3243\n",
      "Epoch 148/300\n",
      "2/2 [==============================] - 0s 9ms/step - loss: 1.3886 - accuracy: 0.4627 - val_loss: 1.5349 - val_accuracy: 0.3243\n",
      "Epoch 149/300\n",
      "2/2 [==============================] - 0s 8ms/step - loss: 1.3862 - accuracy: 0.4328 - val_loss: 1.5348 - val_accuracy: 0.3243\n",
      "Epoch 150/300\n",
      "2/2 [==============================] - 0s 8ms/step - loss: 1.3842 - accuracy: 0.4478 - val_loss: 1.5268 - val_accuracy: 0.3243\n",
      "Epoch 151/300\n",
      "2/2 [==============================] - 0s 8ms/step - loss: 1.3820 - accuracy: 0.4478 - val_loss: 1.5265 - val_accuracy: 0.2973\n",
      "Epoch 152/300\n",
      "2/2 [==============================] - 0s 8ms/step - loss: 1.3796 - accuracy: 0.4179 - val_loss: 1.5240 - val_accuracy: 0.2973\n",
      "Epoch 153/300\n",
      "2/2 [==============================] - 0s 9ms/step - loss: 1.3778 - accuracy: 0.4179 - val_loss: 1.5203 - val_accuracy: 0.2973\n",
      "Epoch 154/300\n",
      "2/2 [==============================] - 0s 10ms/step - loss: 1.3769 - accuracy: 0.4328 - val_loss: 1.5178 - val_accuracy: 0.3243\n",
      "Epoch 155/300\n",
      "2/2 [==============================] - 0s 8ms/step - loss: 1.3765 - accuracy: 0.4776 - val_loss: 1.5226 - val_accuracy: 0.3243\n",
      "Epoch 156/300\n",
      "2/2 [==============================] - 0s 9ms/step - loss: 1.3735 - accuracy: 0.4776 - val_loss: 1.5166 - val_accuracy: 0.3514\n",
      "Epoch 157/300\n",
      "2/2 [==============================] - 0s 8ms/step - loss: 1.3713 - accuracy: 0.4925 - val_loss: 1.5192 - val_accuracy: 0.2973\n",
      "Epoch 158/300\n",
      "2/2 [==============================] - 0s 9ms/step - loss: 1.3706 - accuracy: 0.4328 - val_loss: 1.5083 - val_accuracy: 0.3243\n",
      "Epoch 159/300\n",
      "2/2 [==============================] - 0s 8ms/step - loss: 1.3689 - accuracy: 0.4776 - val_loss: 1.5109 - val_accuracy: 0.3243\n",
      "Epoch 160/300\n",
      "2/2 [==============================] - 0s 8ms/step - loss: 1.3664 - accuracy: 0.5970 - val_loss: 1.5174 - val_accuracy: 0.3514\n",
      "Epoch 161/300\n",
      "2/2 [==============================] - 0s 8ms/step - loss: 1.3629 - accuracy: 0.5373 - val_loss: 1.5195 - val_accuracy: 0.3243\n",
      "Epoch 162/300\n",
      "2/2 [==============================] - 0s 8ms/step - loss: 1.3613 - accuracy: 0.4776 - val_loss: 1.5225 - val_accuracy: 0.3514\n",
      "Epoch 163/300\n",
      "2/2 [==============================] - 0s 9ms/step - loss: 1.3594 - accuracy: 0.5224 - val_loss: 1.5153 - val_accuracy: 0.3514\n",
      "Epoch 164/300\n",
      "2/2 [==============================] - 0s 8ms/step - loss: 1.3565 - accuracy: 0.5075 - val_loss: 1.5063 - val_accuracy: 0.3514\n",
      "Epoch 165/300\n",
      "2/2 [==============================] - 0s 9ms/step - loss: 1.3557 - accuracy: 0.5224 - val_loss: 1.4959 - val_accuracy: 0.3514\n",
      "Epoch 166/300\n",
      "2/2 [==============================] - 0s 8ms/step - loss: 1.3562 - accuracy: 0.5672 - val_loss: 1.4958 - val_accuracy: 0.3514\n",
      "Epoch 167/300\n",
      "2/2 [==============================] - 0s 8ms/step - loss: 1.3540 - accuracy: 0.6119 - val_loss: 1.5042 - val_accuracy: 0.3514\n",
      "Epoch 168/300\n",
      "2/2 [==============================] - 0s 8ms/step - loss: 1.3500 - accuracy: 0.5672 - val_loss: 1.5113 - val_accuracy: 0.3514\n",
      "Epoch 169/300\n",
      "2/2 [==============================] - 0s 8ms/step - loss: 1.3472 - accuracy: 0.5821 - val_loss: 1.5075 - val_accuracy: 0.3514\n",
      "Epoch 170/300\n",
      "2/2 [==============================] - 0s 8ms/step - loss: 1.3454 - accuracy: 0.5821 - val_loss: 1.4969 - val_accuracy: 0.3514\n",
      "Epoch 171/300\n",
      "2/2 [==============================] - 0s 7ms/step - loss: 1.3434 - accuracy: 0.5970 - val_loss: 1.5039 - val_accuracy: 0.3784\n",
      "Epoch 172/300\n",
      "2/2 [==============================] - 0s 8ms/step - loss: 1.3408 - accuracy: 0.5821 - val_loss: 1.5053 - val_accuracy: 0.3784\n",
      "Epoch 173/300\n",
      "2/2 [==============================] - 0s 8ms/step - loss: 1.3390 - accuracy: 0.5821 - val_loss: 1.5113 - val_accuracy: 0.3514\n",
      "Epoch 174/300\n",
      "2/2 [==============================] - 0s 8ms/step - loss: 1.3367 - accuracy: 0.4925 - val_loss: 1.5216 - val_accuracy: 0.2973\n",
      "Epoch 175/300\n"
     ]
    },
    {
     "name": "stdout",
     "output_type": "stream",
     "text": [
      "2/2 [==============================] - 0s 9ms/step - loss: 1.3360 - accuracy: 0.4478 - val_loss: 1.5135 - val_accuracy: 0.2973\n",
      "Epoch 176/300\n",
      "2/2 [==============================] - 0s 8ms/step - loss: 1.3328 - accuracy: 0.4478 - val_loss: 1.5068 - val_accuracy: 0.2973\n",
      "Epoch 177/300\n",
      "2/2 [==============================] - 0s 9ms/step - loss: 1.3313 - accuracy: 0.4627 - val_loss: 1.5121 - val_accuracy: 0.2973\n",
      "Epoch 178/300\n",
      "2/2 [==============================] - 0s 9ms/step - loss: 1.3301 - accuracy: 0.4478 - val_loss: 1.5025 - val_accuracy: 0.2973\n",
      "Epoch 179/300\n",
      "2/2 [==============================] - 0s 8ms/step - loss: 1.3274 - accuracy: 0.4925 - val_loss: 1.5016 - val_accuracy: 0.2973\n",
      "Epoch 180/300\n",
      "2/2 [==============================] - 0s 9ms/step - loss: 1.3249 - accuracy: 0.4925 - val_loss: 1.5045 - val_accuracy: 0.2973\n",
      "Epoch 181/300\n",
      "2/2 [==============================] - 0s 8ms/step - loss: 1.3223 - accuracy: 0.4627 - val_loss: 1.4961 - val_accuracy: 0.2973\n",
      "Epoch 182/300\n",
      "2/2 [==============================] - 0s 9ms/step - loss: 1.3205 - accuracy: 0.4627 - val_loss: 1.4897 - val_accuracy: 0.2973\n",
      "Epoch 183/300\n",
      "2/2 [==============================] - 0s 8ms/step - loss: 1.3183 - accuracy: 0.4627 - val_loss: 1.4953 - val_accuracy: 0.2973\n",
      "Epoch 184/300\n",
      "2/2 [==============================] - 0s 8ms/step - loss: 1.3157 - accuracy: 0.5075 - val_loss: 1.4804 - val_accuracy: 0.3784\n",
      "Epoch 185/300\n",
      "2/2 [==============================] - 0s 8ms/step - loss: 1.3143 - accuracy: 0.5672 - val_loss: 1.4830 - val_accuracy: 0.3514\n",
      "Epoch 186/300\n",
      "2/2 [==============================] - 0s 8ms/step - loss: 1.3115 - accuracy: 0.5075 - val_loss: 1.4830 - val_accuracy: 0.3784\n",
      "Epoch 187/300\n",
      "2/2 [==============================] - 0s 9ms/step - loss: 1.3100 - accuracy: 0.5522 - val_loss: 1.4741 - val_accuracy: 0.3784\n",
      "Epoch 188/300\n",
      "2/2 [==============================] - 0s 8ms/step - loss: 1.3084 - accuracy: 0.5373 - val_loss: 1.4840 - val_accuracy: 0.2973\n",
      "Epoch 189/300\n",
      "2/2 [==============================] - 0s 9ms/step - loss: 1.3046 - accuracy: 0.4627 - val_loss: 1.4835 - val_accuracy: 0.2973\n",
      "Epoch 190/300\n",
      "2/2 [==============================] - 0s 8ms/step - loss: 1.3023 - accuracy: 0.5075 - val_loss: 1.4899 - val_accuracy: 0.2973\n",
      "Epoch 191/300\n",
      "2/2 [==============================] - 0s 8ms/step - loss: 1.3007 - accuracy: 0.5075 - val_loss: 1.4859 - val_accuracy: 0.2973\n",
      "Epoch 192/300\n",
      "2/2 [==============================] - 0s 8ms/step - loss: 1.2987 - accuracy: 0.4627 - val_loss: 1.4842 - val_accuracy: 0.2973\n",
      "Epoch 193/300\n",
      "2/2 [==============================] - 0s 8ms/step - loss: 1.2964 - accuracy: 0.4627 - val_loss: 1.4865 - val_accuracy: 0.2973\n",
      "Epoch 194/300\n",
      "2/2 [==============================] - 0s 8ms/step - loss: 1.2944 - accuracy: 0.4627 - val_loss: 1.4947 - val_accuracy: 0.2973\n",
      "Epoch 195/300\n",
      "2/2 [==============================] - 0s 8ms/step - loss: 1.2928 - accuracy: 0.4627 - val_loss: 1.4861 - val_accuracy: 0.2973\n",
      "Epoch 196/300\n",
      "2/2 [==============================] - 0s 8ms/step - loss: 1.2900 - accuracy: 0.4776 - val_loss: 1.4846 - val_accuracy: 0.2973\n",
      "Epoch 197/300\n",
      "2/2 [==============================] - 0s 8ms/step - loss: 1.2882 - accuracy: 0.4627 - val_loss: 1.4753 - val_accuracy: 0.3243\n",
      "Epoch 198/300\n",
      "2/2 [==============================] - 0s 8ms/step - loss: 1.2862 - accuracy: 0.4627 - val_loss: 1.4663 - val_accuracy: 0.3243\n",
      "Epoch 199/300\n",
      "2/2 [==============================] - 0s 8ms/step - loss: 1.2845 - accuracy: 0.4627 - val_loss: 1.4698 - val_accuracy: 0.3243\n",
      "Epoch 200/300\n",
      "2/2 [==============================] - 0s 7ms/step - loss: 1.2833 - accuracy: 0.4776 - val_loss: 1.4850 - val_accuracy: 0.2973\n",
      "Epoch 201/300\n",
      "2/2 [==============================] - 0s 8ms/step - loss: 1.2827 - accuracy: 0.4478 - val_loss: 1.4857 - val_accuracy: 0.2973\n",
      "Epoch 202/300\n",
      "2/2 [==============================] - 0s 9ms/step - loss: 1.2795 - accuracy: 0.4627 - val_loss: 1.4741 - val_accuracy: 0.2973\n",
      "Epoch 203/300\n",
      "2/2 [==============================] - 0s 7ms/step - loss: 1.2761 - accuracy: 0.4627 - val_loss: 1.4775 - val_accuracy: 0.2973\n",
      "Epoch 204/300\n",
      "2/2 [==============================] - 0s 8ms/step - loss: 1.2746 - accuracy: 0.4627 - val_loss: 1.4716 - val_accuracy: 0.2973\n",
      "Epoch 205/300\n",
      "2/2 [==============================] - 0s 8ms/step - loss: 1.2716 - accuracy: 0.4627 - val_loss: 1.4672 - val_accuracy: 0.3243\n",
      "Epoch 206/300\n",
      "2/2 [==============================] - 0s 8ms/step - loss: 1.2689 - accuracy: 0.4627 - val_loss: 1.4535 - val_accuracy: 0.3514\n",
      "Epoch 207/300\n",
      "2/2 [==============================] - 0s 8ms/step - loss: 1.2670 - accuracy: 0.4627 - val_loss: 1.4700 - val_accuracy: 0.3243\n",
      "Epoch 208/300\n",
      "2/2 [==============================] - 0s 8ms/step - loss: 1.2651 - accuracy: 0.4627 - val_loss: 1.4644 - val_accuracy: 0.3243\n",
      "Epoch 209/300\n",
      "2/2 [==============================] - 0s 8ms/step - loss: 1.2625 - accuracy: 0.4776 - val_loss: 1.4489 - val_accuracy: 0.4054\n",
      "Epoch 210/300\n",
      "2/2 [==============================] - 0s 8ms/step - loss: 1.2613 - accuracy: 0.5373 - val_loss: 1.4417 - val_accuracy: 0.4054\n",
      "Epoch 211/300\n",
      "2/2 [==============================] - 0s 8ms/step - loss: 1.2590 - accuracy: 0.5373 - val_loss: 1.4489 - val_accuracy: 0.3784\n",
      "Epoch 212/300\n",
      "2/2 [==============================] - 0s 8ms/step - loss: 1.2564 - accuracy: 0.5672 - val_loss: 1.4431 - val_accuracy: 0.4054\n",
      "Epoch 213/300\n",
      "2/2 [==============================] - 0s 7ms/step - loss: 1.2543 - accuracy: 0.6119 - val_loss: 1.4445 - val_accuracy: 0.4054\n",
      "Epoch 214/300\n",
      "2/2 [==============================] - 0s 8ms/step - loss: 1.2516 - accuracy: 0.5224 - val_loss: 1.4365 - val_accuracy: 0.4054\n",
      "Epoch 215/300\n",
      "2/2 [==============================] - 0s 8ms/step - loss: 1.2500 - accuracy: 0.5522 - val_loss: 1.4488 - val_accuracy: 0.3784\n",
      "Epoch 216/300\n",
      "2/2 [==============================] - 0s 8ms/step - loss: 1.2479 - accuracy: 0.5821 - val_loss: 1.4494 - val_accuracy: 0.3784\n",
      "Epoch 217/300\n",
      "2/2 [==============================] - 0s 8ms/step - loss: 1.2457 - accuracy: 0.5821 - val_loss: 1.4435 - val_accuracy: 0.4054\n",
      "Epoch 218/300\n",
      "2/2 [==============================] - 0s 8ms/step - loss: 1.2435 - accuracy: 0.5821 - val_loss: 1.4359 - val_accuracy: 0.4054\n",
      "Epoch 219/300\n",
      "2/2 [==============================] - 0s 8ms/step - loss: 1.2416 - accuracy: 0.5821 - val_loss: 1.4492 - val_accuracy: 0.3514\n",
      "Epoch 220/300\n",
      "2/2 [==============================] - 0s 8ms/step - loss: 1.2392 - accuracy: 0.5075 - val_loss: 1.4550 - val_accuracy: 0.3514\n",
      "Epoch 221/300\n",
      "2/2 [==============================] - 0s 8ms/step - loss: 1.2374 - accuracy: 0.4627 - val_loss: 1.4527 - val_accuracy: 0.3784\n",
      "Epoch 222/300\n",
      "2/2 [==============================] - 0s 8ms/step - loss: 1.2348 - accuracy: 0.5075 - val_loss: 1.4539 - val_accuracy: 0.3514\n",
      "Epoch 223/300\n",
      "2/2 [==============================] - 0s 8ms/step - loss: 1.2329 - accuracy: 0.5224 - val_loss: 1.4446 - val_accuracy: 0.3784\n",
      "Epoch 224/300\n",
      "2/2 [==============================] - 0s 8ms/step - loss: 1.2305 - accuracy: 0.4925 - val_loss: 1.4579 - val_accuracy: 0.3243\n",
      "Epoch 225/300\n",
      "2/2 [==============================] - 0s 9ms/step - loss: 1.2301 - accuracy: 0.4627 - val_loss: 1.4611 - val_accuracy: 0.3243\n",
      "Epoch 226/300\n",
      "2/2 [==============================] - 0s 8ms/step - loss: 1.2286 - accuracy: 0.4627 - val_loss: 1.4387 - val_accuracy: 0.3784\n",
      "Epoch 227/300\n",
      "2/2 [==============================] - 0s 8ms/step - loss: 1.2245 - accuracy: 0.4925 - val_loss: 1.4096 - val_accuracy: 0.4054\n",
      "Epoch 228/300\n",
      "2/2 [==============================] - ETA: 0s - loss: 1.2222 - accuracy: 0.58 - 0s 8ms/step - loss: 1.2242 - accuracy: 0.5821 - val_loss: 1.4127 - val_accuracy: 0.4054\n",
      "Epoch 229/300\n",
      "2/2 [==============================] - 0s 8ms/step - loss: 1.2215 - accuracy: 0.5522 - val_loss: 1.4151 - val_accuracy: 0.4054\n",
      "Epoch 230/300\n",
      "2/2 [==============================] - 0s 8ms/step - loss: 1.2200 - accuracy: 0.6119 - val_loss: 1.4170 - val_accuracy: 0.4324\n",
      "Epoch 231/300\n",
      "2/2 [==============================] - 0s 8ms/step - loss: 1.2183 - accuracy: 0.5970 - val_loss: 1.4166 - val_accuracy: 0.4054\n",
      "Epoch 232/300\n",
      "2/2 [==============================] - 0s 8ms/step - loss: 1.2150 - accuracy: 0.5821 - val_loss: 1.4119 - val_accuracy: 0.4054\n"
     ]
    },
    {
     "name": "stdout",
     "output_type": "stream",
     "text": [
      "Epoch 233/300\n",
      "2/2 [==============================] - 0s 8ms/step - loss: 1.2129 - accuracy: 0.5672 - val_loss: 1.4083 - val_accuracy: 0.4054\n",
      "Epoch 234/300\n",
      "2/2 [==============================] - 0s 8ms/step - loss: 1.2111 - accuracy: 0.5821 - val_loss: 1.4088 - val_accuracy: 0.4054\n",
      "Epoch 235/300\n",
      "2/2 [==============================] - 0s 8ms/step - loss: 1.2083 - accuracy: 0.5373 - val_loss: 1.4160 - val_accuracy: 0.3784\n",
      "Epoch 236/300\n",
      "2/2 [==============================] - 0s 9ms/step - loss: 1.2061 - accuracy: 0.5075 - val_loss: 1.4411 - val_accuracy: 0.3243\n",
      "Epoch 237/300\n",
      "2/2 [==============================] - 0s 9ms/step - loss: 1.2068 - accuracy: 0.4627 - val_loss: 1.4402 - val_accuracy: 0.3243\n",
      "Epoch 238/300\n",
      "2/2 [==============================] - 0s 8ms/step - loss: 1.2055 - accuracy: 0.4627 - val_loss: 1.4490 - val_accuracy: 0.3243\n",
      "Epoch 239/300\n",
      "2/2 [==============================] - 0s 8ms/step - loss: 1.2037 - accuracy: 0.4627 - val_loss: 1.4287 - val_accuracy: 0.3514\n",
      "Epoch 240/300\n",
      "2/2 [==============================] - 0s 8ms/step - loss: 1.1978 - accuracy: 0.4925 - val_loss: 1.4204 - val_accuracy: 0.3514\n",
      "Epoch 241/300\n",
      "2/2 [==============================] - 0s 8ms/step - loss: 1.1960 - accuracy: 0.4776 - val_loss: 1.4303 - val_accuracy: 0.3243\n",
      "Epoch 242/300\n",
      "2/2 [==============================] - 0s 8ms/step - loss: 1.1958 - accuracy: 0.4627 - val_loss: 1.4534 - val_accuracy: 0.3243\n",
      "Epoch 243/300\n",
      "2/2 [==============================] - 0s 8ms/step - loss: 1.1966 - accuracy: 0.4627 - val_loss: 1.4298 - val_accuracy: 0.3514\n",
      "Epoch 244/300\n",
      "2/2 [==============================] - 0s 8ms/step - loss: 1.1905 - accuracy: 0.4627 - val_loss: 1.4243 - val_accuracy: 0.3514\n",
      "Epoch 245/300\n",
      "2/2 [==============================] - 0s 8ms/step - loss: 1.1881 - accuracy: 0.4627 - val_loss: 1.4245 - val_accuracy: 0.3514\n",
      "Epoch 246/300\n",
      "2/2 [==============================] - 0s 8ms/step - loss: 1.1857 - accuracy: 0.4925 - val_loss: 1.4265 - val_accuracy: 0.3243\n",
      "Epoch 247/300\n",
      "2/2 [==============================] - 0s 8ms/step - loss: 1.1842 - accuracy: 0.4925 - val_loss: 1.4338 - val_accuracy: 0.3514\n",
      "Epoch 248/300\n",
      "2/2 [==============================] - 0s 8ms/step - loss: 1.1830 - accuracy: 0.5075 - val_loss: 1.4268 - val_accuracy: 0.3784\n",
      "Epoch 249/300\n",
      "2/2 [==============================] - 0s 8ms/step - loss: 1.1820 - accuracy: 0.6119 - val_loss: 1.4264 - val_accuracy: 0.3784\n",
      "Epoch 250/300\n",
      "2/2 [==============================] - 0s 7ms/step - loss: 1.1795 - accuracy: 0.5821 - val_loss: 1.4480 - val_accuracy: 0.3514\n",
      "Epoch 251/300\n",
      "2/2 [==============================] - 0s 8ms/step - loss: 1.1795 - accuracy: 0.5224 - val_loss: 1.4193 - val_accuracy: 0.3784\n",
      "Epoch 252/300\n",
      "2/2 [==============================] - 0s 8ms/step - loss: 1.1757 - accuracy: 0.5821 - val_loss: 1.4322 - val_accuracy: 0.3784\n",
      "Epoch 253/300\n",
      "2/2 [==============================] - 0s 8ms/step - loss: 1.1754 - accuracy: 0.5373 - val_loss: 1.4403 - val_accuracy: 0.3784\n",
      "Epoch 254/300\n",
      "2/2 [==============================] - 0s 8ms/step - loss: 1.1740 - accuracy: 0.5224 - val_loss: 1.3986 - val_accuracy: 0.4054\n",
      "Epoch 255/300\n",
      "2/2 [==============================] - 0s 8ms/step - loss: 1.1694 - accuracy: 0.5821 - val_loss: 1.4210 - val_accuracy: 0.3784\n",
      "Epoch 256/300\n",
      "2/2 [==============================] - 0s 8ms/step - loss: 1.1678 - accuracy: 0.5075 - val_loss: 1.4175 - val_accuracy: 0.3243\n",
      "Epoch 257/300\n",
      "2/2 [==============================] - 0s 8ms/step - loss: 1.1668 - accuracy: 0.5075 - val_loss: 1.4467 - val_accuracy: 0.3243\n",
      "Epoch 258/300\n",
      "2/2 [==============================] - 0s 8ms/step - loss: 1.1696 - accuracy: 0.4627 - val_loss: 1.4410 - val_accuracy: 0.3243\n",
      "Epoch 259/300\n",
      "2/2 [==============================] - 0s 8ms/step - loss: 1.1660 - accuracy: 0.4627 - val_loss: 1.4025 - val_accuracy: 0.2973\n",
      "Epoch 260/300\n",
      "2/2 [==============================] - 0s 8ms/step - loss: 1.1606 - accuracy: 0.4776 - val_loss: 1.4112 - val_accuracy: 0.2973\n",
      "Epoch 261/300\n",
      "2/2 [==============================] - 0s 8ms/step - loss: 1.1589 - accuracy: 0.4925 - val_loss: 1.3912 - val_accuracy: 0.3514\n",
      "Epoch 262/300\n",
      "2/2 [==============================] - 0s 8ms/step - loss: 1.1564 - accuracy: 0.5224 - val_loss: 1.3976 - val_accuracy: 0.3243\n",
      "Epoch 263/300\n",
      "2/2 [==============================] - 0s 8ms/step - loss: 1.1547 - accuracy: 0.5224 - val_loss: 1.3886 - val_accuracy: 0.3784\n",
      "Epoch 264/300\n",
      "2/2 [==============================] - 0s 8ms/step - loss: 1.1528 - accuracy: 0.5970 - val_loss: 1.3884 - val_accuracy: 0.3784\n",
      "Epoch 265/300\n",
      "2/2 [==============================] - 0s 8ms/step - loss: 1.1509 - accuracy: 0.5522 - val_loss: 1.3833 - val_accuracy: 0.3514\n",
      "Epoch 266/300\n",
      "2/2 [==============================] - 0s 8ms/step - loss: 1.1494 - accuracy: 0.5224 - val_loss: 1.3991 - val_accuracy: 0.4054\n",
      "Epoch 267/300\n",
      "2/2 [==============================] - 0s 8ms/step - loss: 1.1475 - accuracy: 0.6119 - val_loss: 1.4034 - val_accuracy: 0.4054\n",
      "Epoch 268/300\n",
      "2/2 [==============================] - 0s 8ms/step - loss: 1.1459 - accuracy: 0.6418 - val_loss: 1.4026 - val_accuracy: 0.3514\n",
      "Epoch 269/300\n",
      "2/2 [==============================] - 0s 8ms/step - loss: 1.1438 - accuracy: 0.6119 - val_loss: 1.4047 - val_accuracy: 0.2973\n",
      "Epoch 270/300\n",
      "2/2 [==============================] - 0s 9ms/step - loss: 1.1429 - accuracy: 0.4925 - val_loss: 1.3880 - val_accuracy: 0.3514\n",
      "Epoch 271/300\n",
      "2/2 [==============================] - 0s 8ms/step - loss: 1.1403 - accuracy: 0.5075 - val_loss: 1.3970 - val_accuracy: 0.3243\n",
      "Epoch 272/300\n",
      "2/2 [==============================] - 0s 8ms/step - loss: 1.1386 - accuracy: 0.5075 - val_loss: 1.4108 - val_accuracy: 0.3243\n",
      "Epoch 273/300\n",
      "2/2 [==============================] - 0s 8ms/step - loss: 1.1377 - accuracy: 0.5224 - val_loss: 1.4211 - val_accuracy: 0.3514\n",
      "Epoch 274/300\n",
      "2/2 [==============================] - 0s 7ms/step - loss: 1.1380 - accuracy: 0.5672 - val_loss: 1.4533 - val_accuracy: 0.3514\n",
      "Epoch 275/300\n",
      "2/2 [==============================] - 0s 8ms/step - loss: 1.1415 - accuracy: 0.4925 - val_loss: 1.4074 - val_accuracy: 0.4054\n",
      "Epoch 276/300\n",
      "2/2 [==============================] - 0s 8ms/step - loss: 1.1323 - accuracy: 0.5672 - val_loss: 1.4031 - val_accuracy: 0.3243\n",
      "Epoch 277/300\n",
      "2/2 [==============================] - 0s 8ms/step - loss: 1.1307 - accuracy: 0.4925 - val_loss: 1.3659 - val_accuracy: 0.3784\n",
      "Epoch 278/300\n",
      "2/2 [==============================] - 0s 7ms/step - loss: 1.1287 - accuracy: 0.5970 - val_loss: 1.3800 - val_accuracy: 0.3243\n",
      "Epoch 279/300\n",
      "2/2 [==============================] - 0s 8ms/step - loss: 1.1270 - accuracy: 0.4776 - val_loss: 1.3834 - val_accuracy: 0.3514\n",
      "Epoch 280/300\n",
      "2/2 [==============================] - 0s 8ms/step - loss: 1.1242 - accuracy: 0.5075 - val_loss: 1.3801 - val_accuracy: 0.3784\n",
      "Epoch 281/300\n",
      "2/2 [==============================] - 0s 8ms/step - loss: 1.1217 - accuracy: 0.5522 - val_loss: 1.3691 - val_accuracy: 0.3784\n",
      "Epoch 282/300\n",
      "2/2 [==============================] - 0s 8ms/step - loss: 1.1205 - accuracy: 0.5970 - val_loss: 1.3646 - val_accuracy: 0.3784\n",
      "Epoch 283/300\n",
      "2/2 [==============================] - 0s 9ms/step - loss: 1.1194 - accuracy: 0.6269 - val_loss: 1.4007 - val_accuracy: 0.4054\n",
      "Epoch 284/300\n",
      "2/2 [==============================] - 0s 8ms/step - loss: 1.1178 - accuracy: 0.5373 - val_loss: 1.3986 - val_accuracy: 0.3243\n",
      "Epoch 285/300\n",
      "2/2 [==============================] - 0s 9ms/step - loss: 1.1160 - accuracy: 0.5224 - val_loss: 1.3853 - val_accuracy: 0.3784\n",
      "Epoch 286/300\n",
      "2/2 [==============================] - 0s 8ms/step - loss: 1.1138 - accuracy: 0.5522 - val_loss: 1.4284 - val_accuracy: 0.2973\n",
      "Epoch 287/300\n",
      "2/2 [==============================] - 0s 7ms/step - loss: 1.1188 - accuracy: 0.4925 - val_loss: 1.4347 - val_accuracy: 0.2973\n",
      "Epoch 288/300\n",
      "2/2 [==============================] - 0s 8ms/step - loss: 1.1179 - accuracy: 0.4925 - val_loss: 1.4062 - val_accuracy: 0.2973\n",
      "Epoch 289/300\n",
      "2/2 [==============================] - 0s 8ms/step - loss: 1.1115 - accuracy: 0.4776 - val_loss: 1.4175 - val_accuracy: 0.3514\n",
      "Epoch 290/300\n",
      "2/2 [==============================] - 0s 9ms/step - loss: 1.1099 - accuracy: 0.5224 - val_loss: 1.4085 - val_accuracy: 0.3243\n",
      "Epoch 291/300\n"
     ]
    },
    {
     "name": "stdout",
     "output_type": "stream",
     "text": [
      "2/2 [==============================] - 0s 8ms/step - loss: 1.1066 - accuracy: 0.5672 - val_loss: 1.3974 - val_accuracy: 0.2973\n",
      "Epoch 292/300\n",
      "2/2 [==============================] - 0s 8ms/step - loss: 1.1048 - accuracy: 0.5224 - val_loss: 1.3762 - val_accuracy: 0.3243\n",
      "Epoch 293/300\n",
      "2/2 [==============================] - 0s 8ms/step - loss: 1.1032 - accuracy: 0.5075 - val_loss: 1.3357 - val_accuracy: 0.3784\n",
      "Epoch 294/300\n",
      "2/2 [==============================] - 0s 8ms/step - loss: 1.1037 - accuracy: 0.5821 - val_loss: 1.3556 - val_accuracy: 0.3514\n",
      "Epoch 295/300\n",
      "2/2 [==============================] - 0s 8ms/step - loss: 1.0993 - accuracy: 0.5522 - val_loss: 1.3462 - val_accuracy: 0.3784\n",
      "Epoch 296/300\n",
      "2/2 [==============================] - 0s 8ms/step - loss: 1.0975 - accuracy: 0.6119 - val_loss: 1.3510 - val_accuracy: 0.3514\n",
      "Epoch 297/300\n",
      "2/2 [==============================] - 0s 8ms/step - loss: 1.0951 - accuracy: 0.5373 - val_loss: 1.3848 - val_accuracy: 0.2973\n",
      "Epoch 298/300\n",
      "2/2 [==============================] - 0s 7ms/step - loss: 1.0947 - accuracy: 0.5075 - val_loss: 1.3504 - val_accuracy: 0.3243\n",
      "Epoch 299/300\n",
      "2/2 [==============================] - 0s 8ms/step - loss: 1.0940 - accuracy: 0.4925 - val_loss: 1.3286 - val_accuracy: 0.4054\n",
      "Epoch 300/300\n",
      "2/2 [==============================] - 0s 8ms/step - loss: 1.0964 - accuracy: 0.5672 - val_loss: 1.3349 - val_accuracy: 0.3784\n"
     ]
    },
    {
     "data": {
      "text/plain": [
       "<tensorflow.python.keras.callbacks.History at 0x7fd3b3ea1990>"
      ]
     },
     "execution_count": 58,
     "metadata": {},
     "output_type": "execute_result"
    }
   ],
   "source": [
    "from keras.models import Sequential\n",
    "from keras.layers import Dense, Activation, Dropout\n",
    "import keras\n",
    "from keras.optimizers import SGD\n",
    "\n",
    "\n",
    "# create model\n",
    "NN = Sequential()\n",
    "NN.add(Dense(64, input_dim=6, activation='relu'))\n",
    "NN.add(Dense(200, activation='relu'))\n",
    "NN.add(Dense(200, activation='relu'))\n",
    "NN.add(Dense(100, activation='relu'))\n",
    "NN.add(Dense(5, activation='softmax'))\n",
    "# Compile model\n",
    "NN.compile(loss='categorical_crossentropy', optimizer='sgd', metrics=['accuracy'])\n",
    "\n",
    "                                                                  \n",
    "# Fitting the NN to the Training set\n",
    "NN.fit(X_train, y_train, \n",
    "               batch_size = 60, \n",
    "               epochs = 300, validation_split=0.35)  \n"
   ]
  },
  {
   "cell_type": "code",
   "execution_count": 59,
   "metadata": {},
   "outputs": [
    {
     "name": "stdout",
     "output_type": "stream",
     "text": [
      "[1 1 0 1 4 3 0 0 0 0 3 1 3 1 3 1 4 4 4 1 4 3 3 3 1 0 0 0 1 4 0 1 1 4 1 4 4\n",
      " 0 1 0 0 1 4 3 3 1 4 1 1 0 1 0]\n",
      "['High', 'High', 'Average', 'High', 'Very Low', 'Very High', 'Average', 'Average', 'Average', 'Average', 'Very High', 'High', 'Very High', 'High', 'Very High', 'High', 'Very Low', 'Very Low', 'Very Low', 'High', 'Very Low', 'Very High', 'Very High', 'Very High', 'High', 'Average', 'Average', 'Average', 'High', 'Very Low', 'Average', 'High', 'High', 'Very Low', 'High', 'Very Low', 'Very Low', 'Average', 'High', 'Average', 'Average', 'High', 'Very Low', 'Very High', 'Very High', 'High', 'Very Low', 'High', 'High', 'Average', 'High', 'Average']\n"
     ]
    }
   ],
   "source": [
    "# using predict_classes() for multi-class data to return predicted class index.\n",
    "\n",
    "print(NN.predict_classes(X_test))\n",
    "prediction_index=NN.predict_classes(X_test)\n",
    "\n",
    "#Now lets run some code to get keras to return the label rather than the index...\n",
    "\n",
    "# get labels from one hot encoded y_train data\n",
    "labels=y_train.columns\n",
    "\n",
    "# Iterate through all predicted indices using map method\n",
    "\n",
    "predicted_labels=list(map(lambda x: labels[x], prediction_index))\n",
    "print(predicted_labels)"
   ]
  },
  {
   "cell_type": "code",
   "execution_count": 60,
   "metadata": {},
   "outputs": [],
   "source": [
    "Y_test = y_test.to_numpy()"
   ]
  },
  {
   "cell_type": "code",
   "execution_count": 61,
   "metadata": {},
   "outputs": [
    {
     "data": {
      "text/plain": [
       "(52,)"
      ]
     },
     "execution_count": 61,
     "metadata": {},
     "output_type": "execute_result"
    }
   ],
   "source": [
    "y_labels=np.argmax(Y_test, axis=1)\n",
    "y_labels.shape"
   ]
  },
  {
   "cell_type": "code",
   "execution_count": 62,
   "metadata": {},
   "outputs": [
    {
     "data": {
      "text/plain": [
       "(52,)"
      ]
     },
     "execution_count": 62,
     "metadata": {},
     "output_type": "execute_result"
    }
   ],
   "source": [
    "prediction_index.shape"
   ]
  },
  {
   "cell_type": "code",
   "execution_count": 63,
   "metadata": {},
   "outputs": [
    {
     "name": "stdout",
     "output_type": "stream",
     "text": [
      "Accuracy: 40.38%\n"
     ]
    }
   ],
   "source": [
    "# Evaluate held out test data\n",
    "from sklearn.metrics import accuracy_score\n",
    "\n",
    "print(\"Accuracy: {:.2f}%\".format(accuracy_score(y_labels,prediction_index) * 100))"
   ]
  },
  {
   "cell_type": "markdown",
   "metadata": {},
   "source": [
    "## Save Preprocessor fxn to \"preprocessor.zip\""
   ]
  },
  {
   "cell_type": "code",
   "execution_count": 64,
   "metadata": {},
   "outputs": [
    {
     "name": "stdout",
     "output_type": "stream",
     "text": [
      "Looking in indexes: https://pypi.org/simple, https://test.pypi.org/simple/\n",
      "Requirement already up-to-date: aimodelshare in /Users/xuejingli/opt/anaconda3/lib/python3.7/site-packages (0.0.22)\n",
      "Requirement already satisfied, skipping upgrade: urllib3 in /Users/xuejingli/opt/anaconda3/lib/python3.7/site-packages (from aimodelshare) (1.25.10)\n",
      "Requirement already satisfied, skipping upgrade: keras2onnx in /Users/xuejingli/opt/anaconda3/lib/python3.7/site-packages (from aimodelshare) (1.7.0)\n",
      "Requirement already satisfied, skipping upgrade: onnx in /Users/xuejingli/opt/anaconda3/lib/python3.7/site-packages (from aimodelshare) (1.8.102)\n",
      "Requirement already satisfied, skipping upgrade: onnxruntime in /Users/xuejingli/opt/anaconda3/lib/python3.7/site-packages (from aimodelshare) (1.6.0)\n",
      "Requirement already satisfied, skipping upgrade: scikit-learn==0.24.1 in /Users/xuejingli/opt/anaconda3/lib/python3.7/site-packages (from aimodelshare) (0.24.1)\n",
      "Requirement already satisfied, skipping upgrade: botocore in /Users/xuejingli/opt/anaconda3/lib/python3.7/site-packages (from aimodelshare) (1.20.3)\n",
      "Requirement already satisfied, skipping upgrade: boto3 in /Users/xuejingli/opt/anaconda3/lib/python3.7/site-packages (from aimodelshare) (1.17.3)\n",
      "Requirement already satisfied, skipping upgrade: skl2onnx in /Users/xuejingli/opt/anaconda3/lib/python3.7/site-packages (from aimodelshare) (1.7.0)\n",
      "Requirement already satisfied, skipping upgrade: protobuf in /Users/xuejingli/opt/anaconda3/lib/python3.7/site-packages (from keras2onnx->aimodelshare) (3.14.0)\n",
      "Requirement already satisfied, skipping upgrade: requests in /Users/xuejingli/opt/anaconda3/lib/python3.7/site-packages (from keras2onnx->aimodelshare) (2.22.0)\n",
      "Requirement already satisfied, skipping upgrade: numpy in /Users/xuejingli/opt/anaconda3/lib/python3.7/site-packages (from keras2onnx->aimodelshare) (1.18.1)\n",
      "Requirement already satisfied, skipping upgrade: onnxconverter-common>=1.7.0 in /Users/xuejingli/opt/anaconda3/lib/python3.7/site-packages (from keras2onnx->aimodelshare) (1.7.0)\n",
      "Requirement already satisfied, skipping upgrade: fire in /Users/xuejingli/opt/anaconda3/lib/python3.7/site-packages (from keras2onnx->aimodelshare) (0.4.0)\n",
      "Requirement already satisfied, skipping upgrade: six in /Users/xuejingli/opt/anaconda3/lib/python3.7/site-packages (from onnx->aimodelshare) (1.14.0)\n",
      "Requirement already satisfied, skipping upgrade: typing-extensions>=3.6.2.1 in /Users/xuejingli/opt/anaconda3/lib/python3.7/site-packages (from onnx->aimodelshare) (3.7.4.3)\n",
      "Requirement already satisfied, skipping upgrade: joblib>=0.11 in /Users/xuejingli/opt/anaconda3/lib/python3.7/site-packages (from scikit-learn==0.24.1->aimodelshare) (0.14.1)\n",
      "Requirement already satisfied, skipping upgrade: scipy>=0.19.1 in /Users/xuejingli/opt/anaconda3/lib/python3.7/site-packages (from scikit-learn==0.24.1->aimodelshare) (1.4.1)\n",
      "Requirement already satisfied, skipping upgrade: threadpoolctl>=2.0.0 in /Users/xuejingli/opt/anaconda3/lib/python3.7/site-packages (from scikit-learn==0.24.1->aimodelshare) (2.1.0)\n",
      "Requirement already satisfied, skipping upgrade: jmespath<1.0.0,>=0.7.1 in /Users/xuejingli/opt/anaconda3/lib/python3.7/site-packages (from botocore->aimodelshare) (0.10.0)\n",
      "Requirement already satisfied, skipping upgrade: python-dateutil<3.0.0,>=2.1 in /Users/xuejingli/opt/anaconda3/lib/python3.7/site-packages (from botocore->aimodelshare) (2.8.1)\n",
      "Requirement already satisfied, skipping upgrade: s3transfer<0.4.0,>=0.3.0 in /Users/xuejingli/opt/anaconda3/lib/python3.7/site-packages (from boto3->aimodelshare) (0.3.4)\n",
      "Requirement already satisfied, skipping upgrade: idna<2.9,>=2.5 in /Users/xuejingli/opt/anaconda3/lib/python3.7/site-packages (from requests->keras2onnx->aimodelshare) (2.8)\n",
      "Requirement already satisfied, skipping upgrade: chardet<3.1.0,>=3.0.2 in /Users/xuejingli/opt/anaconda3/lib/python3.7/site-packages (from requests->keras2onnx->aimodelshare) (3.0.4)\n",
      "Requirement already satisfied, skipping upgrade: certifi>=2017.4.17 in /Users/xuejingli/opt/anaconda3/lib/python3.7/site-packages (from requests->keras2onnx->aimodelshare) (2019.11.28)\n",
      "Requirement already satisfied, skipping upgrade: termcolor in /Users/xuejingli/opt/anaconda3/lib/python3.7/site-packages (from fire->keras2onnx->aimodelshare) (1.1.0)\n"
     ]
    }
   ],
   "source": [
    "#install aimodelshare library\n",
    "! pip install aimodelshare --upgrade --extra-index-url https://test.pypi.org/simple/ "
   ]
  },
  {
   "cell_type": "code",
   "execution_count": 65,
   "metadata": {
    "scrolled": true
   },
   "outputs": [
    {
     "name": "stdout",
     "output_type": "stream",
     "text": [
      "Requirement already up-to-date: dill in /Users/xuejingli/opt/anaconda3/lib/python3.7/site-packages (0.3.3)\n",
      "Note: you may need to restart the kernel to use updated packages.\n"
     ]
    }
   ],
   "source": [
    "pip install --upgrade dill"
   ]
  },
  {
   "cell_type": "code",
   "execution_count": 66,
   "metadata": {},
   "outputs": [
    {
     "name": "stdout",
     "output_type": "stream",
     "text": [
      "Requirement already up-to-date: scikit-learn in /Users/xuejingli/opt/anaconda3/lib/python3.7/site-packages (0.24.1)\n",
      "Requirement already satisfied, skipping upgrade: numpy>=1.13.3 in /Users/xuejingli/opt/anaconda3/lib/python3.7/site-packages (from scikit-learn) (1.18.1)\n",
      "Requirement already satisfied, skipping upgrade: joblib>=0.11 in /Users/xuejingli/opt/anaconda3/lib/python3.7/site-packages (from scikit-learn) (0.14.1)\n",
      "Requirement already satisfied, skipping upgrade: scipy>=0.19.1 in /Users/xuejingli/opt/anaconda3/lib/python3.7/site-packages (from scikit-learn) (1.4.1)\n",
      "Requirement already satisfied, skipping upgrade: threadpoolctl>=2.0.0 in /Users/xuejingli/opt/anaconda3/lib/python3.7/site-packages (from scikit-learn) (2.1.0)\n",
      "Note: you may need to restart the kernel to use updated packages.\n"
     ]
    }
   ],
   "source": [
    "pip install --upgrade scikit-learn"
   ]
  },
  {
   "cell_type": "code",
   "execution_count": 67,
   "metadata": {},
   "outputs": [
    {
     "ename": "ModuleNotFoundError",
     "evalue": "No module named 'pydot'",
     "output_type": "error",
     "traceback": [
      "\u001b[0;31m---------------------------------------------------------------------------\u001b[0m",
      "\u001b[0;31mModuleNotFoundError\u001b[0m                       Traceback (most recent call last)",
      "\u001b[0;32m<ipython-input-67-fb751b0a3de3>\u001b[0m in \u001b[0;36m<module>\u001b[0;34m\u001b[0m\n\u001b[1;32m      1\u001b[0m \u001b[0;31m#Save preprocessor function to local \"preprocessor.zip\" file for leaderboard submission\u001b[0m\u001b[0;34m\u001b[0m\u001b[0;34m\u001b[0m\u001b[0;34m\u001b[0m\u001b[0m\n\u001b[0;32m----> 2\u001b[0;31m \u001b[0;32mimport\u001b[0m \u001b[0maimodelshare\u001b[0m \u001b[0;32mas\u001b[0m \u001b[0mai\u001b[0m\u001b[0;34m\u001b[0m\u001b[0;34m\u001b[0m\u001b[0m\n\u001b[0m\u001b[1;32m      3\u001b[0m \u001b[0mai\u001b[0m\u001b[0;34m.\u001b[0m\u001b[0mexport_preprocessor\u001b[0m\u001b[0;34m(\u001b[0m\u001b[0mpreprocessor\u001b[0m\u001b[0;34m,\u001b[0m\u001b[0;34m\"\"\u001b[0m\u001b[0;34m)\u001b[0m\u001b[0;34m\u001b[0m\u001b[0;34m\u001b[0m\u001b[0m\n",
      "\u001b[0;32m~/opt/anaconda3/lib/python3.7/site-packages/aimodelshare/__init__.py\u001b[0m in \u001b[0;36m<module>\u001b[0;34m\u001b[0m\n\u001b[1;32m      2\u001b[0m \u001b[0;34m\u001b[0m\u001b[0m\n\u001b[1;32m      3\u001b[0m \u001b[0;31m#  from .model import submit_model, create_model_graph\u001b[0m\u001b[0;34m\u001b[0m\u001b[0;34m\u001b[0m\u001b[0;34m\u001b[0m\u001b[0m\n\u001b[0;32m----> 4\u001b[0;31m \u001b[0;32mfrom\u001b[0m \u001b[0;34m.\u001b[0m\u001b[0mmodel\u001b[0m \u001b[0;32mimport\u001b[0m \u001b[0msubmit_model\u001b[0m\u001b[0;34m\u001b[0m\u001b[0;34m\u001b[0m\u001b[0m\n\u001b[0m\u001b[1;32m      5\u001b[0m \u001b[0;32mfrom\u001b[0m \u001b[0;34m.\u001b[0m\u001b[0mtools\u001b[0m \u001b[0;32mimport\u001b[0m \u001b[0mget_model_graph\u001b[0m\u001b[0;34m\u001b[0m\u001b[0;34m\u001b[0m\u001b[0m\n\u001b[1;32m      6\u001b[0m \u001b[0;32mfrom\u001b[0m \u001b[0;34m.\u001b[0m\u001b[0maws\u001b[0m \u001b[0;32mimport\u001b[0m \u001b[0mget_aws_token\u001b[0m\u001b[0;34m,\u001b[0m \u001b[0mget_aws_client\u001b[0m\u001b[0;34m\u001b[0m\u001b[0;34m\u001b[0m\u001b[0m\n",
      "\u001b[0;32m~/opt/anaconda3/lib/python3.7/site-packages/aimodelshare/model.py\u001b[0m in \u001b[0;36m<module>\u001b[0;34m\u001b[0m\n\u001b[1;32m     12\u001b[0m \u001b[0;32mfrom\u001b[0m \u001b[0maimodelshare\u001b[0m\u001b[0;34m.\u001b[0m\u001b[0maws\u001b[0m \u001b[0;32mimport\u001b[0m \u001b[0mget_token\u001b[0m\u001b[0;34m\u001b[0m\u001b[0;34m\u001b[0m\u001b[0m\n\u001b[1;32m     13\u001b[0m \u001b[0;34m\u001b[0m\u001b[0m\n\u001b[0;32m---> 14\u001b[0;31m \u001b[0;32mfrom\u001b[0m \u001b[0maimodelshare\u001b[0m\u001b[0;34m.\u001b[0m\u001b[0maimsonnx\u001b[0m \u001b[0;32mimport\u001b[0m \u001b[0m_get_leaderboard_data\u001b[0m\u001b[0;34m\u001b[0m\u001b[0;34m\u001b[0m\u001b[0m\n\u001b[0m\u001b[1;32m     15\u001b[0m \u001b[0;34m\u001b[0m\u001b[0m\n\u001b[1;32m     16\u001b[0m \u001b[0;34m\u001b[0m\u001b[0m\n",
      "\u001b[0;32m~/opt/anaconda3/lib/python3.7/site-packages/aimodelshare/aimsonnx.py\u001b[0m in \u001b[0;36m<module>\u001b[0;34m\u001b[0m\n\u001b[1;32m     16\u001b[0m \u001b[0;32mfrom\u001b[0m \u001b[0mkeras2onnx\u001b[0m \u001b[0;32mimport\u001b[0m \u001b[0mconvert_keras\u001b[0m\u001b[0;34m\u001b[0m\u001b[0;34m\u001b[0m\u001b[0m\n\u001b[1;32m     17\u001b[0m \u001b[0;32mfrom\u001b[0m \u001b[0mtorch\u001b[0m\u001b[0;34m.\u001b[0m\u001b[0monnx\u001b[0m \u001b[0;32mimport\u001b[0m \u001b[0mexport\u001b[0m\u001b[0;34m\u001b[0m\u001b[0;34m\u001b[0m\u001b[0m\n\u001b[0;32m---> 18\u001b[0;31m \u001b[0;32mfrom\u001b[0m \u001b[0monnx\u001b[0m\u001b[0;34m.\u001b[0m\u001b[0mtools\u001b[0m\u001b[0;34m.\u001b[0m\u001b[0mnet_drawer\u001b[0m \u001b[0;32mimport\u001b[0m \u001b[0mGetPydotGraph\u001b[0m\u001b[0;34m,\u001b[0m \u001b[0mGetOpNodeProducer\u001b[0m\u001b[0;34m\u001b[0m\u001b[0;34m\u001b[0m\u001b[0m\n\u001b[0m\u001b[1;32m     19\u001b[0m \u001b[0;34m\u001b[0m\u001b[0m\n\u001b[1;32m     20\u001b[0m \u001b[0;31m# os etc\u001b[0m\u001b[0;34m\u001b[0m\u001b[0;34m\u001b[0m\u001b[0;34m\u001b[0m\u001b[0m\n",
      "\u001b[0;32m~/opt/anaconda3/lib/python3.7/site-packages/onnx/tools/net_drawer.py\u001b[0m in \u001b[0;36m<module>\u001b[0;34m\u001b[0m\n\u001b[1;32m     20\u001b[0m \u001b[0;32mimport\u001b[0m \u001b[0mjson\u001b[0m\u001b[0;34m\u001b[0m\u001b[0;34m\u001b[0m\u001b[0m\n\u001b[1;32m     21\u001b[0m \u001b[0;32mfrom\u001b[0m \u001b[0monnx\u001b[0m \u001b[0;32mimport\u001b[0m \u001b[0mModelProto\u001b[0m\u001b[0;34m,\u001b[0m \u001b[0mGraphProto\u001b[0m\u001b[0;34m,\u001b[0m \u001b[0mNodeProto\u001b[0m\u001b[0;34m\u001b[0m\u001b[0;34m\u001b[0m\u001b[0m\n\u001b[0;32m---> 22\u001b[0;31m \u001b[0;32mimport\u001b[0m \u001b[0mpydot\u001b[0m  \u001b[0;31m# type: ignore\u001b[0m\u001b[0;34m\u001b[0m\u001b[0;34m\u001b[0m\u001b[0m\n\u001b[0m\u001b[1;32m     23\u001b[0m \u001b[0;32mfrom\u001b[0m \u001b[0mtyping\u001b[0m \u001b[0;32mimport\u001b[0m \u001b[0mText\u001b[0m\u001b[0;34m,\u001b[0m \u001b[0mAny\u001b[0m\u001b[0;34m,\u001b[0m \u001b[0mCallable\u001b[0m\u001b[0;34m,\u001b[0m \u001b[0mOptional\u001b[0m\u001b[0;34m,\u001b[0m \u001b[0mDict\u001b[0m\u001b[0;34m\u001b[0m\u001b[0;34m\u001b[0m\u001b[0m\n\u001b[1;32m     24\u001b[0m \u001b[0;34m\u001b[0m\u001b[0m\n",
      "\u001b[0;31mModuleNotFoundError\u001b[0m: No module named 'pydot'"
     ]
    }
   ],
   "source": [
    "#Save preprocessor function to local \"preprocessor.zip\" file for leaderboard submission\n",
    "import aimodelshare as ai\n",
    "ai.export_preprocessor(preprocessor,\"\")"
   ]
  },
  {
   "cell_type": "code",
   "execution_count": null,
   "metadata": {},
   "outputs": [],
   "source": [
    "from aimodelshare.aimsonnx import model_to_onnx\n",
    "# transform sklearn model to ONNX\n",
    "onnx_model_keras= model_to_onnx(NN, framework='keras', \n",
    "                                   transfer_learning=False,\n",
    "                                   deep_learning=True,\n",
    "                                   task_type='classification')\n",
    "\n",
    "# Save model to local .onnx file\n",
    "with open(\"onnx_model_keras.onnx\", \"wb\") as f:\n",
    "    f.write(onnx_model_keras.SerializeToString())"
   ]
  },
  {
   "cell_type": "markdown",
   "metadata": {},
   "source": [
    "## Model Submission"
   ]
  },
  {
   "cell_type": "code",
   "execution_count": 68,
   "metadata": {},
   "outputs": [
    {
     "ename": "NameError",
     "evalue": "name 'ai' is not defined",
     "output_type": "error",
     "traceback": [
      "\u001b[0;31m---------------------------------------------------------------------------\u001b[0m",
      "\u001b[0;31mNameError\u001b[0m                                 Traceback (most recent call last)",
      "\u001b[0;32m<ipython-input-68-cf3eec8bee2c>\u001b[0m in \u001b[0;36m<module>\u001b[0;34m\u001b[0m\n\u001b[1;32m      9\u001b[0m     \u001b[0maws_key\u001b[0m\u001b[0;34m,\u001b[0m\u001b[0maws_password\u001b[0m\u001b[0;34m,\u001b[0m\u001b[0mregion\u001b[0m \u001b[0;34m=\u001b[0m \u001b[0mpickle\u001b[0m\u001b[0;34m.\u001b[0m\u001b[0mload\u001b[0m\u001b[0;34m(\u001b[0m\u001b[0mfile\u001b[0m\u001b[0;34m)\u001b[0m\u001b[0;34m\u001b[0m\u001b[0;34m\u001b[0m\u001b[0m\n\u001b[1;32m     10\u001b[0m \u001b[0;34m\u001b[0m\u001b[0m\n\u001b[0;32m---> 11\u001b[0;31m \u001b[0mtoken\u001b[0m\u001b[0;34m=\u001b[0m\u001b[0mai\u001b[0m\u001b[0;34m.\u001b[0m\u001b[0maws\u001b[0m\u001b[0;34m.\u001b[0m\u001b[0mget_aws_token\u001b[0m\u001b[0;34m(\u001b[0m\u001b[0musername\u001b[0m\u001b[0;34m,\u001b[0m \u001b[0mpassword\u001b[0m\u001b[0;34m)\u001b[0m\u001b[0;34m\u001b[0m\u001b[0;34m\u001b[0m\u001b[0m\n\u001b[0m\u001b[1;32m     12\u001b[0m \u001b[0mawscreds\u001b[0m\u001b[0;34m=\u001b[0m\u001b[0mai\u001b[0m\u001b[0;34m.\u001b[0m\u001b[0maws\u001b[0m\u001b[0;34m.\u001b[0m\u001b[0mget_aws_client\u001b[0m\u001b[0;34m(\u001b[0m\u001b[0maws_key\u001b[0m\u001b[0;34m=\u001b[0m\u001b[0maws_key\u001b[0m\u001b[0;34m,\u001b[0m \u001b[0maws_secret\u001b[0m\u001b[0;34m=\u001b[0m\u001b[0maws_password\u001b[0m\u001b[0;34m,\u001b[0m \u001b[0maws_region\u001b[0m\u001b[0;34m=\u001b[0m\u001b[0mregion\u001b[0m\u001b[0;34m)\u001b[0m\u001b[0;34m\u001b[0m\u001b[0;34m\u001b[0m\u001b[0m\n",
      "\u001b[0;31mNameError\u001b[0m: name 'ai' is not defined"
     ]
    }
   ],
   "source": [
    "\n",
    "#aimodelshare username and password\n",
    "username = \"xuejingli\"\n",
    "password = \"ABc@@1997\"\n",
    "\n",
    "# load submit model creds (only gives access to s3 bucket)\n",
    "# Load from pkl file\n",
    "import pickle\n",
    "with open(\"aws_creds_worldhappiness.pkl\", 'rb') as file:\n",
    "    aws_key,aws_password,region = pickle.load(file)\n",
    "\n",
    "token=ai.aws.get_aws_token(username, password)\n",
    "awscreds=ai.aws.get_aws_client(aws_key=aws_key, aws_secret=aws_password, aws_region=region)"
   ]
  },
  {
   "cell_type": "code",
   "execution_count": null,
   "metadata": {},
   "outputs": [],
   "source": [
    "# Submit_model() to leaderboard\n",
    "ai.submit_model(\"onnx_model_keras.onnx\",\n",
    "                \"https://z69mxrxdz5.execute-api.us-east-1.amazonaws.com/prod/m\",\n",
    "                token,awscreds,prediction_submission=predicted_labels,\n",
    "                preprocessor=\"preprocessor.zip\")"
   ]
  },
  {
   "cell_type": "markdown",
   "metadata": {},
   "source": [
    "### Link to Github Repo: https://github.com/GraceXuejingLi/MLProject2021\n"
   ]
  },
  {
   "cell_type": "markdown",
   "metadata": {},
   "source": []
  }
 ],
 "metadata": {
  "kernelspec": {
   "display_name": "Python 3",
   "language": "python",
   "name": "python3"
  },
  "language_info": {
   "codemirror_mode": {
    "name": "ipython",
    "version": 3
   },
   "file_extension": ".py",
   "mimetype": "text/x-python",
   "name": "python",
   "nbconvert_exporter": "python",
   "pygments_lexer": "ipython3",
   "version": "3.7.6"
  }
 },
 "nbformat": 4,
 "nbformat_minor": 4
}
